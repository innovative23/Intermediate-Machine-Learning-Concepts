{
 "cells": [
  {
   "cell_type": "markdown",
   "id": "76f92831",
   "metadata": {
    "papermill": {
     "duration": 0.004939,
     "end_time": "2025-03-14T20:23:31.451295",
     "exception": false,
     "start_time": "2025-03-14T20:23:31.446356",
     "status": "completed"
    },
    "tags": []
   },
   "source": [
    "**This notebook is an exercise in the [Python](https://www.kaggle.com/learn/python) course.  You can reference the tutorial at [this link](https://www.kaggle.com/colinmorris/lists).**\n",
    "\n",
    "---\n"
   ]
  },
  {
   "cell_type": "markdown",
   "id": "fa367e4d",
   "metadata": {
    "papermill": {
     "duration": 0.003776,
     "end_time": "2025-03-14T20:23:31.459370",
     "exception": false,
     "start_time": "2025-03-14T20:23:31.455594",
     "status": "completed"
    },
    "tags": []
   },
   "source": [
    "Things get more interesting with lists. You'll apply your new knowledge to solve the questions below. Remember to run the following cell first."
   ]
  },
  {
   "cell_type": "code",
   "execution_count": 1,
   "id": "7da32944",
   "metadata": {
    "execution": {
     "iopub.execute_input": "2025-03-14T20:23:31.468915Z",
     "iopub.status.busy": "2025-03-14T20:23:31.468405Z",
     "iopub.status.idle": "2025-03-14T20:23:32.612447Z",
     "shell.execute_reply": "2025-03-14T20:23:32.611066Z"
    },
    "papermill": {
     "duration": 1.150968,
     "end_time": "2025-03-14T20:23:32.614354",
     "exception": false,
     "start_time": "2025-03-14T20:23:31.463386",
     "status": "completed"
    },
    "tags": []
   },
   "outputs": [
    {
     "name": "stdout",
     "output_type": "stream",
     "text": [
      "Setup complete.\n"
     ]
    }
   ],
   "source": [
    "from learntools.core import binder; binder.bind(globals())\n",
    "from learntools.python.ex4 import *\n",
    "print('Setup complete.')"
   ]
  },
  {
   "cell_type": "markdown",
   "id": "3a716e8b",
   "metadata": {
    "papermill": {
     "duration": 0.004529,
     "end_time": "2025-03-14T20:23:32.624078",
     "exception": false,
     "start_time": "2025-03-14T20:23:32.619549",
     "status": "completed"
    },
    "tags": []
   },
   "source": [
    "# 1.\n",
    "\n",
    "Complete the function below according to its docstring."
   ]
  },
  {
   "cell_type": "code",
   "execution_count": 2,
   "id": "5558959e",
   "metadata": {
    "execution": {
     "iopub.execute_input": "2025-03-14T20:23:32.634374Z",
     "iopub.status.busy": "2025-03-14T20:23:32.633735Z",
     "iopub.status.idle": "2025-03-14T20:23:32.644562Z",
     "shell.execute_reply": "2025-03-14T20:23:32.643432Z"
    },
    "papermill": {
     "duration": 0.01798,
     "end_time": "2025-03-14T20:23:32.646418",
     "exception": false,
     "start_time": "2025-03-14T20:23:32.628438",
     "status": "completed"
    },
    "tags": []
   },
   "outputs": [
    {
     "data": {
      "application/javascript": [
       "parent.postMessage({\"jupyterEvent\": \"custom.exercise_interaction\", \"data\": {\"outcomeType\": 1, \"valueTowardsCompletion\": 0.2, \"interactionType\": 1, \"questionType\": 2, \"questionId\": \"1_SelectSecondItem\", \"learnToolsVersion\": \"0.3.4\", \"failureMessage\": \"\", \"exceptionClass\": \"\", \"trace\": \"\"}}, \"*\")"
      ],
      "text/plain": [
       "<IPython.core.display.Javascript object>"
      ]
     },
     "metadata": {},
     "output_type": "display_data"
    },
    {
     "data": {
      "text/markdown": [
       "<span style=\"color:#33cc33\">Correct</span>"
      ],
      "text/plain": [
       "Correct"
      ]
     },
     "metadata": {},
     "output_type": "display_data"
    }
   ],
   "source": [
    "def select_second(L):\n",
    "    \"\"\"Return the second element of the given list. If the list has no second\n",
    "    element, return None.\n",
    "    \"\"\"\n",
    "    if len(L) > 1:\n",
    "        return L[1]\n",
    "    else:\n",
    "        return None\n",
    "    \n",
    "# Check your answer\n",
    "q1.check()"
   ]
  },
  {
   "cell_type": "code",
   "execution_count": 3,
   "id": "90ae1286",
   "metadata": {
    "execution": {
     "iopub.execute_input": "2025-03-14T20:23:32.657439Z",
     "iopub.status.busy": "2025-03-14T20:23:32.657096Z",
     "iopub.status.idle": "2025-03-14T20:23:32.664332Z",
     "shell.execute_reply": "2025-03-14T20:23:32.663133Z"
    },
    "papermill": {
     "duration": 0.014279,
     "end_time": "2025-03-14T20:23:32.666028",
     "exception": false,
     "start_time": "2025-03-14T20:23:32.651749",
     "status": "completed"
    },
    "tags": []
   },
   "outputs": [
    {
     "data": {
      "application/javascript": [
       "parent.postMessage({\"jupyterEvent\": \"custom.exercise_interaction\", \"data\": {\"interactionType\": 3, \"questionType\": 2, \"questionId\": \"1_SelectSecondItem\", \"learnToolsVersion\": \"0.3.4\", \"valueTowardsCompletion\": 0.0, \"failureMessage\": \"\", \"exceptionClass\": \"\", \"trace\": \"\", \"outcomeType\": 4}}, \"*\")"
      ],
      "text/plain": [
       "<IPython.core.display.Javascript object>"
      ]
     },
     "metadata": {},
     "output_type": "display_data"
    },
    {
     "data": {
      "text/markdown": [
       "<span style=\"color:#33cc99\">Solution:</span> \n",
       "```python\n",
       "def select_second(L):\n",
       "    if len(L) < 2:\n",
       "        return None\n",
       "    return L[1]\n",
       "```"
      ],
      "text/plain": [
       "Solution: \n",
       "```python\n",
       "def select_second(L):\n",
       "    if len(L) < 2:\n",
       "        return None\n",
       "    return L[1]\n",
       "```"
      ]
     },
     "metadata": {},
     "output_type": "display_data"
    }
   ],
   "source": [
    "#q1.hint()\n",
    "q1.solution()"
   ]
  },
  {
   "cell_type": "markdown",
   "id": "afcb0ee7",
   "metadata": {
    "papermill": {
     "duration": 0.004514,
     "end_time": "2025-03-14T20:23:32.675281",
     "exception": false,
     "start_time": "2025-03-14T20:23:32.670767",
     "status": "completed"
    },
    "tags": []
   },
   "source": [
    "# 2.\n",
    "\n",
    "You are analyzing sports teams.  Members of each team are stored in a list. The Coach is the first name in the list, the captain is the second name in the list, and other players are listed after that. \n",
    "These lists are stored in another list, which starts with the best team and proceeds through the list to the worst team last.  Complete the function below to select the **captain** of the worst team."
   ]
  },
  {
   "cell_type": "code",
   "execution_count": null,
   "id": "f574e7e4",
   "metadata": {
    "papermill": {
     "duration": 0.004335,
     "end_time": "2025-03-14T20:23:32.684599",
     "exception": false,
     "start_time": "2025-03-14T20:23:32.680264",
     "status": "completed"
    },
    "tags": []
   },
   "outputs": [],
   "source": []
  },
  {
   "cell_type": "code",
   "execution_count": 4,
   "id": "1d241035",
   "metadata": {
    "execution": {
     "iopub.execute_input": "2025-03-14T20:23:32.695286Z",
     "iopub.status.busy": "2025-03-14T20:23:32.694957Z",
     "iopub.status.idle": "2025-03-14T20:23:32.703519Z",
     "shell.execute_reply": "2025-03-14T20:23:32.702284Z"
    },
    "papermill": {
     "duration": 0.015921,
     "end_time": "2025-03-14T20:23:32.705276",
     "exception": false,
     "start_time": "2025-03-14T20:23:32.689355",
     "status": "completed"
    },
    "tags": []
   },
   "outputs": [
    {
     "data": {
      "application/javascript": [
       "parent.postMessage({\"jupyterEvent\": \"custom.exercise_interaction\", \"data\": {\"outcomeType\": 1, \"valueTowardsCompletion\": 0.2, \"interactionType\": 1, \"questionType\": 2, \"questionId\": \"2_LosingTeamCaptain\", \"learnToolsVersion\": \"0.3.4\", \"failureMessage\": \"\", \"exceptionClass\": \"\", \"trace\": \"\"}}, \"*\")"
      ],
      "text/plain": [
       "<IPython.core.display.Javascript object>"
      ]
     },
     "metadata": {},
     "output_type": "display_data"
    },
    {
     "data": {
      "text/markdown": [
       "<span style=\"color:#33cc33\">Correct</span>"
      ],
      "text/plain": [
       "Correct"
      ]
     },
     "metadata": {},
     "output_type": "display_data"
    }
   ],
   "source": [
    "def losing_team_captain(teams):\n",
    "    \"\"\"Given a list of teams, where each team is a list of names, return the 2nd player (captain)\n",
    "    from the last listed team\n",
    "    \"\"\"\n",
    "    return teams[-1][1]\n",
    "\n",
    "# Check your answer\n",
    "q2.check()"
   ]
  },
  {
   "cell_type": "code",
   "execution_count": 5,
   "id": "7585ec4e",
   "metadata": {
    "execution": {
     "iopub.execute_input": "2025-03-14T20:23:32.717884Z",
     "iopub.status.busy": "2025-03-14T20:23:32.717486Z",
     "iopub.status.idle": "2025-03-14T20:23:32.721450Z",
     "shell.execute_reply": "2025-03-14T20:23:32.720339Z"
    },
    "papermill": {
     "duration": 0.012425,
     "end_time": "2025-03-14T20:23:32.723437",
     "exception": false,
     "start_time": "2025-03-14T20:23:32.711012",
     "status": "completed"
    },
    "tags": []
   },
   "outputs": [],
   "source": [
    "#q2.hint()\n",
    "#q2.solution()"
   ]
  },
  {
   "cell_type": "markdown",
   "id": "a007fb3b",
   "metadata": {
    "papermill": {
     "duration": 0.00471,
     "end_time": "2025-03-14T20:23:32.733397",
     "exception": false,
     "start_time": "2025-03-14T20:23:32.728687",
     "status": "completed"
    },
    "tags": []
   },
   "source": [
    "# 3.\n",
    "\n",
    "The next iteration of Mario Kart will feature an extra-infuriating new item, the *Purple Shell*. When used, it warps the last place racer into first place and the first place racer into last place. Complete the function below to implement the Purple Shell's effect."
   ]
  },
  {
   "cell_type": "code",
   "execution_count": 6,
   "id": "cc91c0fa",
   "metadata": {
    "execution": {
     "iopub.execute_input": "2025-03-14T20:23:32.745169Z",
     "iopub.status.busy": "2025-03-14T20:23:32.744723Z",
     "iopub.status.idle": "2025-03-14T20:23:32.752889Z",
     "shell.execute_reply": "2025-03-14T20:23:32.751878Z"
    },
    "papermill": {
     "duration": 0.015952,
     "end_time": "2025-03-14T20:23:32.754533",
     "exception": false,
     "start_time": "2025-03-14T20:23:32.738581",
     "status": "completed"
    },
    "tags": []
   },
   "outputs": [
    {
     "data": {
      "application/javascript": [
       "parent.postMessage({\"jupyterEvent\": \"custom.exercise_interaction\", \"data\": {\"outcomeType\": 1, \"valueTowardsCompletion\": 0.2, \"interactionType\": 1, \"questionType\": 2, \"questionId\": \"3_PurpleShell\", \"learnToolsVersion\": \"0.3.4\", \"failureMessage\": \"\", \"exceptionClass\": \"\", \"trace\": \"\"}}, \"*\")"
      ],
      "text/plain": [
       "<IPython.core.display.Javascript object>"
      ]
     },
     "metadata": {},
     "output_type": "display_data"
    },
    {
     "data": {
      "text/markdown": [
       "<span style=\"color:#33cc33\">Correct</span>"
      ],
      "text/plain": [
       "Correct"
      ]
     },
     "metadata": {},
     "output_type": "display_data"
    }
   ],
   "source": [
    "def purple_shell(racers):\n",
    "    \"\"\"Given a list of racers, set the first place racer (at the front of the list) to last\n",
    "    place and vice versa.\n",
    "    \n",
    "    >>> r = [\"Mario\", \"Bowser\", \"Luigi\"]\n",
    "    >>> purple_shell(r)\n",
    "    >>> r\n",
    "    [\"Luigi\", \"Bowser\", \"Mario\"]\n",
    "    \"\"\"\n",
    "    racers[0], racers[-1] = racers[-1],racers[0]\n",
    "\n",
    "# Check your answer\n",
    "q3.check()"
   ]
  },
  {
   "cell_type": "code",
   "execution_count": 7,
   "id": "02bc51b3",
   "metadata": {
    "execution": {
     "iopub.execute_input": "2025-03-14T20:23:32.766748Z",
     "iopub.status.busy": "2025-03-14T20:23:32.766283Z",
     "iopub.status.idle": "2025-03-14T20:23:32.770442Z",
     "shell.execute_reply": "2025-03-14T20:23:32.769177Z"
    },
    "papermill": {
     "duration": 0.012604,
     "end_time": "2025-03-14T20:23:32.772486",
     "exception": false,
     "start_time": "2025-03-14T20:23:32.759882",
     "status": "completed"
    },
    "tags": []
   },
   "outputs": [],
   "source": [
    "#q3.hint()\n",
    "#q3.solution()"
   ]
  },
  {
   "cell_type": "markdown",
   "id": "28e9e0e0",
   "metadata": {
    "papermill": {
     "duration": 0.005263,
     "end_time": "2025-03-14T20:23:32.783053",
     "exception": false,
     "start_time": "2025-03-14T20:23:32.777790",
     "status": "completed"
    },
    "tags": []
   },
   "source": [
    "# 4.\n",
    "\n",
    "What are the lengths of the following lists? Fill in the variable `lengths` with your predictions. (Try to make a prediction for each list *without* just calling `len()` on it.)"
   ]
  },
  {
   "cell_type": "code",
   "execution_count": 8,
   "id": "50a49b3d",
   "metadata": {
    "execution": {
     "iopub.execute_input": "2025-03-14T20:23:32.794492Z",
     "iopub.status.busy": "2025-03-14T20:23:32.794123Z",
     "iopub.status.idle": "2025-03-14T20:23:32.804460Z",
     "shell.execute_reply": "2025-03-14T20:23:32.803187Z"
    },
    "papermill": {
     "duration": 0.018332,
     "end_time": "2025-03-14T20:23:32.806478",
     "exception": false,
     "start_time": "2025-03-14T20:23:32.788146",
     "status": "completed"
    },
    "tags": []
   },
   "outputs": [
    {
     "data": {
      "application/javascript": [
       "parent.postMessage({\"jupyterEvent\": \"custom.exercise_interaction\", \"data\": {\"outcomeType\": 1, \"valueTowardsCompletion\": 0.2, \"interactionType\": 1, \"questionType\": 1, \"questionId\": \"4_UnderstandLen\", \"learnToolsVersion\": \"0.3.4\", \"failureMessage\": \"\", \"exceptionClass\": \"\", \"trace\": \"\"}}, \"*\")"
      ],
      "text/plain": [
       "<IPython.core.display.Javascript object>"
      ]
     },
     "metadata": {},
     "output_type": "display_data"
    },
    {
     "data": {
      "text/markdown": [
       "<span style=\"color:#33cc33\">Correct:</span> \n",
       "\n",
       "\n",
       "- a: There are three items in this list. Nothing tricky yet.\n",
       "- b: The list `[2, 3]` counts as a single item. It has one item before it. So we have 2 items in the list\n",
       "- c: The empty list has 0 items\n",
       "- d: The expression is the same as the list `[2, 3]`, which has length 2."
      ],
      "text/plain": [
       "Correct: \n",
       "\n",
       "\n",
       "- a: There are three items in this list. Nothing tricky yet.\n",
       "- b: The list `[2, 3]` counts as a single item. It has one item before it. So we have 2 items in the list\n",
       "- c: The empty list has 0 items\n",
       "- d: The expression is the same as the list `[2, 3]`, which has length 2."
      ]
     },
     "metadata": {},
     "output_type": "display_data"
    }
   ],
   "source": [
    "a = [1, 2, 3]\n",
    "b = [1, [2, 3]]\n",
    "c = []\n",
    "d = [1, 2, 3][1:]\n",
    "\n",
    "# Put your predictions in the list below. Lengths should contain 4 numbers, the\n",
    "# first being the length of a, the second being the length of b and so on.\n",
    "lengths = [3,2,0,2]\n",
    "\n",
    "# Check your answer\n",
    "q4.check()"
   ]
  },
  {
   "cell_type": "code",
   "execution_count": 9,
   "id": "93ad2baa",
   "metadata": {
    "execution": {
     "iopub.execute_input": "2025-03-14T20:23:32.819223Z",
     "iopub.status.busy": "2025-03-14T20:23:32.818798Z",
     "iopub.status.idle": "2025-03-14T20:23:32.824344Z",
     "shell.execute_reply": "2025-03-14T20:23:32.822905Z"
    },
    "papermill": {
     "duration": 0.01483,
     "end_time": "2025-03-14T20:23:32.826996",
     "exception": false,
     "start_time": "2025-03-14T20:23:32.812166",
     "status": "completed"
    },
    "tags": []
   },
   "outputs": [],
   "source": [
    "# line below provides some explanation\n",
    "#q4.solution()"
   ]
  },
  {
   "cell_type": "markdown",
   "id": "f5c5fa51",
   "metadata": {
    "papermill": {
     "duration": 0.006099,
     "end_time": "2025-03-14T20:23:32.839309",
     "exception": false,
     "start_time": "2025-03-14T20:23:32.833210",
     "status": "completed"
    },
    "tags": []
   },
   "source": [
    "# 5. <span title=\"A bit spicy\" style=\"color: darkgreen \">🌶️</span>\n",
    "\n",
    "We're using lists to record people who attended our party and what order they arrived in. For example, the following list represents a party with 7 guests, in which Adela showed up first and Ford was the last to arrive:\n",
    "\n",
    "    party_attendees = ['Adela', 'Fleda', 'Owen', 'May', 'Mona', 'Gilbert', 'Ford']\n",
    "\n",
    "A guest is considered 'fashionably late' if they arrived after at least half of the party's guests. However, they must not be the very last guest (that's taking it too far). In the above example, Mona and Gilbert are the only guests who were fashionably late.\n",
    "\n",
    "Complete the function below which takes a list of party attendees as well as a person, and tells us whether that person is fashionably late."
   ]
  },
  {
   "cell_type": "code",
   "execution_count": 10,
   "id": "b07dbe2d",
   "metadata": {
    "execution": {
     "iopub.execute_input": "2025-03-14T20:23:32.853382Z",
     "iopub.status.busy": "2025-03-14T20:23:32.853008Z",
     "iopub.status.idle": "2025-03-14T20:23:32.862715Z",
     "shell.execute_reply": "2025-03-14T20:23:32.861773Z"
    },
    "papermill": {
     "duration": 0.018083,
     "end_time": "2025-03-14T20:23:32.864339",
     "exception": false,
     "start_time": "2025-03-14T20:23:32.846256",
     "status": "completed"
    },
    "tags": []
   },
   "outputs": [
    {
     "data": {
      "application/javascript": [
       "parent.postMessage({\"jupyterEvent\": \"custom.exercise_interaction\", \"data\": {\"outcomeType\": 1, \"valueTowardsCompletion\": 0.2, \"interactionType\": 1, \"questionType\": 2, \"questionId\": \"5_FashionablyLate\", \"learnToolsVersion\": \"0.3.4\", \"failureMessage\": \"\", \"exceptionClass\": \"\", \"trace\": \"\"}}, \"*\")"
      ],
      "text/plain": [
       "<IPython.core.display.Javascript object>"
      ]
     },
     "metadata": {},
     "output_type": "display_data"
    },
    {
     "data": {
      "text/markdown": [
       "<span style=\"color:#33cc33\">Correct</span>"
      ],
      "text/plain": [
       "Correct"
      ]
     },
     "metadata": {},
     "output_type": "display_data"
    }
   ],
   "source": [
    "def fashionably_late(arrivals, name):\n",
    "    \"\"\"Given an ordered list of arrivals to the party and a name, return whether the guest with that\n",
    "    name was fashionably late.\n",
    "    \"\"\"\n",
    "    if name == arrivals[-1]:\n",
    "        return False\n",
    "    num_of_guests = len(arrivals)\n",
    "    name_index = arrivals.index(name)\n",
    "    return name_index >= num_of_guests / 2\n",
    "\n",
    "# Check your answer\n",
    "q5.check()"
   ]
  },
  {
   "cell_type": "code",
   "execution_count": 11,
   "id": "93c20556",
   "metadata": {
    "execution": {
     "iopub.execute_input": "2025-03-14T20:23:32.877896Z",
     "iopub.status.busy": "2025-03-14T20:23:32.877503Z",
     "iopub.status.idle": "2025-03-14T20:23:32.882029Z",
     "shell.execute_reply": "2025-03-14T20:23:32.881010Z"
    },
    "papermill": {
     "duration": 0.012924,
     "end_time": "2025-03-14T20:23:32.883784",
     "exception": false,
     "start_time": "2025-03-14T20:23:32.870860",
     "status": "completed"
    },
    "tags": []
   },
   "outputs": [],
   "source": [
    "#q5.hint()\n",
    "#q5.solution()"
   ]
  },
  {
   "cell_type": "markdown",
   "id": "d07342fa",
   "metadata": {
    "papermill": {
     "duration": 0.005981,
     "end_time": "2025-03-14T20:23:32.896344",
     "exception": false,
     "start_time": "2025-03-14T20:23:32.890363",
     "status": "completed"
    },
    "tags": []
   },
   "source": [
    "# Keep Going\n",
    "\n",
    "That's it for lists and tuples! Now you have the baseline knowledge to **[learn about loops](https://www.kaggle.com/colinmorris/loops-and-list-comprehensions)**, which is where lists and tuples get really interesting. "
   ]
  },
  {
   "cell_type": "markdown",
   "id": "33cccd73",
   "metadata": {
    "papermill": {
     "duration": 0.006157,
     "end_time": "2025-03-14T20:23:32.909453",
     "exception": false,
     "start_time": "2025-03-14T20:23:32.903296",
     "status": "completed"
    },
    "tags": []
   },
   "source": [
    "---\n",
    "\n",
    "\n",
    "\n",
    "\n",
    "*Have questions or comments? Visit the [course discussion forum](https://www.kaggle.com/learn/python/discussion) to chat with other learners.*"
   ]
  }
 ],
 "metadata": {
  "kaggle": {
   "accelerator": "none",
   "dataSources": [],
   "isGpuEnabled": false,
   "isInternetEnabled": false,
   "language": "python",
   "sourceType": "notebook"
  },
  "kernelspec": {
   "display_name": "Python 3",
   "language": "python",
   "name": "python3"
  },
  "language_info": {
   "codemirror_mode": {
    "name": "ipython",
    "version": 3
   },
   "file_extension": ".py",
   "mimetype": "text/x-python",
   "name": "python",
   "nbconvert_exporter": "python",
   "pygments_lexer": "ipython3",
   "version": "3.10.12"
  },
  "papermill": {
   "default_parameters": {},
   "duration": 5.13462,
   "end_time": "2025-03-14T20:23:33.538513",
   "environment_variables": {},
   "exception": null,
   "input_path": "__notebook__.ipynb",
   "output_path": "__notebook__.ipynb",
   "parameters": {},
   "start_time": "2025-03-14T20:23:28.403893",
   "version": "2.6.0"
  }
 },
 "nbformat": 4,
 "nbformat_minor": 5
}
