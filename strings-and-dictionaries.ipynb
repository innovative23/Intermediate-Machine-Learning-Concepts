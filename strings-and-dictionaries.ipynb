{
 "cells": [
  {
   "cell_type": "markdown",
   "id": "a90dd8e3",
   "metadata": {
    "papermill": {
     "duration": 0.012795,
     "end_time": "2025-03-14T20:33:27.689359",
     "exception": false,
     "start_time": "2025-03-14T20:33:27.676564",
     "status": "completed"
    },
    "tags": []
   },
   "source": [
    "This lesson will cover two essential Python types: **strings** and **dictionaries**."
   ]
  },
  {
   "cell_type": "markdown",
   "id": "0604a109",
   "metadata": {
    "papermill": {
     "duration": 0.010529,
     "end_time": "2025-03-14T20:33:27.711070",
     "exception": false,
     "start_time": "2025-03-14T20:33:27.700541",
     "status": "completed"
    },
    "tags": []
   },
   "source": [
    "# Strings"
   ]
  },
  {
   "cell_type": "markdown",
   "id": "907769e7",
   "metadata": {
    "papermill": {
     "duration": 0.01031,
     "end_time": "2025-03-14T20:33:27.732117",
     "exception": false,
     "start_time": "2025-03-14T20:33:27.721807",
     "status": "completed"
    },
    "tags": []
   },
   "source": [
    "One place where the Python language really shines is in the manipulation of strings.\n",
    "This section will cover some of Python's built-in string methods and formatting operations.\n",
    "\n",
    "Such string manipulation patterns come up often in the context of data science work.\n",
    "\n",
    "## String syntax\n",
    "\n",
    "You've already seen plenty of strings in examples during the previous lessons, but just to recap, strings in Python can be defined using either single or double quotations. They are functionally equivalent."
   ]
  },
  {
   "cell_type": "code",
   "execution_count": 1,
   "id": "4827612b",
   "metadata": {
    "execution": {
     "iopub.execute_input": "2025-03-14T20:33:27.754815Z",
     "iopub.status.busy": "2025-03-14T20:33:27.754485Z",
     "iopub.status.idle": "2025-03-14T20:33:27.763562Z",
     "shell.execute_reply": "2025-03-14T20:33:27.762338Z"
    },
    "papermill": {
     "duration": 0.022775,
     "end_time": "2025-03-14T20:33:27.765465",
     "exception": false,
     "start_time": "2025-03-14T20:33:27.742690",
     "status": "completed"
    },
    "tags": []
   },
   "outputs": [
    {
     "data": {
      "text/plain": [
       "True"
      ]
     },
     "execution_count": 1,
     "metadata": {},
     "output_type": "execute_result"
    }
   ],
   "source": [
    "x = 'Pluto is a planet'\n",
    "y = \"Pluto is a planet\"\n",
    "x == y"
   ]
  },
  {
   "cell_type": "markdown",
   "id": "af54b0d7",
   "metadata": {
    "papermill": {
     "duration": 0.010636,
     "end_time": "2025-03-14T20:33:27.787201",
     "exception": false,
     "start_time": "2025-03-14T20:33:27.776565",
     "status": "completed"
    },
    "tags": []
   },
   "source": [
    "Double quotes are convenient if your string contains a single quote character (e.g. representing an apostrophe).\n",
    "\n",
    "Similarly, it's easy to create a string that contains double-quotes if you wrap it in single quotes:"
   ]
  },
  {
   "cell_type": "code",
   "execution_count": 2,
   "id": "5def2774",
   "metadata": {
    "execution": {
     "iopub.execute_input": "2025-03-14T20:33:27.811386Z",
     "iopub.status.busy": "2025-03-14T20:33:27.810973Z",
     "iopub.status.idle": "2025-03-14T20:33:27.817025Z",
     "shell.execute_reply": "2025-03-14T20:33:27.815556Z"
    },
    "papermill": {
     "duration": 0.020391,
     "end_time": "2025-03-14T20:33:27.818833",
     "exception": false,
     "start_time": "2025-03-14T20:33:27.798442",
     "status": "completed"
    },
    "tags": []
   },
   "outputs": [
    {
     "name": "stdout",
     "output_type": "stream",
     "text": [
      "Pluto's a planet!\n",
      "My dog is named \"Pluto\"\n"
     ]
    }
   ],
   "source": [
    "print(\"Pluto's a planet!\")\n",
    "print('My dog is named \"Pluto\"')"
   ]
  },
  {
   "cell_type": "markdown",
   "id": "496e2bfe",
   "metadata": {
    "papermill": {
     "duration": 0.010785,
     "end_time": "2025-03-14T20:33:27.841269",
     "exception": false,
     "start_time": "2025-03-14T20:33:27.830484",
     "status": "completed"
    },
    "tags": []
   },
   "source": [
    "If we try to put a single quote character inside a single-quoted string, Python gets confused:"
   ]
  },
  {
   "cell_type": "code",
   "execution_count": 3,
   "id": "09a2d3c9",
   "metadata": {
    "execution": {
     "iopub.execute_input": "2025-03-14T20:33:27.865133Z",
     "iopub.status.busy": "2025-03-14T20:33:27.864796Z",
     "iopub.status.idle": "2025-03-14T20:33:27.869719Z",
     "shell.execute_reply": "2025-03-14T20:33:27.868303Z"
    },
    "papermill": {
     "duration": 0.019256,
     "end_time": "2025-03-14T20:33:27.871805",
     "exception": false,
     "start_time": "2025-03-14T20:33:27.852549",
     "status": "completed"
    },
    "tags": [
     "raises-exception"
    ]
   },
   "outputs": [],
   "source": [
    "#'Pluto's a planet!'"
   ]
  },
  {
   "cell_type": "markdown",
   "id": "52891bb2",
   "metadata": {
    "papermill": {
     "duration": 0.012487,
     "end_time": "2025-03-14T20:33:27.896222",
     "exception": false,
     "start_time": "2025-03-14T20:33:27.883735",
     "status": "completed"
    },
    "tags": []
   },
   "source": [
    "We can fix this by \"escaping\" the single quote with a backslash. "
   ]
  },
  {
   "cell_type": "code",
   "execution_count": 4,
   "id": "166be91c",
   "metadata": {
    "execution": {
     "iopub.execute_input": "2025-03-14T20:33:27.919456Z",
     "iopub.status.busy": "2025-03-14T20:33:27.919050Z",
     "iopub.status.idle": "2025-03-14T20:33:27.926064Z",
     "shell.execute_reply": "2025-03-14T20:33:27.924951Z"
    },
    "papermill": {
     "duration": 0.020983,
     "end_time": "2025-03-14T20:33:27.928204",
     "exception": false,
     "start_time": "2025-03-14T20:33:27.907221",
     "status": "completed"
    },
    "tags": []
   },
   "outputs": [
    {
     "data": {
      "text/plain": [
       "\"Pluto's a planet!\""
      ]
     },
     "execution_count": 4,
     "metadata": {},
     "output_type": "execute_result"
    }
   ],
   "source": [
    "'Pluto\\'s a planet!'"
   ]
  },
  {
   "cell_type": "markdown",
   "id": "a34ec8fa",
   "metadata": {
    "papermill": {
     "duration": 0.010583,
     "end_time": "2025-03-14T20:33:27.951660",
     "exception": false,
     "start_time": "2025-03-14T20:33:27.941077",
     "status": "completed"
    },
    "tags": []
   },
   "source": [
    "The table below summarizes some important uses of the backslash character.\n",
    "\n",
    "| What you type... | What you get | example               | `print(example)`             |\n",
    "|--------------|----------------|--------------------------------------------------------|\n",
    "| `\\'`         | `'`            | `'What\\'s up?'`         | `What's up?`                 |  \n",
    "| `\\\"`         | `\"`            | `\"That's \\\"cool\\\"\"`     | `That's \"cool\"`              |  \n",
    "| `\\\\`         | `\\`            |  `\"Look, a mountain: /\\\\\"` |  `Look, a mountain: /\\`  |\n",
    "| `\\n`        |   <br/>      |   `\"1\\n2 3\"`                       |   `1`<br/>`2 3`              |"
   ]
  },
  {
   "cell_type": "markdown",
   "id": "0947a731",
   "metadata": {
    "papermill": {
     "duration": 0.010734,
     "end_time": "2025-03-14T20:33:27.974003",
     "exception": false,
     "start_time": "2025-03-14T20:33:27.963269",
     "status": "completed"
    },
    "tags": []
   },
   "source": [
    "The last sequence, `\\n`, represents the *newline character*. It causes Python to start a new line."
   ]
  },
  {
   "cell_type": "code",
   "execution_count": 5,
   "id": "6ae7f8e4",
   "metadata": {
    "execution": {
     "iopub.execute_input": "2025-03-14T20:33:27.997296Z",
     "iopub.status.busy": "2025-03-14T20:33:27.996891Z",
     "iopub.status.idle": "2025-03-14T20:33:28.002423Z",
     "shell.execute_reply": "2025-03-14T20:33:28.001110Z"
    },
    "papermill": {
     "duration": 0.019327,
     "end_time": "2025-03-14T20:33:28.004454",
     "exception": false,
     "start_time": "2025-03-14T20:33:27.985127",
     "status": "completed"
    },
    "tags": []
   },
   "outputs": [
    {
     "name": "stdout",
     "output_type": "stream",
     "text": [
      "hello\n",
      "world\n"
     ]
    }
   ],
   "source": [
    "hello = \"hello\\nworld\"\n",
    "print(hello)"
   ]
  },
  {
   "cell_type": "markdown",
   "id": "c1f0e5d3",
   "metadata": {
    "papermill": {
     "duration": 0.01072,
     "end_time": "2025-03-14T20:33:28.027115",
     "exception": false,
     "start_time": "2025-03-14T20:33:28.016395",
     "status": "completed"
    },
    "tags": []
   },
   "source": [
    "In addition, Python's triple quote syntax for strings lets us include newlines literally (i.e. by just hitting 'Enter' on our keyboard, rather than using the special '\\n' sequence). We've already seen this in the docstrings we use to document our functions, but we can use them anywhere we want to define a string."
   ]
  },
  {
   "cell_type": "code",
   "execution_count": 6,
   "id": "ea5f1744",
   "metadata": {
    "execution": {
     "iopub.execute_input": "2025-03-14T20:33:28.050376Z",
     "iopub.status.busy": "2025-03-14T20:33:28.049997Z",
     "iopub.status.idle": "2025-03-14T20:33:28.057394Z",
     "shell.execute_reply": "2025-03-14T20:33:28.056223Z"
    },
    "papermill": {
     "duration": 0.020938,
     "end_time": "2025-03-14T20:33:28.058999",
     "exception": false,
     "start_time": "2025-03-14T20:33:28.038061",
     "status": "completed"
    },
    "tags": []
   },
   "outputs": [
    {
     "name": "stdout",
     "output_type": "stream",
     "text": [
      "hello\n",
      "world\n"
     ]
    },
    {
     "data": {
      "text/plain": [
       "True"
      ]
     },
     "execution_count": 6,
     "metadata": {},
     "output_type": "execute_result"
    }
   ],
   "source": [
    "triplequoted_hello = \"\"\"hello\n",
    "world\"\"\"\n",
    "print(triplequoted_hello)\n",
    "triplequoted_hello == hello"
   ]
  },
  {
   "cell_type": "markdown",
   "id": "482fd188",
   "metadata": {
    "papermill": {
     "duration": 0.010724,
     "end_time": "2025-03-14T20:33:28.081166",
     "exception": false,
     "start_time": "2025-03-14T20:33:28.070442",
     "status": "completed"
    },
    "tags": []
   },
   "source": [
    "The `print()` function automatically adds a newline character unless we specify a value for the keyword argument `end` other than the default value of `'\\n'`:"
   ]
  },
  {
   "cell_type": "code",
   "execution_count": 7,
   "id": "c1022117",
   "metadata": {
    "execution": {
     "iopub.execute_input": "2025-03-14T20:33:28.104764Z",
     "iopub.status.busy": "2025-03-14T20:33:28.104403Z",
     "iopub.status.idle": "2025-03-14T20:33:28.109649Z",
     "shell.execute_reply": "2025-03-14T20:33:28.108556Z"
    },
    "papermill": {
     "duration": 0.019042,
     "end_time": "2025-03-14T20:33:28.111396",
     "exception": false,
     "start_time": "2025-03-14T20:33:28.092354",
     "status": "completed"
    },
    "tags": []
   },
   "outputs": [
    {
     "name": "stdout",
     "output_type": "stream",
     "text": [
      "hello\n",
      "world\n",
      "hellopluto"
     ]
    }
   ],
   "source": [
    "print(\"hello\")\n",
    "print(\"world\")\n",
    "print(\"hello\", end='')\n",
    "print(\"pluto\", end='')"
   ]
  },
  {
   "cell_type": "markdown",
   "id": "0cba7855",
   "metadata": {
    "papermill": {
     "duration": 0.011535,
     "end_time": "2025-03-14T20:33:28.134987",
     "exception": false,
     "start_time": "2025-03-14T20:33:28.123452",
     "status": "completed"
    },
    "tags": []
   },
   "source": [
    "## Strings are sequences\n",
    "\n",
    "Strings can be thought of as sequences of characters. Almost everything we've seen that we can do to a list, we can also do to a string."
   ]
  },
  {
   "cell_type": "code",
   "execution_count": 8,
   "id": "7d93b162",
   "metadata": {
    "execution": {
     "iopub.execute_input": "2025-03-14T20:33:28.159045Z",
     "iopub.status.busy": "2025-03-14T20:33:28.158585Z",
     "iopub.status.idle": "2025-03-14T20:33:28.164889Z",
     "shell.execute_reply": "2025-03-14T20:33:28.163781Z"
    },
    "papermill": {
     "duration": 0.02051,
     "end_time": "2025-03-14T20:33:28.166933",
     "exception": false,
     "start_time": "2025-03-14T20:33:28.146423",
     "status": "completed"
    },
    "tags": []
   },
   "outputs": [
    {
     "data": {
      "text/plain": [
       "'P'"
      ]
     },
     "execution_count": 8,
     "metadata": {},
     "output_type": "execute_result"
    }
   ],
   "source": [
    "# Indexing\n",
    "planet = 'Pluto'\n",
    "planet[0]"
   ]
  },
  {
   "cell_type": "code",
   "execution_count": 9,
   "id": "35d549e8",
   "metadata": {
    "execution": {
     "iopub.execute_input": "2025-03-14T20:33:28.191892Z",
     "iopub.status.busy": "2025-03-14T20:33:28.191510Z",
     "iopub.status.idle": "2025-03-14T20:33:28.197769Z",
     "shell.execute_reply": "2025-03-14T20:33:28.196609Z"
    },
    "papermill": {
     "duration": 0.020448,
     "end_time": "2025-03-14T20:33:28.199702",
     "exception": false,
     "start_time": "2025-03-14T20:33:28.179254",
     "status": "completed"
    },
    "tags": []
   },
   "outputs": [
    {
     "data": {
      "text/plain": [
       "'uto'"
      ]
     },
     "execution_count": 9,
     "metadata": {},
     "output_type": "execute_result"
    }
   ],
   "source": [
    "# Slicing\n",
    "planet[-3:]"
   ]
  },
  {
   "cell_type": "code",
   "execution_count": 10,
   "id": "46ec2b8f",
   "metadata": {
    "execution": {
     "iopub.execute_input": "2025-03-14T20:33:28.224607Z",
     "iopub.status.busy": "2025-03-14T20:33:28.224242Z",
     "iopub.status.idle": "2025-03-14T20:33:28.230464Z",
     "shell.execute_reply": "2025-03-14T20:33:28.229317Z"
    },
    "papermill": {
     "duration": 0.020614,
     "end_time": "2025-03-14T20:33:28.232499",
     "exception": false,
     "start_time": "2025-03-14T20:33:28.211885",
     "status": "completed"
    },
    "tags": []
   },
   "outputs": [
    {
     "data": {
      "text/plain": [
       "5"
      ]
     },
     "execution_count": 10,
     "metadata": {},
     "output_type": "execute_result"
    }
   ],
   "source": [
    "# How long is this string?\n",
    "len(planet)"
   ]
  },
  {
   "cell_type": "code",
   "execution_count": 11,
   "id": "78fb5833",
   "metadata": {
    "execution": {
     "iopub.execute_input": "2025-03-14T20:33:28.257667Z",
     "iopub.status.busy": "2025-03-14T20:33:28.257336Z",
     "iopub.status.idle": "2025-03-14T20:33:28.263251Z",
     "shell.execute_reply": "2025-03-14T20:33:28.262307Z"
    },
    "papermill": {
     "duration": 0.020988,
     "end_time": "2025-03-14T20:33:28.265095",
     "exception": false,
     "start_time": "2025-03-14T20:33:28.244107",
     "status": "completed"
    },
    "tags": []
   },
   "outputs": [
    {
     "data": {
      "text/plain": [
       "['P! ', 'l! ', 'u! ', 't! ', 'o! ']"
      ]
     },
     "execution_count": 11,
     "metadata": {},
     "output_type": "execute_result"
    }
   ],
   "source": [
    "# Yes, we can even loop over them\n",
    "[char+'! ' for char in planet]"
   ]
  },
  {
   "cell_type": "markdown",
   "id": "6ee3ba84",
   "metadata": {
    "papermill": {
     "duration": 0.011504,
     "end_time": "2025-03-14T20:33:28.288736",
     "exception": false,
     "start_time": "2025-03-14T20:33:28.277232",
     "status": "completed"
    },
    "tags": []
   },
   "source": [
    "But a major way in which they differ from lists is that they are *immutable*. We can't modify them."
   ]
  },
  {
   "cell_type": "code",
   "execution_count": 12,
   "id": "f3064045",
   "metadata": {
    "execution": {
     "iopub.execute_input": "2025-03-14T20:33:28.313880Z",
     "iopub.status.busy": "2025-03-14T20:33:28.313555Z",
     "iopub.status.idle": "2025-03-14T20:33:28.317916Z",
     "shell.execute_reply": "2025-03-14T20:33:28.316490Z"
    },
    "papermill": {
     "duration": 0.019224,
     "end_time": "2025-03-14T20:33:28.319784",
     "exception": false,
     "start_time": "2025-03-14T20:33:28.300560",
     "status": "completed"
    },
    "tags": [
     "raises-exception"
    ]
   },
   "outputs": [],
   "source": [
    "#planet[0] = 'B'\n",
    "# planet.append doesn't work either"
   ]
  },
  {
   "cell_type": "markdown",
   "id": "36b827b2",
   "metadata": {
    "papermill": {
     "duration": 0.012347,
     "end_time": "2025-03-14T20:33:28.343849",
     "exception": false,
     "start_time": "2025-03-14T20:33:28.331502",
     "status": "completed"
    },
    "tags": []
   },
   "source": [
    "## String methods\n",
    "\n",
    "Like `list`, the type `str` has lots of very useful methods. I'll show just a few examples here."
   ]
  },
  {
   "cell_type": "code",
   "execution_count": 13,
   "id": "b4a964fa",
   "metadata": {
    "execution": {
     "iopub.execute_input": "2025-03-14T20:33:28.370390Z",
     "iopub.status.busy": "2025-03-14T20:33:28.370000Z",
     "iopub.status.idle": "2025-03-14T20:33:28.376615Z",
     "shell.execute_reply": "2025-03-14T20:33:28.375482Z"
    },
    "papermill": {
     "duration": 0.022828,
     "end_time": "2025-03-14T20:33:28.378695",
     "exception": false,
     "start_time": "2025-03-14T20:33:28.355867",
     "status": "completed"
    },
    "tags": []
   },
   "outputs": [
    {
     "data": {
      "text/plain": [
       "'PLUTO IS A PLANET!'"
      ]
     },
     "execution_count": 13,
     "metadata": {},
     "output_type": "execute_result"
    }
   ],
   "source": [
    "# ALL CAPS\n",
    "claim = \"Pluto is a planet!\"\n",
    "claim.upper()"
   ]
  },
  {
   "cell_type": "code",
   "execution_count": 14,
   "id": "c71afa56",
   "metadata": {
    "execution": {
     "iopub.execute_input": "2025-03-14T20:33:28.403625Z",
     "iopub.status.busy": "2025-03-14T20:33:28.403257Z",
     "iopub.status.idle": "2025-03-14T20:33:28.409890Z",
     "shell.execute_reply": "2025-03-14T20:33:28.408622Z"
    },
    "papermill": {
     "duration": 0.021496,
     "end_time": "2025-03-14T20:33:28.412162",
     "exception": false,
     "start_time": "2025-03-14T20:33:28.390666",
     "status": "completed"
    },
    "tags": []
   },
   "outputs": [
    {
     "data": {
      "text/plain": [
       "'pluto is a planet!'"
      ]
     },
     "execution_count": 14,
     "metadata": {},
     "output_type": "execute_result"
    }
   ],
   "source": [
    "# all lowercase\n",
    "claim.lower()"
   ]
  },
  {
   "cell_type": "code",
   "execution_count": 15,
   "id": "facd0910",
   "metadata": {
    "execution": {
     "iopub.execute_input": "2025-03-14T20:33:28.440144Z",
     "iopub.status.busy": "2025-03-14T20:33:28.439748Z",
     "iopub.status.idle": "2025-03-14T20:33:28.446412Z",
     "shell.execute_reply": "2025-03-14T20:33:28.445224Z"
    },
    "papermill": {
     "duration": 0.022744,
     "end_time": "2025-03-14T20:33:28.448349",
     "exception": false,
     "start_time": "2025-03-14T20:33:28.425605",
     "status": "completed"
    },
    "tags": []
   },
   "outputs": [
    {
     "data": {
      "text/plain": [
       "11"
      ]
     },
     "execution_count": 15,
     "metadata": {},
     "output_type": "execute_result"
    }
   ],
   "source": [
    "# Searching for the first index of a substring\n",
    "claim.index('plan')"
   ]
  },
  {
   "cell_type": "code",
   "execution_count": 16,
   "id": "2cb34daf",
   "metadata": {
    "execution": {
     "iopub.execute_input": "2025-03-14T20:33:28.476815Z",
     "iopub.status.busy": "2025-03-14T20:33:28.476407Z",
     "iopub.status.idle": "2025-03-14T20:33:28.482736Z",
     "shell.execute_reply": "2025-03-14T20:33:28.481641Z"
    },
    "papermill": {
     "duration": 0.022721,
     "end_time": "2025-03-14T20:33:28.484709",
     "exception": false,
     "start_time": "2025-03-14T20:33:28.461988",
     "status": "completed"
    },
    "tags": []
   },
   "outputs": [
    {
     "data": {
      "text/plain": [
       "True"
      ]
     },
     "execution_count": 16,
     "metadata": {},
     "output_type": "execute_result"
    }
   ],
   "source": [
    "claim.startswith(planet)"
   ]
  },
  {
   "cell_type": "code",
   "execution_count": 17,
   "id": "ba346ccd",
   "metadata": {
    "execution": {
     "iopub.execute_input": "2025-03-14T20:33:28.510371Z",
     "iopub.status.busy": "2025-03-14T20:33:28.509989Z",
     "iopub.status.idle": "2025-03-14T20:33:28.516298Z",
     "shell.execute_reply": "2025-03-14T20:33:28.514905Z"
    },
    "papermill": {
     "duration": 0.021422,
     "end_time": "2025-03-14T20:33:28.518304",
     "exception": false,
     "start_time": "2025-03-14T20:33:28.496882",
     "status": "completed"
    },
    "tags": []
   },
   "outputs": [
    {
     "data": {
      "text/plain": [
       "False"
      ]
     },
     "execution_count": 17,
     "metadata": {},
     "output_type": "execute_result"
    }
   ],
   "source": [
    "# false because of missing exclamation mark\n",
    "claim.endswith('planet')"
   ]
  },
  {
   "cell_type": "markdown",
   "id": "38e90498",
   "metadata": {
    "papermill": {
     "duration": 0.012546,
     "end_time": "2025-03-14T20:33:28.544659",
     "exception": false,
     "start_time": "2025-03-14T20:33:28.532113",
     "status": "completed"
    },
    "tags": []
   },
   "source": [
    "### Going between strings and lists: `.split()` and `.join()`\n",
    "\n",
    "`str.split()` turns a string into a list of smaller strings, breaking on whitespace by default. This is super useful for taking you from one big string to a list of words."
   ]
  },
  {
   "cell_type": "code",
   "execution_count": 18,
   "id": "8c740bce",
   "metadata": {
    "execution": {
     "iopub.execute_input": "2025-03-14T20:33:28.572965Z",
     "iopub.status.busy": "2025-03-14T20:33:28.572407Z",
     "iopub.status.idle": "2025-03-14T20:33:28.580137Z",
     "shell.execute_reply": "2025-03-14T20:33:28.578630Z"
    },
    "papermill": {
     "duration": 0.024351,
     "end_time": "2025-03-14T20:33:28.582150",
     "exception": false,
     "start_time": "2025-03-14T20:33:28.557799",
     "status": "completed"
    },
    "tags": []
   },
   "outputs": [
    {
     "data": {
      "text/plain": [
       "['Pluto', 'is', 'a', 'planet!']"
      ]
     },
     "execution_count": 18,
     "metadata": {},
     "output_type": "execute_result"
    }
   ],
   "source": [
    "words = claim.split()\n",
    "words"
   ]
  },
  {
   "cell_type": "markdown",
   "id": "b8fa9ad1",
   "metadata": {
    "papermill": {
     "duration": 0.012202,
     "end_time": "2025-03-14T20:33:28.607637",
     "exception": false,
     "start_time": "2025-03-14T20:33:28.595435",
     "status": "completed"
    },
    "tags": []
   },
   "source": [
    "Occasionally you'll want to split on something other than whitespace:"
   ]
  },
  {
   "cell_type": "code",
   "execution_count": 19,
   "id": "8fcc6bc5",
   "metadata": {
    "execution": {
     "iopub.execute_input": "2025-03-14T20:33:28.635645Z",
     "iopub.status.busy": "2025-03-14T20:33:28.635303Z",
     "iopub.status.idle": "2025-03-14T20:33:28.640199Z",
     "shell.execute_reply": "2025-03-14T20:33:28.638915Z"
    },
    "papermill": {
     "duration": 0.020535,
     "end_time": "2025-03-14T20:33:28.642206",
     "exception": false,
     "start_time": "2025-03-14T20:33:28.621671",
     "status": "completed"
    },
    "tags": []
   },
   "outputs": [],
   "source": [
    "datestr = '1956-01-31'\n",
    "year, month, day = datestr.split('-')"
   ]
  },
  {
   "cell_type": "markdown",
   "id": "38c8ad43",
   "metadata": {
    "papermill": {
     "duration": 0.01276,
     "end_time": "2025-03-14T20:33:28.668269",
     "exception": false,
     "start_time": "2025-03-14T20:33:28.655509",
     "status": "completed"
    },
    "tags": []
   },
   "source": [
    "`str.join()` takes us in the other direction, sewing a list of strings up into one long string, using the string it was called on as a separator."
   ]
  },
  {
   "cell_type": "code",
   "execution_count": 20,
   "id": "dd41dbf9",
   "metadata": {
    "execution": {
     "iopub.execute_input": "2025-03-14T20:33:28.694213Z",
     "iopub.status.busy": "2025-03-14T20:33:28.693833Z",
     "iopub.status.idle": "2025-03-14T20:33:28.700233Z",
     "shell.execute_reply": "2025-03-14T20:33:28.698992Z"
    },
    "papermill": {
     "duration": 0.021522,
     "end_time": "2025-03-14T20:33:28.702022",
     "exception": false,
     "start_time": "2025-03-14T20:33:28.680500",
     "status": "completed"
    },
    "tags": []
   },
   "outputs": [
    {
     "data": {
      "text/plain": [
       "'01/31/1956'"
      ]
     },
     "execution_count": 20,
     "metadata": {},
     "output_type": "execute_result"
    }
   ],
   "source": [
    "'/'.join([month, day, year])"
   ]
  },
  {
   "cell_type": "code",
   "execution_count": 21,
   "id": "5ecfb0d7",
   "metadata": {
    "execution": {
     "iopub.execute_input": "2025-03-14T20:33:28.729380Z",
     "iopub.status.busy": "2025-03-14T20:33:28.728979Z",
     "iopub.status.idle": "2025-03-14T20:33:28.736086Z",
     "shell.execute_reply": "2025-03-14T20:33:28.734557Z"
    },
    "papermill": {
     "duration": 0.02306,
     "end_time": "2025-03-14T20:33:28.738163",
     "exception": false,
     "start_time": "2025-03-14T20:33:28.715103",
     "status": "completed"
    },
    "tags": []
   },
   "outputs": [
    {
     "data": {
      "text/plain": [
       "'PLUTO 👏 IS 👏 A 👏 PLANET!'"
      ]
     },
     "execution_count": 21,
     "metadata": {},
     "output_type": "execute_result"
    }
   ],
   "source": [
    "# Yes, we can put unicode characters right in our string literals :)\n",
    "' 👏 '.join([word.upper() for word in words])"
   ]
  },
  {
   "cell_type": "markdown",
   "id": "b99132d2",
   "metadata": {
    "papermill": {
     "duration": 0.012123,
     "end_time": "2025-03-14T20:33:28.763047",
     "exception": false,
     "start_time": "2025-03-14T20:33:28.750924",
     "status": "completed"
    },
    "tags": []
   },
   "source": [
    "### Building strings with `.format()`\n",
    "\n",
    "Python lets us concatenate strings with the `+` operator."
   ]
  },
  {
   "cell_type": "code",
   "execution_count": 22,
   "id": "e37823b0",
   "metadata": {
    "execution": {
     "iopub.execute_input": "2025-03-14T20:33:28.790541Z",
     "iopub.status.busy": "2025-03-14T20:33:28.790203Z",
     "iopub.status.idle": "2025-03-14T20:33:28.796363Z",
     "shell.execute_reply": "2025-03-14T20:33:28.795104Z"
    },
    "papermill": {
     "duration": 0.022022,
     "end_time": "2025-03-14T20:33:28.798077",
     "exception": false,
     "start_time": "2025-03-14T20:33:28.776055",
     "status": "completed"
    },
    "tags": []
   },
   "outputs": [
    {
     "data": {
      "text/plain": [
       "'Pluto, we miss you.'"
      ]
     },
     "execution_count": 22,
     "metadata": {},
     "output_type": "execute_result"
    }
   ],
   "source": [
    "planet + ', we miss you.'"
   ]
  },
  {
   "cell_type": "markdown",
   "id": "76f0b563",
   "metadata": {
    "papermill": {
     "duration": 0.013067,
     "end_time": "2025-03-14T20:33:28.825410",
     "exception": false,
     "start_time": "2025-03-14T20:33:28.812343",
     "status": "completed"
    },
    "tags": []
   },
   "source": [
    "If we want to throw in any non-string objects, we have to be careful to call `str()` on them first"
   ]
  },
  {
   "cell_type": "code",
   "execution_count": 23,
   "id": "b1f17e7e",
   "metadata": {
    "execution": {
     "iopub.execute_input": "2025-03-14T20:33:28.853497Z",
     "iopub.status.busy": "2025-03-14T20:33:28.853086Z",
     "iopub.status.idle": "2025-03-14T20:33:28.857610Z",
     "shell.execute_reply": "2025-03-14T20:33:28.856294Z"
    },
    "papermill": {
     "duration": 0.021279,
     "end_time": "2025-03-14T20:33:28.859563",
     "exception": false,
     "start_time": "2025-03-14T20:33:28.838284",
     "status": "completed"
    },
    "tags": [
     "raises-exception"
    ]
   },
   "outputs": [],
   "source": [
    "position = 9\n",
    "#planet + \", you'll always be the \" + position + \"th planet to me.\""
   ]
  },
  {
   "cell_type": "code",
   "execution_count": 24,
   "id": "ef68c510",
   "metadata": {
    "execution": {
     "iopub.execute_input": "2025-03-14T20:33:28.947342Z",
     "iopub.status.busy": "2025-03-14T20:33:28.946893Z",
     "iopub.status.idle": "2025-03-14T20:33:28.953359Z",
     "shell.execute_reply": "2025-03-14T20:33:28.952154Z"
    },
    "papermill": {
     "duration": 0.082911,
     "end_time": "2025-03-14T20:33:28.955447",
     "exception": false,
     "start_time": "2025-03-14T20:33:28.872536",
     "status": "completed"
    },
    "tags": []
   },
   "outputs": [
    {
     "data": {
      "text/plain": [
       "\"Pluto, you'll always be the 9th planet to me.\""
      ]
     },
     "execution_count": 24,
     "metadata": {},
     "output_type": "execute_result"
    }
   ],
   "source": [
    "planet + \", you'll always be the \" + str(position) + \"th planet to me.\""
   ]
  },
  {
   "cell_type": "markdown",
   "id": "78637c55",
   "metadata": {
    "papermill": {
     "duration": 0.013086,
     "end_time": "2025-03-14T20:33:28.982696",
     "exception": false,
     "start_time": "2025-03-14T20:33:28.969610",
     "status": "completed"
    },
    "tags": []
   },
   "source": [
    "This is getting hard to read and annoying to type. `str.format()` to the rescue."
   ]
  },
  {
   "cell_type": "code",
   "execution_count": 25,
   "id": "d1f89c12",
   "metadata": {
    "execution": {
     "iopub.execute_input": "2025-03-14T20:33:29.010117Z",
     "iopub.status.busy": "2025-03-14T20:33:29.009560Z",
     "iopub.status.idle": "2025-03-14T20:33:29.016086Z",
     "shell.execute_reply": "2025-03-14T20:33:29.014936Z"
    },
    "papermill": {
     "duration": 0.022421,
     "end_time": "2025-03-14T20:33:29.018047",
     "exception": false,
     "start_time": "2025-03-14T20:33:28.995626",
     "status": "completed"
    },
    "tags": []
   },
   "outputs": [
    {
     "data": {
      "text/plain": [
       "\"Pluto, you'll always be the 9th planet to me.\""
      ]
     },
     "execution_count": 25,
     "metadata": {},
     "output_type": "execute_result"
    }
   ],
   "source": [
    "\"{}, you'll always be the {}th planet to me.\".format(planet, position)"
   ]
  },
  {
   "cell_type": "markdown",
   "id": "37790f61",
   "metadata": {
    "papermill": {
     "duration": 0.012721,
     "end_time": "2025-03-14T20:33:29.044313",
     "exception": false,
     "start_time": "2025-03-14T20:33:29.031592",
     "status": "completed"
    },
    "tags": []
   },
   "source": [
    "So much cleaner! We call `.format()` on a \"format string\", where the Python values we want to insert are represented with `{}` placeholders.\n",
    "\n",
    "Notice how we didn't even have to call `str()` to convert `position` from an int. `format()` takes care of that for us.\n",
    "\n",
    "If that was all that `format()` did, it would still be incredibly useful. But as it turns out, it can do a *lot* more. Here's just a taste:"
   ]
  },
  {
   "cell_type": "code",
   "execution_count": 26,
   "id": "30265c8f",
   "metadata": {
    "execution": {
     "iopub.execute_input": "2025-03-14T20:33:29.071443Z",
     "iopub.status.busy": "2025-03-14T20:33:29.071031Z",
     "iopub.status.idle": "2025-03-14T20:33:29.078754Z",
     "shell.execute_reply": "2025-03-14T20:33:29.077301Z"
    },
    "papermill": {
     "duration": 0.023285,
     "end_time": "2025-03-14T20:33:29.080689",
     "exception": false,
     "start_time": "2025-03-14T20:33:29.057404",
     "status": "completed"
    },
    "tags": []
   },
   "outputs": [
    {
     "data": {
      "text/plain": [
       "\"Pluto weighs about 1.3e+22 kilograms (0.218% of Earth's mass). It is home to 52,910,390 Plutonians.\""
      ]
     },
     "execution_count": 26,
     "metadata": {},
     "output_type": "execute_result"
    }
   ],
   "source": [
    "pluto_mass = 1.303 * 10**22\n",
    "earth_mass = 5.9722 * 10**24\n",
    "population = 52910390\n",
    "#         2 decimal points   3 decimal points, format as percent     separate with commas\n",
    "\"{} weighs about {:.2} kilograms ({:.3%} of Earth's mass). It is home to {:,} Plutonians.\".format(\n",
    "    planet, pluto_mass, pluto_mass / earth_mass, population,\n",
    ")"
   ]
  },
  {
   "cell_type": "code",
   "execution_count": 27,
   "id": "8448f2da",
   "metadata": {
    "execution": {
     "iopub.execute_input": "2025-03-14T20:33:29.108500Z",
     "iopub.status.busy": "2025-03-14T20:33:29.108059Z",
     "iopub.status.idle": "2025-03-14T20:33:29.114610Z",
     "shell.execute_reply": "2025-03-14T20:33:29.112922Z"
    },
    "papermill": {
     "duration": 0.023372,
     "end_time": "2025-03-14T20:33:29.116982",
     "exception": false,
     "start_time": "2025-03-14T20:33:29.093610",
     "status": "completed"
    },
    "tags": []
   },
   "outputs": [
    {
     "name": "stdout",
     "output_type": "stream",
     "text": [
      "Pluto's a planet.\n",
      "No, it's a dwarf planet.\n",
      "planet!\n",
      "dwarf planet!\n"
     ]
    }
   ],
   "source": [
    "# Referring to format() arguments by index, starting from 0\n",
    "s = \"\"\"Pluto's a {0}.\n",
    "No, it's a {1}.\n",
    "{0}!\n",
    "{1}!\"\"\".format('planet', 'dwarf planet')\n",
    "print(s)"
   ]
  },
  {
   "cell_type": "markdown",
   "id": "81d54081",
   "metadata": {
    "papermill": {
     "duration": 0.012623,
     "end_time": "2025-03-14T20:33:29.143102",
     "exception": false,
     "start_time": "2025-03-14T20:33:29.130479",
     "status": "completed"
    },
    "tags": []
   },
   "source": [
    "You could probably write a short book just on `str.format`, so I'll stop here, and point you to [pyformat.info](https://pyformat.info/) and [the official docs](https://docs.python.org/3/library/string.html#formatstrings) for further reading."
   ]
  },
  {
   "cell_type": "markdown",
   "id": "a9312ef5",
   "metadata": {
    "papermill": {
     "duration": 0.013758,
     "end_time": "2025-03-14T20:33:29.169843",
     "exception": false,
     "start_time": "2025-03-14T20:33:29.156085",
     "status": "completed"
    },
    "tags": []
   },
   "source": [
    "# Dictionaries\n",
    "\n",
    "Dictionaries are a built-in Python data structure for mapping keys to values."
   ]
  },
  {
   "cell_type": "code",
   "execution_count": 28,
   "id": "3973dd44",
   "metadata": {
    "execution": {
     "iopub.execute_input": "2025-03-14T20:33:29.196948Z",
     "iopub.status.busy": "2025-03-14T20:33:29.196594Z",
     "iopub.status.idle": "2025-03-14T20:33:29.200908Z",
     "shell.execute_reply": "2025-03-14T20:33:29.199917Z"
    },
    "papermill": {
     "duration": 0.020368,
     "end_time": "2025-03-14T20:33:29.202898",
     "exception": false,
     "start_time": "2025-03-14T20:33:29.182530",
     "status": "completed"
    },
    "tags": []
   },
   "outputs": [],
   "source": [
    "numbers = {'one':1, 'two':2, 'three':3}"
   ]
  },
  {
   "cell_type": "markdown",
   "id": "0b74ed76",
   "metadata": {
    "papermill": {
     "duration": 0.012506,
     "end_time": "2025-03-14T20:33:29.228763",
     "exception": false,
     "start_time": "2025-03-14T20:33:29.216257",
     "status": "completed"
    },
    "tags": []
   },
   "source": [
    "In this case `'one'`, `'two'`, and `'three'` are the **keys**, and 1, 2 and 3 are their corresponding values.\n",
    "\n",
    "Values are accessed via square bracket syntax similar to indexing into lists and strings."
   ]
  },
  {
   "cell_type": "code",
   "execution_count": 29,
   "id": "b5569f38",
   "metadata": {
    "execution": {
     "iopub.execute_input": "2025-03-14T20:33:29.256403Z",
     "iopub.status.busy": "2025-03-14T20:33:29.256008Z",
     "iopub.status.idle": "2025-03-14T20:33:29.262418Z",
     "shell.execute_reply": "2025-03-14T20:33:29.261259Z"
    },
    "papermill": {
     "duration": 0.021949,
     "end_time": "2025-03-14T20:33:29.264306",
     "exception": false,
     "start_time": "2025-03-14T20:33:29.242357",
     "status": "completed"
    },
    "tags": []
   },
   "outputs": [
    {
     "data": {
      "text/plain": [
       "1"
      ]
     },
     "execution_count": 29,
     "metadata": {},
     "output_type": "execute_result"
    }
   ],
   "source": [
    "numbers['one']"
   ]
  },
  {
   "cell_type": "markdown",
   "id": "b0b9dca7",
   "metadata": {
    "papermill": {
     "duration": 0.012494,
     "end_time": "2025-03-14T20:33:29.289973",
     "exception": false,
     "start_time": "2025-03-14T20:33:29.277479",
     "status": "completed"
    },
    "tags": []
   },
   "source": [
    "We can use the same syntax to add another key, value pair"
   ]
  },
  {
   "cell_type": "code",
   "execution_count": 30,
   "id": "4f9a79f7",
   "metadata": {
    "execution": {
     "iopub.execute_input": "2025-03-14T20:33:29.318693Z",
     "iopub.status.busy": "2025-03-14T20:33:29.318351Z",
     "iopub.status.idle": "2025-03-14T20:33:29.324971Z",
     "shell.execute_reply": "2025-03-14T20:33:29.323868Z"
    },
    "papermill": {
     "duration": 0.02336,
     "end_time": "2025-03-14T20:33:29.327000",
     "exception": false,
     "start_time": "2025-03-14T20:33:29.303640",
     "status": "completed"
    },
    "tags": []
   },
   "outputs": [
    {
     "data": {
      "text/plain": [
       "{'one': 1, 'two': 2, 'three': 3, 'eleven': 11}"
      ]
     },
     "execution_count": 30,
     "metadata": {},
     "output_type": "execute_result"
    }
   ],
   "source": [
    "numbers['eleven'] = 11\n",
    "numbers"
   ]
  },
  {
   "cell_type": "markdown",
   "id": "a2387ab9",
   "metadata": {
    "papermill": {
     "duration": 0.013178,
     "end_time": "2025-03-14T20:33:29.354712",
     "exception": false,
     "start_time": "2025-03-14T20:33:29.341534",
     "status": "completed"
    },
    "tags": []
   },
   "source": [
    "Or to change the value associated with an existing key"
   ]
  },
  {
   "cell_type": "code",
   "execution_count": 31,
   "id": "d455335e",
   "metadata": {
    "execution": {
     "iopub.execute_input": "2025-03-14T20:33:29.382822Z",
     "iopub.status.busy": "2025-03-14T20:33:29.382430Z",
     "iopub.status.idle": "2025-03-14T20:33:29.389143Z",
     "shell.execute_reply": "2025-03-14T20:33:29.387956Z"
    },
    "papermill": {
     "duration": 0.023281,
     "end_time": "2025-03-14T20:33:29.391363",
     "exception": false,
     "start_time": "2025-03-14T20:33:29.368082",
     "status": "completed"
    },
    "tags": []
   },
   "outputs": [
    {
     "data": {
      "text/plain": [
       "{'one': 'Pluto', 'two': 2, 'three': 3, 'eleven': 11}"
      ]
     },
     "execution_count": 31,
     "metadata": {},
     "output_type": "execute_result"
    }
   ],
   "source": [
    "numbers['one'] = 'Pluto'\n",
    "numbers"
   ]
  },
  {
   "cell_type": "markdown",
   "id": "0c7cf718",
   "metadata": {
    "papermill": {
     "duration": 0.013504,
     "end_time": "2025-03-14T20:33:29.418369",
     "exception": false,
     "start_time": "2025-03-14T20:33:29.404865",
     "status": "completed"
    },
    "tags": []
   },
   "source": [
    "Python has *dictionary comprehensions* with a syntax similar to the list comprehensions we saw in the previous tutorial."
   ]
  },
  {
   "cell_type": "code",
   "execution_count": 32,
   "id": "6de16df0",
   "metadata": {
    "execution": {
     "iopub.execute_input": "2025-03-14T20:33:29.447423Z",
     "iopub.status.busy": "2025-03-14T20:33:29.447029Z",
     "iopub.status.idle": "2025-03-14T20:33:29.454217Z",
     "shell.execute_reply": "2025-03-14T20:33:29.453008Z"
    },
    "papermill": {
     "duration": 0.024273,
     "end_time": "2025-03-14T20:33:29.456108",
     "exception": false,
     "start_time": "2025-03-14T20:33:29.431835",
     "status": "completed"
    },
    "tags": []
   },
   "outputs": [
    {
     "data": {
      "text/plain": [
       "{'Mercury': 'M',\n",
       " 'Venus': 'V',\n",
       " 'Earth': 'E',\n",
       " 'Mars': 'M',\n",
       " 'Jupiter': 'J',\n",
       " 'Saturn': 'S',\n",
       " 'Uranus': 'U',\n",
       " 'Neptune': 'N'}"
      ]
     },
     "execution_count": 32,
     "metadata": {},
     "output_type": "execute_result"
    }
   ],
   "source": [
    "planets = ['Mercury', 'Venus', 'Earth', 'Mars', 'Jupiter', 'Saturn', 'Uranus', 'Neptune']\n",
    "planet_to_initial = {planet: planet[0] for planet in planets}\n",
    "planet_to_initial"
   ]
  },
  {
   "cell_type": "markdown",
   "id": "6225c106",
   "metadata": {
    "papermill": {
     "duration": 0.014029,
     "end_time": "2025-03-14T20:33:29.484297",
     "exception": false,
     "start_time": "2025-03-14T20:33:29.470268",
     "status": "completed"
    },
    "tags": []
   },
   "source": [
    "The `in` operator tells us whether something is a key in the dictionary"
   ]
  },
  {
   "cell_type": "code",
   "execution_count": 33,
   "id": "b4742161",
   "metadata": {
    "execution": {
     "iopub.execute_input": "2025-03-14T20:33:29.512501Z",
     "iopub.status.busy": "2025-03-14T20:33:29.512093Z",
     "iopub.status.idle": "2025-03-14T20:33:29.518355Z",
     "shell.execute_reply": "2025-03-14T20:33:29.517201Z"
    },
    "papermill": {
     "duration": 0.022698,
     "end_time": "2025-03-14T20:33:29.520213",
     "exception": false,
     "start_time": "2025-03-14T20:33:29.497515",
     "status": "completed"
    },
    "tags": []
   },
   "outputs": [
    {
     "data": {
      "text/plain": [
       "True"
      ]
     },
     "execution_count": 33,
     "metadata": {},
     "output_type": "execute_result"
    }
   ],
   "source": [
    "'Saturn' in planet_to_initial"
   ]
  },
  {
   "cell_type": "code",
   "execution_count": 34,
   "id": "06e6a3e3",
   "metadata": {
    "execution": {
     "iopub.execute_input": "2025-03-14T20:33:29.549363Z",
     "iopub.status.busy": "2025-03-14T20:33:29.548985Z",
     "iopub.status.idle": "2025-03-14T20:33:29.555075Z",
     "shell.execute_reply": "2025-03-14T20:33:29.553920Z"
    },
    "papermill": {
     "duration": 0.02328,
     "end_time": "2025-03-14T20:33:29.556959",
     "exception": false,
     "start_time": "2025-03-14T20:33:29.533679",
     "status": "completed"
    },
    "tags": []
   },
   "outputs": [
    {
     "data": {
      "text/plain": [
       "False"
      ]
     },
     "execution_count": 34,
     "metadata": {},
     "output_type": "execute_result"
    }
   ],
   "source": [
    "'Betelgeuse' in planet_to_initial"
   ]
  },
  {
   "cell_type": "markdown",
   "id": "8b4a6700",
   "metadata": {
    "papermill": {
     "duration": 0.01405,
     "end_time": "2025-03-14T20:33:29.586346",
     "exception": false,
     "start_time": "2025-03-14T20:33:29.572296",
     "status": "completed"
    },
    "tags": []
   },
   "source": [
    "A for loop over a dictionary will loop over its keys"
   ]
  },
  {
   "cell_type": "code",
   "execution_count": 35,
   "id": "9c9d16e9",
   "metadata": {
    "execution": {
     "iopub.execute_input": "2025-03-14T20:33:29.614991Z",
     "iopub.status.busy": "2025-03-14T20:33:29.614566Z",
     "iopub.status.idle": "2025-03-14T20:33:29.621370Z",
     "shell.execute_reply": "2025-03-14T20:33:29.620060Z"
    },
    "papermill": {
     "duration": 0.023498,
     "end_time": "2025-03-14T20:33:29.623144",
     "exception": false,
     "start_time": "2025-03-14T20:33:29.599646",
     "status": "completed"
    },
    "tags": []
   },
   "outputs": [
    {
     "name": "stdout",
     "output_type": "stream",
     "text": [
      "one = Pluto\n",
      "two = 2\n",
      "three = 3\n",
      "eleven = 11\n"
     ]
    }
   ],
   "source": [
    "for k in numbers:\n",
    "    print(\"{} = {}\".format(k, numbers[k]))"
   ]
  },
  {
   "cell_type": "markdown",
   "id": "5ee5c203",
   "metadata": {
    "papermill": {
     "duration": 0.013988,
     "end_time": "2025-03-14T20:33:29.651119",
     "exception": false,
     "start_time": "2025-03-14T20:33:29.637131",
     "status": "completed"
    },
    "tags": []
   },
   "source": [
    "We can access a collection of all the keys or all the values with `dict.keys()` and `dict.values()`, respectively."
   ]
  },
  {
   "cell_type": "code",
   "execution_count": 36,
   "id": "0e9bdd23",
   "metadata": {
    "execution": {
     "iopub.execute_input": "2025-03-14T20:33:29.680152Z",
     "iopub.status.busy": "2025-03-14T20:33:29.679711Z",
     "iopub.status.idle": "2025-03-14T20:33:29.685941Z",
     "shell.execute_reply": "2025-03-14T20:33:29.684899Z"
    },
    "papermill": {
     "duration": 0.022857,
     "end_time": "2025-03-14T20:33:29.687856",
     "exception": false,
     "start_time": "2025-03-14T20:33:29.664999",
     "status": "completed"
    },
    "tags": []
   },
   "outputs": [
    {
     "data": {
      "text/plain": [
       "'E J M M N S U V'"
      ]
     },
     "execution_count": 36,
     "metadata": {},
     "output_type": "execute_result"
    }
   ],
   "source": [
    "# Get all the initials, sort them alphabetically, and put them in a space-separated string.\n",
    "' '.join(sorted(planet_to_initial.values()))"
   ]
  },
  {
   "cell_type": "markdown",
   "id": "ab41c8e4",
   "metadata": {
    "papermill": {
     "duration": 0.01366,
     "end_time": "2025-03-14T20:33:29.715323",
     "exception": false,
     "start_time": "2025-03-14T20:33:29.701663",
     "status": "completed"
    },
    "tags": []
   },
   "source": [
    "The very useful `dict.items()` method lets us iterate over the keys and values of a dictionary simultaneously. (In Python jargon, an **item** refers to a key, value pair)"
   ]
  },
  {
   "cell_type": "code",
   "execution_count": 37,
   "id": "22bdc732",
   "metadata": {
    "execution": {
     "iopub.execute_input": "2025-03-14T20:33:29.744104Z",
     "iopub.status.busy": "2025-03-14T20:33:29.743686Z",
     "iopub.status.idle": "2025-03-14T20:33:29.751119Z",
     "shell.execute_reply": "2025-03-14T20:33:29.749692Z"
    },
    "papermill": {
     "duration": 0.024007,
     "end_time": "2025-03-14T20:33:29.753065",
     "exception": false,
     "start_time": "2025-03-14T20:33:29.729058",
     "status": "completed"
    },
    "tags": []
   },
   "outputs": [
    {
     "name": "stdout",
     "output_type": "stream",
     "text": [
      "   Mercury begins with \"M\"\n",
      "     Venus begins with \"V\"\n",
      "     Earth begins with \"E\"\n",
      "      Mars begins with \"M\"\n",
      "   Jupiter begins with \"J\"\n",
      "    Saturn begins with \"S\"\n",
      "    Uranus begins with \"U\"\n",
      "   Neptune begins with \"N\"\n"
     ]
    }
   ],
   "source": [
    "for planet, initial in planet_to_initial.items():\n",
    "    print(\"{} begins with \\\"{}\\\"\".format(planet.rjust(10), initial))"
   ]
  },
  {
   "cell_type": "markdown",
   "id": "27bbf1d8",
   "metadata": {
    "papermill": {
     "duration": 0.013219,
     "end_time": "2025-03-14T20:33:29.780894",
     "exception": false,
     "start_time": "2025-03-14T20:33:29.767675",
     "status": "completed"
    },
    "tags": []
   },
   "source": [
    "To read a full inventory of dictionaries' methods, click the \"output\" button below to read the full help page, or check out the [official online documentation](https://docs.python.org/3/library/stdtypes.html#dict)."
   ]
  },
  {
   "cell_type": "code",
   "execution_count": 38,
   "id": "bfb004dc",
   "metadata": {
    "_kg_hide-output": true,
    "execution": {
     "iopub.execute_input": "2025-03-14T20:33:29.810015Z",
     "iopub.status.busy": "2025-03-14T20:33:29.809640Z",
     "iopub.status.idle": "2025-03-14T20:33:29.823615Z",
     "shell.execute_reply": "2025-03-14T20:33:29.822230Z"
    },
    "papermill": {
     "duration": 0.030859,
     "end_time": "2025-03-14T20:33:29.825420",
     "exception": false,
     "start_time": "2025-03-14T20:33:29.794561",
     "status": "completed"
    },
    "tags": []
   },
   "outputs": [
    {
     "name": "stdout",
     "output_type": "stream",
     "text": [
      "Help on class dict in module builtins:\n",
      "\n",
      "class dict(object)\n",
      " |  dict() -> new empty dictionary\n",
      " |  dict(mapping) -> new dictionary initialized from a mapping object's\n",
      " |      (key, value) pairs\n",
      " |  dict(iterable) -> new dictionary initialized as if via:\n",
      " |      d = {}\n",
      " |      for k, v in iterable:\n",
      " |          d[k] = v\n",
      " |  dict(**kwargs) -> new dictionary initialized with the name=value pairs\n",
      " |      in the keyword argument list.  For example:  dict(one=1, two=2)\n",
      " |  \n",
      " |  Built-in subclasses:\n",
      " |      StgDict\n",
      " |  \n",
      " |  Methods defined here:\n",
      " |  \n",
      " |  __contains__(self, key, /)\n",
      " |      True if the dictionary has the specified key, else False.\n",
      " |  \n",
      " |  __delitem__(self, key, /)\n",
      " |      Delete self[key].\n",
      " |  \n",
      " |  __eq__(self, value, /)\n",
      " |      Return self==value.\n",
      " |  \n",
      " |  __ge__(self, value, /)\n",
      " |      Return self>=value.\n",
      " |  \n",
      " |  __getattribute__(self, name, /)\n",
      " |      Return getattr(self, name).\n",
      " |  \n",
      " |  __getitem__(...)\n",
      " |      x.__getitem__(y) <==> x[y]\n",
      " |  \n",
      " |  __gt__(self, value, /)\n",
      " |      Return self>value.\n",
      " |  \n",
      " |  __init__(self, /, *args, **kwargs)\n",
      " |      Initialize self.  See help(type(self)) for accurate signature.\n",
      " |  \n",
      " |  __ior__(self, value, /)\n",
      " |      Return self|=value.\n",
      " |  \n",
      " |  __iter__(self, /)\n",
      " |      Implement iter(self).\n",
      " |  \n",
      " |  __le__(self, value, /)\n",
      " |      Return self<=value.\n",
      " |  \n",
      " |  __len__(self, /)\n",
      " |      Return len(self).\n",
      " |  \n",
      " |  __lt__(self, value, /)\n",
      " |      Return self<value.\n",
      " |  \n",
      " |  __ne__(self, value, /)\n",
      " |      Return self!=value.\n",
      " |  \n",
      " |  __or__(self, value, /)\n",
      " |      Return self|value.\n",
      " |  \n",
      " |  __repr__(self, /)\n",
      " |      Return repr(self).\n",
      " |  \n",
      " |  __reversed__(self, /)\n",
      " |      Return a reverse iterator over the dict keys.\n",
      " |  \n",
      " |  __ror__(self, value, /)\n",
      " |      Return value|self.\n",
      " |  \n",
      " |  __setitem__(self, key, value, /)\n",
      " |      Set self[key] to value.\n",
      " |  \n",
      " |  __sizeof__(...)\n",
      " |      D.__sizeof__() -> size of D in memory, in bytes\n",
      " |  \n",
      " |  clear(...)\n",
      " |      D.clear() -> None.  Remove all items from D.\n",
      " |  \n",
      " |  copy(...)\n",
      " |      D.copy() -> a shallow copy of D\n",
      " |  \n",
      " |  get(self, key, default=None, /)\n",
      " |      Return the value for key if key is in the dictionary, else default.\n",
      " |  \n",
      " |  items(...)\n",
      " |      D.items() -> a set-like object providing a view on D's items\n",
      " |  \n",
      " |  keys(...)\n",
      " |      D.keys() -> a set-like object providing a view on D's keys\n",
      " |  \n",
      " |  pop(...)\n",
      " |      D.pop(k[,d]) -> v, remove specified key and return the corresponding value.\n",
      " |      \n",
      " |      If the key is not found, return the default if given; otherwise,\n",
      " |      raise a KeyError.\n",
      " |  \n",
      " |  popitem(self, /)\n",
      " |      Remove and return a (key, value) pair as a 2-tuple.\n",
      " |      \n",
      " |      Pairs are returned in LIFO (last-in, first-out) order.\n",
      " |      Raises KeyError if the dict is empty.\n",
      " |  \n",
      " |  setdefault(self, key, default=None, /)\n",
      " |      Insert key with a value of default if key is not in the dictionary.\n",
      " |      \n",
      " |      Return the value for key if key is in the dictionary, else default.\n",
      " |  \n",
      " |  update(...)\n",
      " |      D.update([E, ]**F) -> None.  Update D from dict/iterable E and F.\n",
      " |      If E is present and has a .keys() method, then does:  for k in E: D[k] = E[k]\n",
      " |      If E is present and lacks a .keys() method, then does:  for k, v in E: D[k] = v\n",
      " |      In either case, this is followed by: for k in F:  D[k] = F[k]\n",
      " |  \n",
      " |  values(...)\n",
      " |      D.values() -> an object providing a view on D's values\n",
      " |  \n",
      " |  ----------------------------------------------------------------------\n",
      " |  Class methods defined here:\n",
      " |  \n",
      " |  __class_getitem__(...) from builtins.type\n",
      " |      See PEP 585\n",
      " |  \n",
      " |  fromkeys(iterable, value=None, /) from builtins.type\n",
      " |      Create a new dictionary with keys from iterable and values set to value.\n",
      " |  \n",
      " |  ----------------------------------------------------------------------\n",
      " |  Static methods defined here:\n",
      " |  \n",
      " |  __new__(*args, **kwargs) from builtins.type\n",
      " |      Create and return a new object.  See help(type) for accurate signature.\n",
      " |  \n",
      " |  ----------------------------------------------------------------------\n",
      " |  Data and other attributes defined here:\n",
      " |  \n",
      " |  __hash__ = None\n",
      "\n"
     ]
    }
   ],
   "source": [
    "help(dict)"
   ]
  }
 ],
 "metadata": {
  "kaggle": {
   "accelerator": "none",
   "dataSources": [],
   "isGpuEnabled": false,
   "isInternetEnabled": false,
   "language": "python",
   "sourceType": "notebook"
  },
  "kernelspec": {
   "display_name": "Python 3",
   "language": "python",
   "name": "python3"
  },
  "language_info": {
   "codemirror_mode": {
    "name": "ipython",
    "version": 3
   },
   "file_extension": ".py",
   "mimetype": "text/x-python",
   "name": "python",
   "nbconvert_exporter": "python",
   "pygments_lexer": "ipython3",
   "version": "3.10.12"
  },
  "papermill": {
   "default_parameters": {},
   "duration": 5.691148,
   "end_time": "2025-03-14T20:33:30.360554",
   "environment_variables": {},
   "exception": null,
   "input_path": "__notebook__.ipynb",
   "output_path": "__notebook__.ipynb",
   "parameters": {},
   "start_time": "2025-03-14T20:33:24.669406",
   "version": "2.6.0"
  }
 },
 "nbformat": 4,
 "nbformat_minor": 5
}
