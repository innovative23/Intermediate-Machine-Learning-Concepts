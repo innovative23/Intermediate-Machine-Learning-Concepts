{
 "cells": [
  {
   "cell_type": "markdown",
   "id": "588d97f9",
   "metadata": {
    "papermill": {
     "duration": 0.002374,
     "end_time": "2025-03-14T20:08:46.241108",
     "exception": false,
     "start_time": "2025-03-14T20:08:46.238734",
     "status": "completed"
    },
    "tags": []
   },
   "source": [
    "# Introduction\n",
    "**Intermediate Machine Learning** \n",
    "\n",
    "- tackle data types often found in real-world datasets (**missing values**, **categorical variables**),\n",
    "- design **pipelines** to improve the quality of your machine learning code,\n",
    "- use advanced techniques for model validation (**cross-validation**),\n",
    "- build state-of-the-art models that are widely used to win Kaggle competitions (**XGBoost**), and\n",
    "- avoid common and important data science mistakes (**leakage**).\n"
   ]
  }
 ],
 "metadata": {
  "kaggle": {
   "accelerator": "none",
   "dataSources": [
    {
     "databundleVersionId": 111096,
     "sourceId": 10211,
     "sourceType": "competition"
    },
    {
     "datasetId": 2996,
     "sourceId": 5019,
     "sourceType": "datasetVersion"
    },
    {
     "datasetId": 2709,
     "sourceId": 38454,
     "sourceType": "datasetVersion"
    }
   ],
   "isGpuEnabled": false,
   "isInternetEnabled": false,
   "language": "python",
   "sourceType": "notebook"
  },
  "kernelspec": {
   "display_name": "Python 3",
   "language": "python",
   "name": "python3"
  },
  "language_info": {
   "codemirror_mode": {
    "name": "ipython",
    "version": 3
   },
   "file_extension": ".py",
   "mimetype": "text/x-python",
   "name": "python",
   "nbconvert_exporter": "python",
   "pygments_lexer": "ipython3",
   "version": "3.10.12"
  },
  "papermill": {
   "default_parameters": {},
   "duration": 3.543376,
   "end_time": "2025-03-14T20:08:46.764312",
   "environment_variables": {},
   "exception": null,
   "input_path": "__notebook__.ipynb",
   "output_path": "__notebook__.ipynb",
   "parameters": {},
   "start_time": "2025-03-14T20:08:43.220936",
   "version": "2.6.0"
  }
 },
 "nbformat": 4,
 "nbformat_minor": 5
}
