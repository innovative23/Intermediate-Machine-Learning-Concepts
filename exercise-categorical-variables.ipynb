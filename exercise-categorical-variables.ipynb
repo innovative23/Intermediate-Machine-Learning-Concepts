{
 "cells": [
  {
   "cell_type": "markdown",
   "id": "15aef928",
   "metadata": {
    "papermill": {
     "duration": 0.008923,
     "end_time": "2025-03-14T20:12:24.916399",
     "exception": false,
     "start_time": "2025-03-14T20:12:24.907476",
     "status": "completed"
    },
    "tags": []
   },
   "source": [
    "**This notebook is an exercise in the [Intermediate Machine Learning](https://www.kaggle.com/learn/intermediate-machine-learning) course.  You can reference the tutorial at [this link](https://www.kaggle.com/alexisbcook/categorical-variables).**\n",
    "\n",
    "---\n"
   ]
  },
  {
   "cell_type": "markdown",
   "id": "a8b9e46b",
   "metadata": {
    "papermill": {
     "duration": 0.007913,
     "end_time": "2025-03-14T20:12:24.932839",
     "exception": false,
     "start_time": "2025-03-14T20:12:24.924926",
     "status": "completed"
    },
    "tags": []
   },
   "source": [
    "By encoding **categorical variables**, you'll obtain your best results thus far!\n",
    "\n",
    "# Setup\n",
    "\n",
    "The questions below will give you feedback on your work. Run the following cell to set up the feedback system."
   ]
  },
  {
   "cell_type": "code",
   "execution_count": 1,
   "id": "8721b4f2",
   "metadata": {
    "execution": {
     "iopub.execute_input": "2025-03-14T20:12:24.951244Z",
     "iopub.status.busy": "2025-03-14T20:12:24.950806Z",
     "iopub.status.idle": "2025-03-14T20:12:26.100207Z",
     "shell.execute_reply": "2025-03-14T20:12:26.098994Z"
    },
    "papermill": {
     "duration": 1.16091,
     "end_time": "2025-03-14T20:12:26.102346",
     "exception": false,
     "start_time": "2025-03-14T20:12:24.941436",
     "status": "completed"
    },
    "tags": []
   },
   "outputs": [
    {
     "name": "stdout",
     "output_type": "stream",
     "text": [
      "Setup Complete\n"
     ]
    }
   ],
   "source": [
    "# Set up code checking\n",
    "import os\n",
    "if not os.path.exists(\"../input/train.csv\"):\n",
    "    os.symlink(\"../input/home-data-for-ml-course/train.csv\", \"../input/train.csv\")  \n",
    "    os.symlink(\"../input/home-data-for-ml-course/test.csv\", \"../input/test.csv\") \n",
    "from learntools.core import binder\n",
    "binder.bind(globals())\n",
    "from learntools.ml_intermediate.ex3 import *\n",
    "print(\"Setup Complete\")"
   ]
  },
  {
   "cell_type": "markdown",
   "id": "6c94cb0e",
   "metadata": {
    "papermill": {
     "duration": 0.008136,
     "end_time": "2025-03-14T20:12:26.119025",
     "exception": false,
     "start_time": "2025-03-14T20:12:26.110889",
     "status": "completed"
    },
    "tags": []
   },
   "source": [
    "In this exercise, you will work with data from the [Housing Prices Competition for Kaggle Learn Users](https://www.kaggle.com/c/home-data-for-ml-course). \n",
    "\n",
    "![Ames Housing dataset image](https://i.imgur.com/lTJVG4e.png)\n",
    "\n",
    "Run the next code cell without changes to load the training and validation sets in `X_train`, `X_valid`, `y_train`, and `y_valid`.  The test set is loaded in `X_test`."
   ]
  },
  {
   "cell_type": "code",
   "execution_count": 2,
   "id": "018f6ebb",
   "metadata": {
    "execution": {
     "iopub.execute_input": "2025-03-14T20:12:26.137185Z",
     "iopub.status.busy": "2025-03-14T20:12:26.136666Z",
     "iopub.status.idle": "2025-03-14T20:12:27.960613Z",
     "shell.execute_reply": "2025-03-14T20:12:27.959324Z"
    },
    "papermill": {
     "duration": 1.835358,
     "end_time": "2025-03-14T20:12:27.962790",
     "exception": false,
     "start_time": "2025-03-14T20:12:26.127432",
     "status": "completed"
    },
    "tags": []
   },
   "outputs": [],
   "source": [
    "import pandas as pd\n",
    "from sklearn.model_selection import train_test_split\n",
    "\n",
    "# Read the data\n",
    "X = pd.read_csv('../input/train.csv', index_col='Id') \n",
    "X_test = pd.read_csv('../input/test.csv', index_col='Id')\n",
    "\n",
    "# Remove rows with missing target, separate target from predictors\n",
    "X.dropna(axis=0, subset=['SalePrice'], inplace=True)\n",
    "y = X.SalePrice\n",
    "X.drop(['SalePrice'], axis=1, inplace=True)\n",
    "\n",
    "# To keep things simple, we'll drop columns with missing values\n",
    "cols_with_missing = [col for col in X.columns if X[col].isnull().any()] \n",
    "X.drop(cols_with_missing, axis=1, inplace=True)\n",
    "X_test.drop(cols_with_missing, axis=1, inplace=True)\n",
    "\n",
    "# Break off validation set from training data\n",
    "X_train, X_valid, y_train, y_valid = train_test_split(X, y,\n",
    "                                                      train_size=0.8, test_size=0.2,\n",
    "                                                      random_state=0)"
   ]
  },
  {
   "cell_type": "markdown",
   "id": "2166b594",
   "metadata": {
    "papermill": {
     "duration": 0.007982,
     "end_time": "2025-03-14T20:12:27.979249",
     "exception": false,
     "start_time": "2025-03-14T20:12:27.971267",
     "status": "completed"
    },
    "tags": []
   },
   "source": [
    "Use the next code cell to print the first five rows of the data."
   ]
  },
  {
   "cell_type": "code",
   "execution_count": 3,
   "id": "60e4123b",
   "metadata": {
    "execution": {
     "iopub.execute_input": "2025-03-14T20:12:27.997666Z",
     "iopub.status.busy": "2025-03-14T20:12:27.997267Z",
     "iopub.status.idle": "2025-03-14T20:12:28.027881Z",
     "shell.execute_reply": "2025-03-14T20:12:28.026796Z"
    },
    "papermill": {
     "duration": 0.042322,
     "end_time": "2025-03-14T20:12:28.029717",
     "exception": false,
     "start_time": "2025-03-14T20:12:27.987395",
     "status": "completed"
    },
    "tags": []
   },
   "outputs": [
    {
     "data": {
      "text/html": [
       "<div>\n",
       "<style scoped>\n",
       "    .dataframe tbody tr th:only-of-type {\n",
       "        vertical-align: middle;\n",
       "    }\n",
       "\n",
       "    .dataframe tbody tr th {\n",
       "        vertical-align: top;\n",
       "    }\n",
       "\n",
       "    .dataframe thead th {\n",
       "        text-align: right;\n",
       "    }\n",
       "</style>\n",
       "<table border=\"1\" class=\"dataframe\">\n",
       "  <thead>\n",
       "    <tr style=\"text-align: right;\">\n",
       "      <th></th>\n",
       "      <th>MSSubClass</th>\n",
       "      <th>MSZoning</th>\n",
       "      <th>LotArea</th>\n",
       "      <th>Street</th>\n",
       "      <th>LotShape</th>\n",
       "      <th>LandContour</th>\n",
       "      <th>Utilities</th>\n",
       "      <th>LotConfig</th>\n",
       "      <th>LandSlope</th>\n",
       "      <th>Neighborhood</th>\n",
       "      <th>...</th>\n",
       "      <th>OpenPorchSF</th>\n",
       "      <th>EnclosedPorch</th>\n",
       "      <th>3SsnPorch</th>\n",
       "      <th>ScreenPorch</th>\n",
       "      <th>PoolArea</th>\n",
       "      <th>MiscVal</th>\n",
       "      <th>MoSold</th>\n",
       "      <th>YrSold</th>\n",
       "      <th>SaleType</th>\n",
       "      <th>SaleCondition</th>\n",
       "    </tr>\n",
       "    <tr>\n",
       "      <th>Id</th>\n",
       "      <th></th>\n",
       "      <th></th>\n",
       "      <th></th>\n",
       "      <th></th>\n",
       "      <th></th>\n",
       "      <th></th>\n",
       "      <th></th>\n",
       "      <th></th>\n",
       "      <th></th>\n",
       "      <th></th>\n",
       "      <th></th>\n",
       "      <th></th>\n",
       "      <th></th>\n",
       "      <th></th>\n",
       "      <th></th>\n",
       "      <th></th>\n",
       "      <th></th>\n",
       "      <th></th>\n",
       "      <th></th>\n",
       "      <th></th>\n",
       "      <th></th>\n",
       "    </tr>\n",
       "  </thead>\n",
       "  <tbody>\n",
       "    <tr>\n",
       "      <th>619</th>\n",
       "      <td>20</td>\n",
       "      <td>RL</td>\n",
       "      <td>11694</td>\n",
       "      <td>Pave</td>\n",
       "      <td>Reg</td>\n",
       "      <td>Lvl</td>\n",
       "      <td>AllPub</td>\n",
       "      <td>Inside</td>\n",
       "      <td>Gtl</td>\n",
       "      <td>NridgHt</td>\n",
       "      <td>...</td>\n",
       "      <td>108</td>\n",
       "      <td>0</td>\n",
       "      <td>0</td>\n",
       "      <td>260</td>\n",
       "      <td>0</td>\n",
       "      <td>0</td>\n",
       "      <td>7</td>\n",
       "      <td>2007</td>\n",
       "      <td>New</td>\n",
       "      <td>Partial</td>\n",
       "    </tr>\n",
       "    <tr>\n",
       "      <th>871</th>\n",
       "      <td>20</td>\n",
       "      <td>RL</td>\n",
       "      <td>6600</td>\n",
       "      <td>Pave</td>\n",
       "      <td>Reg</td>\n",
       "      <td>Lvl</td>\n",
       "      <td>AllPub</td>\n",
       "      <td>Inside</td>\n",
       "      <td>Gtl</td>\n",
       "      <td>NAmes</td>\n",
       "      <td>...</td>\n",
       "      <td>0</td>\n",
       "      <td>0</td>\n",
       "      <td>0</td>\n",
       "      <td>0</td>\n",
       "      <td>0</td>\n",
       "      <td>0</td>\n",
       "      <td>8</td>\n",
       "      <td>2009</td>\n",
       "      <td>WD</td>\n",
       "      <td>Normal</td>\n",
       "    </tr>\n",
       "    <tr>\n",
       "      <th>93</th>\n",
       "      <td>30</td>\n",
       "      <td>RL</td>\n",
       "      <td>13360</td>\n",
       "      <td>Pave</td>\n",
       "      <td>IR1</td>\n",
       "      <td>HLS</td>\n",
       "      <td>AllPub</td>\n",
       "      <td>Inside</td>\n",
       "      <td>Gtl</td>\n",
       "      <td>Crawfor</td>\n",
       "      <td>...</td>\n",
       "      <td>0</td>\n",
       "      <td>44</td>\n",
       "      <td>0</td>\n",
       "      <td>0</td>\n",
       "      <td>0</td>\n",
       "      <td>0</td>\n",
       "      <td>8</td>\n",
       "      <td>2009</td>\n",
       "      <td>WD</td>\n",
       "      <td>Normal</td>\n",
       "    </tr>\n",
       "    <tr>\n",
       "      <th>818</th>\n",
       "      <td>20</td>\n",
       "      <td>RL</td>\n",
       "      <td>13265</td>\n",
       "      <td>Pave</td>\n",
       "      <td>IR1</td>\n",
       "      <td>Lvl</td>\n",
       "      <td>AllPub</td>\n",
       "      <td>CulDSac</td>\n",
       "      <td>Gtl</td>\n",
       "      <td>Mitchel</td>\n",
       "      <td>...</td>\n",
       "      <td>59</td>\n",
       "      <td>0</td>\n",
       "      <td>0</td>\n",
       "      <td>0</td>\n",
       "      <td>0</td>\n",
       "      <td>0</td>\n",
       "      <td>7</td>\n",
       "      <td>2008</td>\n",
       "      <td>WD</td>\n",
       "      <td>Normal</td>\n",
       "    </tr>\n",
       "    <tr>\n",
       "      <th>303</th>\n",
       "      <td>20</td>\n",
       "      <td>RL</td>\n",
       "      <td>13704</td>\n",
       "      <td>Pave</td>\n",
       "      <td>IR1</td>\n",
       "      <td>Lvl</td>\n",
       "      <td>AllPub</td>\n",
       "      <td>Corner</td>\n",
       "      <td>Gtl</td>\n",
       "      <td>CollgCr</td>\n",
       "      <td>...</td>\n",
       "      <td>81</td>\n",
       "      <td>0</td>\n",
       "      <td>0</td>\n",
       "      <td>0</td>\n",
       "      <td>0</td>\n",
       "      <td>0</td>\n",
       "      <td>1</td>\n",
       "      <td>2006</td>\n",
       "      <td>WD</td>\n",
       "      <td>Normal</td>\n",
       "    </tr>\n",
       "  </tbody>\n",
       "</table>\n",
       "<p>5 rows × 60 columns</p>\n",
       "</div>"
      ],
      "text/plain": [
       "     MSSubClass MSZoning  LotArea Street LotShape LandContour Utilities  \\\n",
       "Id                                                                        \n",
       "619          20       RL    11694   Pave      Reg         Lvl    AllPub   \n",
       "871          20       RL     6600   Pave      Reg         Lvl    AllPub   \n",
       "93           30       RL    13360   Pave      IR1         HLS    AllPub   \n",
       "818          20       RL    13265   Pave      IR1         Lvl    AllPub   \n",
       "303          20       RL    13704   Pave      IR1         Lvl    AllPub   \n",
       "\n",
       "    LotConfig LandSlope Neighborhood  ... OpenPorchSF EnclosedPorch 3SsnPorch  \\\n",
       "Id                                    ...                                       \n",
       "619    Inside       Gtl      NridgHt  ...         108             0         0   \n",
       "871    Inside       Gtl        NAmes  ...           0             0         0   \n",
       "93     Inside       Gtl      Crawfor  ...           0            44         0   \n",
       "818   CulDSac       Gtl      Mitchel  ...          59             0         0   \n",
       "303    Corner       Gtl      CollgCr  ...          81             0         0   \n",
       "\n",
       "    ScreenPorch  PoolArea  MiscVal  MoSold  YrSold SaleType SaleCondition  \n",
       "Id                                                                         \n",
       "619         260         0        0       7    2007      New       Partial  \n",
       "871           0         0        0       8    2009       WD        Normal  \n",
       "93            0         0        0       8    2009       WD        Normal  \n",
       "818           0         0        0       7    2008       WD        Normal  \n",
       "303           0         0        0       1    2006       WD        Normal  \n",
       "\n",
       "[5 rows x 60 columns]"
      ]
     },
     "execution_count": 3,
     "metadata": {},
     "output_type": "execute_result"
    }
   ],
   "source": [
    "X_train.head()"
   ]
  },
  {
   "cell_type": "markdown",
   "id": "f090eca5",
   "metadata": {
    "papermill": {
     "duration": 0.008264,
     "end_time": "2025-03-14T20:12:28.046724",
     "exception": false,
     "start_time": "2025-03-14T20:12:28.038460",
     "status": "completed"
    },
    "tags": []
   },
   "source": [
    "Notice that the dataset contains both numerical and categorical variables.  You'll need to encode the categorical data before training a model.\n",
    "\n",
    "To compare different models, you'll use the same `score_dataset()` function from the tutorial.  This function reports the [mean absolute error](https://en.wikipedia.org/wiki/Mean_absolute_error) (MAE) from a random forest model."
   ]
  },
  {
   "cell_type": "code",
   "execution_count": 4,
   "id": "1bbb4451",
   "metadata": {
    "execution": {
     "iopub.execute_input": "2025-03-14T20:12:28.065176Z",
     "iopub.status.busy": "2025-03-14T20:12:28.064751Z",
     "iopub.status.idle": "2025-03-14T20:12:28.574348Z",
     "shell.execute_reply": "2025-03-14T20:12:28.573289Z"
    },
    "papermill": {
     "duration": 0.520987,
     "end_time": "2025-03-14T20:12:28.576347",
     "exception": false,
     "start_time": "2025-03-14T20:12:28.055360",
     "status": "completed"
    },
    "tags": []
   },
   "outputs": [],
   "source": [
    "from sklearn.ensemble import RandomForestRegressor\n",
    "from sklearn.metrics import mean_absolute_error\n",
    "\n",
    "# function for comparing different approaches\n",
    "def score_dataset(X_train, X_valid, y_train, y_valid):\n",
    "    model = RandomForestRegressor(n_estimators=100, random_state=0)\n",
    "    model.fit(X_train, y_train)\n",
    "    preds = model.predict(X_valid)\n",
    "    return mean_absolute_error(y_valid, preds)"
   ]
  },
  {
   "cell_type": "markdown",
   "id": "11c23642",
   "metadata": {
    "papermill": {
     "duration": 0.008902,
     "end_time": "2025-03-14T20:12:28.594402",
     "exception": false,
     "start_time": "2025-03-14T20:12:28.585500",
     "status": "completed"
    },
    "tags": []
   },
   "source": [
    "# Step 1: Drop columns with categorical data\n",
    "\n",
    "You'll get started with the most straightforward approach.  Use the code cell below to preprocess the data in `X_train` and `X_valid` to remove columns with categorical data.  Set the preprocessed DataFrames to `drop_X_train` and `drop_X_valid`, respectively.  "
   ]
  },
  {
   "cell_type": "code",
   "execution_count": 5,
   "id": "a8bdc152",
   "metadata": {
    "execution": {
     "iopub.execute_input": "2025-03-14T20:12:28.613489Z",
     "iopub.status.busy": "2025-03-14T20:12:28.613038Z",
     "iopub.status.idle": "2025-03-14T20:12:28.627973Z",
     "shell.execute_reply": "2025-03-14T20:12:28.626868Z"
    },
    "papermill": {
     "duration": 0.027353,
     "end_time": "2025-03-14T20:12:28.630240",
     "exception": false,
     "start_time": "2025-03-14T20:12:28.602887",
     "status": "completed"
    },
    "tags": []
   },
   "outputs": [
    {
     "data": {
      "application/javascript": [
       "parent.postMessage({\"jupyterEvent\": \"custom.exercise_interaction\", \"data\": {\"outcomeType\": 1, \"valueTowardsCompletion\": 0.5, \"interactionType\": 1, \"questionType\": 2, \"questionId\": \"1_Drop\", \"learnToolsVersion\": \"0.3.4\", \"failureMessage\": \"\", \"exceptionClass\": \"\", \"trace\": \"\"}}, \"*\")"
      ],
      "text/plain": [
       "<IPython.core.display.Javascript object>"
      ]
     },
     "metadata": {},
     "output_type": "display_data"
    },
    {
     "data": {
      "text/markdown": [
       "<span style=\"color:#33cc33\">Correct</span>"
      ],
      "text/plain": [
       "Correct"
      ]
     },
     "metadata": {},
     "output_type": "display_data"
    }
   ],
   "source": [
    "# Fill in the lines below: drop columns in training and validation data\n",
    "X_train_Cat = X_train.copy()\n",
    "X_valid_Cat = X_valid.copy()\n",
    "\n",
    "#way1 \n",
    "#drop_X_train = X_train_Cat.select_dtypes(exclude = ['object'])\n",
    "#drop_X_valid = X_valid_Cat.select_dtypes(exclude = ['object'])\n",
    "\n",
    "#Way 2\n",
    "cat_cols = [col for col in X_train_Cat.columns if X_train_Cat[col].dtype == \"object\"]\n",
    "drop_X_train = X_train_Cat.drop(cat_cols, axis = 1)\n",
    "drop_X_valid = X_valid_Cat.drop(cat_cols, axis = 1)\n",
    "# Check your answers\n",
    "step_1.check()"
   ]
  },
  {
   "cell_type": "code",
   "execution_count": 6,
   "id": "abd41898",
   "metadata": {
    "execution": {
     "iopub.execute_input": "2025-03-14T20:12:28.650311Z",
     "iopub.status.busy": "2025-03-14T20:12:28.649888Z",
     "iopub.status.idle": "2025-03-14T20:12:28.654249Z",
     "shell.execute_reply": "2025-03-14T20:12:28.652947Z"
    },
    "papermill": {
     "duration": 0.015949,
     "end_time": "2025-03-14T20:12:28.656037",
     "exception": false,
     "start_time": "2025-03-14T20:12:28.640088",
     "status": "completed"
    },
    "tags": []
   },
   "outputs": [],
   "source": [
    "# Lines below will give you a hint or solution code\n",
    "#step_1.hint()\n",
    "#step_1.solution()"
   ]
  },
  {
   "cell_type": "markdown",
   "id": "65308269",
   "metadata": {
    "papermill": {
     "duration": 0.008288,
     "end_time": "2025-03-14T20:12:28.673735",
     "exception": false,
     "start_time": "2025-03-14T20:12:28.665447",
     "status": "completed"
    },
    "tags": []
   },
   "source": [
    "Run the next code cell to get the MAE for this approach."
   ]
  },
  {
   "cell_type": "code",
   "execution_count": 7,
   "id": "c6d1f71d",
   "metadata": {
    "execution": {
     "iopub.execute_input": "2025-03-14T20:12:28.693238Z",
     "iopub.status.busy": "2025-03-14T20:12:28.692831Z",
     "iopub.status.idle": "2025-03-14T20:12:30.020017Z",
     "shell.execute_reply": "2025-03-14T20:12:30.017634Z"
    },
    "papermill": {
     "duration": 1.339553,
     "end_time": "2025-03-14T20:12:30.022287",
     "exception": false,
     "start_time": "2025-03-14T20:12:28.682734",
     "status": "completed"
    },
    "tags": []
   },
   "outputs": [
    {
     "name": "stdout",
     "output_type": "stream",
     "text": [
      "MAE from Approach 1 (Drop categorical variables):\n",
      "17837.82570776256\n"
     ]
    }
   ],
   "source": [
    "print(\"MAE from Approach 1 (Drop categorical variables):\")\n",
    "print(score_dataset(drop_X_train, drop_X_valid, y_train, y_valid))"
   ]
  },
  {
   "cell_type": "markdown",
   "id": "7c69fff7",
   "metadata": {
    "papermill": {
     "duration": 0.009813,
     "end_time": "2025-03-14T20:12:30.041374",
     "exception": false,
     "start_time": "2025-03-14T20:12:30.031561",
     "status": "completed"
    },
    "tags": []
   },
   "source": [
    "Before jumping into ordinal encoding, we'll investigate the dataset.  Specifically, we'll look at the `'Condition2'` column.  The code cell below prints the unique entries in both the training and validation sets."
   ]
  },
  {
   "cell_type": "code",
   "execution_count": 8,
   "id": "b9394564",
   "metadata": {
    "execution": {
     "iopub.execute_input": "2025-03-14T20:12:30.062253Z",
     "iopub.status.busy": "2025-03-14T20:12:30.061765Z",
     "iopub.status.idle": "2025-03-14T20:12:30.071312Z",
     "shell.execute_reply": "2025-03-14T20:12:30.070188Z"
    },
    "papermill": {
     "duration": 0.02261,
     "end_time": "2025-03-14T20:12:30.073153",
     "exception": false,
     "start_time": "2025-03-14T20:12:30.050543",
     "status": "completed"
    },
    "tags": []
   },
   "outputs": [
    {
     "name": "stdout",
     "output_type": "stream",
     "text": [
      "Unique values in 'Condition2' column in training data: ['Norm' 'PosA' 'Feedr' 'PosN' 'Artery' 'RRAe']\n",
      "\n",
      "Unique values in 'Condition2' column in validation data: ['Norm' 'RRAn' 'RRNn' 'Artery' 'Feedr' 'PosN']\n"
     ]
    }
   ],
   "source": [
    "print(\"Unique values in 'Condition2' column in training data:\", X_train['Condition2'].unique())\n",
    "print(\"\\nUnique values in 'Condition2' column in validation data:\", X_valid['Condition2'].unique())"
   ]
  },
  {
   "cell_type": "markdown",
   "id": "708a6958",
   "metadata": {
    "papermill": {
     "duration": 0.009133,
     "end_time": "2025-03-14T20:12:30.091468",
     "exception": false,
     "start_time": "2025-03-14T20:12:30.082335",
     "status": "completed"
    },
    "tags": []
   },
   "source": [
    "# Step 2: Ordinal encoding\n",
    "\n",
    "### Part A\n",
    "\n",
    "If you now write code to: \n",
    "- fit an ordinal encoder to the training data, and then \n",
    "- use it to transform both the training and validation data, \n",
    "\n",
    "you'll get an error.  Can you see why this is the case?  (_You'll need  to use the above output to answer this question._)"
   ]
  },
  {
   "cell_type": "code",
   "execution_count": 9,
   "id": "d3137289",
   "metadata": {
    "execution": {
     "iopub.execute_input": "2025-03-14T20:12:30.112439Z",
     "iopub.status.busy": "2025-03-14T20:12:30.111927Z",
     "iopub.status.idle": "2025-03-14T20:12:30.120723Z",
     "shell.execute_reply": "2025-03-14T20:12:30.119250Z"
    },
    "papermill": {
     "duration": 0.020778,
     "end_time": "2025-03-14T20:12:30.122492",
     "exception": false,
     "start_time": "2025-03-14T20:12:30.101714",
     "status": "completed"
    },
    "tags": []
   },
   "outputs": [
    {
     "data": {
      "application/javascript": [
       "parent.postMessage({\"jupyterEvent\": \"custom.exercise_interaction\", \"data\": {\"outcomeType\": 1, \"valueTowardsCompletion\": 0.5, \"interactionType\": 1, \"questionType\": 4, \"questionId\": \"2.1_LabelA\", \"learnToolsVersion\": \"0.3.4\", \"failureMessage\": \"\", \"exceptionClass\": \"\", \"trace\": \"\"}}, \"*\")"
      ],
      "text/plain": [
       "<IPython.core.display.Javascript object>"
      ]
     },
     "metadata": {},
     "output_type": "display_data"
    },
    {
     "data": {
      "text/markdown": [
       "<span style=\"color:#33cc33\">Correct:</span> \n",
       "\n",
       "Fitting an ordinal encoder to a column in the training data creates a corresponding integer-valued label for each unique value **that appears in the training data**. In the case that the validation data contains values that don't also appear in the training data, the encoder will throw an error, because these values won't have an integer assigned to them.  Notice that the `'Condition2'` column in the validation data contains the values `'RRAn'` and `'RRNn'`, but these don't appear in the training data -- thus, if we try to use an ordinal encoder with scikit-learn, the code will throw an error."
      ],
      "text/plain": [
       "Correct: \n",
       "\n",
       "Fitting an ordinal encoder to a column in the training data creates a corresponding integer-valued label for each unique value **that appears in the training data**. In the case that the validation data contains values that don't also appear in the training data, the encoder will throw an error, because these values won't have an integer assigned to them.  Notice that the `'Condition2'` column in the validation data contains the values `'RRAn'` and `'RRNn'`, but these don't appear in the training data -- thus, if we try to use an ordinal encoder with scikit-learn, the code will throw an error."
      ]
     },
     "metadata": {},
     "output_type": "display_data"
    }
   ],
   "source": [
    "# Check your answer (Run this code cell to receive credit!)\n",
    "step_2.a.check()"
   ]
  },
  {
   "cell_type": "code",
   "execution_count": 10,
   "id": "300d0511",
   "metadata": {
    "execution": {
     "iopub.execute_input": "2025-03-14T20:12:30.142807Z",
     "iopub.status.busy": "2025-03-14T20:12:30.142420Z",
     "iopub.status.idle": "2025-03-14T20:12:30.147329Z",
     "shell.execute_reply": "2025-03-14T20:12:30.145419Z"
    },
    "papermill": {
     "duration": 0.017328,
     "end_time": "2025-03-14T20:12:30.149319",
     "exception": false,
     "start_time": "2025-03-14T20:12:30.131991",
     "status": "completed"
    },
    "tags": []
   },
   "outputs": [],
   "source": [
    "#step_2.a.hint()"
   ]
  },
  {
   "cell_type": "markdown",
   "id": "18db467a",
   "metadata": {
    "papermill": {
     "duration": 0.011061,
     "end_time": "2025-03-14T20:12:30.170779",
     "exception": false,
     "start_time": "2025-03-14T20:12:30.159718",
     "status": "completed"
    },
    "tags": []
   },
   "source": [
    "This is a common problem that you'll encounter with real-world data, and there are many approaches to fixing this issue.  For instance, you can write a custom ordinal encoder to deal with new categories.  The simplest approach, however, is to drop the problematic categorical columns.  \n",
    "\n",
    "Run the code cell below to save the problematic columns to a Python list `bad_label_cols`.  Likewise, columns that can be safely ordinal encoded are stored in `good_label_cols`."
   ]
  },
  {
   "cell_type": "code",
   "execution_count": 11,
   "id": "badeb0c9",
   "metadata": {
    "execution": {
     "iopub.execute_input": "2025-03-14T20:12:30.192311Z",
     "iopub.status.busy": "2025-03-14T20:12:30.191872Z",
     "iopub.status.idle": "2025-03-14T20:12:30.206685Z",
     "shell.execute_reply": "2025-03-14T20:12:30.205514Z"
    },
    "papermill": {
     "duration": 0.027612,
     "end_time": "2025-03-14T20:12:30.208789",
     "exception": false,
     "start_time": "2025-03-14T20:12:30.181177",
     "status": "completed"
    },
    "tags": []
   },
   "outputs": [
    {
     "name": "stdout",
     "output_type": "stream",
     "text": [
      "Categorical columns that will be ordinal encoded: ['MSZoning', 'Street', 'LotShape', 'LandContour', 'Utilities', 'LotConfig', 'LandSlope', 'Neighborhood', 'Condition1', 'BldgType', 'HouseStyle', 'RoofStyle', 'Exterior1st', 'Exterior2nd', 'ExterQual', 'ExterCond', 'Foundation', 'Heating', 'HeatingQC', 'CentralAir', 'KitchenQual', 'PavedDrive', 'SaleType', 'SaleCondition']\n",
      "\n",
      "Categorical columns that will be dropped from the dataset: ['Condition2', 'RoofMatl', 'Functional']\n"
     ]
    }
   ],
   "source": [
    "# Categorical columns in the training data\n",
    "object_cols = [col for col in X_train.columns if X_train[col].dtype == \"object\"]\n",
    "\n",
    "# Columns that can be safely ordinal encoded\n",
    "good_label_cols = [col for col in object_cols if \n",
    "                   set(X_valid[col]).issubset(set(X_train[col]))]\n",
    "        \n",
    "# Problematic columns that will be dropped from the dataset\n",
    "bad_label_cols = list(set(object_cols)-set(good_label_cols))\n",
    "        \n",
    "print('Categorical columns that will be ordinal encoded:', good_label_cols)\n",
    "print('\\nCategorical columns that will be dropped from the dataset:', bad_label_cols)"
   ]
  },
  {
   "cell_type": "markdown",
   "id": "7cfe82a9",
   "metadata": {
    "papermill": {
     "duration": 0.008956,
     "end_time": "2025-03-14T20:12:30.227303",
     "exception": false,
     "start_time": "2025-03-14T20:12:30.218347",
     "status": "completed"
    },
    "tags": []
   },
   "source": [
    "### Part B\n",
    "\n",
    "Use the next code cell to ordinal encode the data in `X_train` and `X_valid`.  Set the preprocessed DataFrames to `label_X_train` and `label_X_valid`, respectively.  \n",
    "- We have provided code below to drop the categorical columns in `bad_label_cols` from the dataset. \n",
    "- You should ordinal encode the categorical columns in `good_label_cols`.  "
   ]
  },
  {
   "cell_type": "code",
   "execution_count": 12,
   "id": "edc703c9",
   "metadata": {
    "execution": {
     "iopub.execute_input": "2025-03-14T20:12:30.248944Z",
     "iopub.status.busy": "2025-03-14T20:12:30.248526Z",
     "iopub.status.idle": "2025-03-14T20:12:30.292298Z",
     "shell.execute_reply": "2025-03-14T20:12:30.291265Z"
    },
    "papermill": {
     "duration": 0.057403,
     "end_time": "2025-03-14T20:12:30.293977",
     "exception": false,
     "start_time": "2025-03-14T20:12:30.236574",
     "status": "completed"
    },
    "tags": []
   },
   "outputs": [
    {
     "name": "stdout",
     "output_type": "stream",
     "text": [
      "Index(['MSZoning', 'Street', 'LotShape', 'LandContour', 'Utilities',\n",
      "       'LotConfig', 'LandSlope', 'Neighborhood', 'Condition1', 'BldgType',\n",
      "       'HouseStyle', 'RoofStyle', 'Exterior1st', 'Exterior2nd', 'ExterQual',\n",
      "       'ExterCond', 'Foundation', 'Heating', 'HeatingQC', 'CentralAir',\n",
      "       'KitchenQual', 'PavedDrive', 'SaleType', 'SaleCondition'],\n",
      "      dtype='object')\n"
     ]
    },
    {
     "data": {
      "application/javascript": [
       "parent.postMessage({\"jupyterEvent\": \"custom.exercise_interaction\", \"data\": {\"outcomeType\": 1, \"valueTowardsCompletion\": 0.5, \"interactionType\": 1, \"questionType\": 2, \"questionId\": \"2.2_LabelB\", \"learnToolsVersion\": \"0.3.4\", \"failureMessage\": \"\", \"exceptionClass\": \"\", \"trace\": \"\"}}, \"*\")"
      ],
      "text/plain": [
       "<IPython.core.display.Javascript object>"
      ]
     },
     "metadata": {},
     "output_type": "display_data"
    },
    {
     "data": {
      "text/markdown": [
       "<span style=\"color:#33cc33\">Correct</span>"
      ],
      "text/plain": [
       "Correct"
      ]
     },
     "metadata": {},
     "output_type": "display_data"
    }
   ],
   "source": [
    "from sklearn.preprocessing import OrdinalEncoder\n",
    "\n",
    "# Drop categorical columns that will not be encoded\n",
    "label_X_train = X_train.drop(bad_label_cols, axis=1)\n",
    "label_X_valid = X_valid.drop(bad_label_cols, axis=1)\n",
    "\n",
    "# Apply ordinal encoder \n",
    "\n",
    "OE_X_train = X_train[good_label_cols].copy()\n",
    "OE_X_valid = X_valid[good_label_cols].copy()\n",
    "\n",
    "ordinal_encoder = OrdinalEncoder()\n",
    "\n",
    "OE_X_train_data = pd.DataFrame(ordinal_encoder.fit_transform(OE_X_train))\n",
    "OE_X_valid_data = pd.DataFrame(ordinal_encoder.transform(OE_X_valid))\n",
    "\n",
    "OE_X_train_data.index = X_train.index\n",
    "OE_X_valid_data.index = X_valid.index\n",
    "\n",
    "\n",
    "OE_X_train_data.columns = OE_X_train.columns\n",
    "OE_X_valid_data.columns = OE_X_valid.columns\n",
    "\n",
    "print(OE_X_train_data.columns)\n",
    "\n",
    "label_X_train = label_X_train.drop(good_label_cols,axis = 1)\n",
    "label_X_valid = label_X_valid.drop(good_label_cols, axis = 1)\n",
    "\n",
    "label_X_train = pd.concat([label_X_train,OE_X_train_data], axis = 1)\n",
    "label_X_valid = pd.concat([label_X_valid,OE_X_valid_data], axis = 1)\n",
    "\n",
    "# Check your answer\n",
    "step_2.b.check()"
   ]
  },
  {
   "cell_type": "code",
   "execution_count": 13,
   "id": "871f163e",
   "metadata": {
    "execution": {
     "iopub.execute_input": "2025-03-14T20:12:30.315253Z",
     "iopub.status.busy": "2025-03-14T20:12:30.314794Z",
     "iopub.status.idle": "2025-03-14T20:12:30.319166Z",
     "shell.execute_reply": "2025-03-14T20:12:30.318100Z"
    },
    "papermill": {
     "duration": 0.017147,
     "end_time": "2025-03-14T20:12:30.320999",
     "exception": false,
     "start_time": "2025-03-14T20:12:30.303852",
     "status": "completed"
    },
    "tags": []
   },
   "outputs": [],
   "source": [
    "# Lines below will give you a hint or solution code\n",
    "#step_2.b.hint()\n",
    "#step_2.b.solution()"
   ]
  },
  {
   "cell_type": "markdown",
   "id": "9f7f37a6",
   "metadata": {
    "papermill": {
     "duration": 0.009235,
     "end_time": "2025-03-14T20:12:30.340317",
     "exception": false,
     "start_time": "2025-03-14T20:12:30.331082",
     "status": "completed"
    },
    "tags": []
   },
   "source": [
    "Run the next code cell to get the MAE for this approach."
   ]
  },
  {
   "cell_type": "code",
   "execution_count": 14,
   "id": "157e8fa0",
   "metadata": {
    "execution": {
     "iopub.execute_input": "2025-03-14T20:12:30.361034Z",
     "iopub.status.busy": "2025-03-14T20:12:30.360588Z",
     "iopub.status.idle": "2025-03-14T20:12:31.968970Z",
     "shell.execute_reply": "2025-03-14T20:12:31.967814Z"
    },
    "papermill": {
     "duration": 1.620784,
     "end_time": "2025-03-14T20:12:31.970962",
     "exception": false,
     "start_time": "2025-03-14T20:12:30.350178",
     "status": "completed"
    },
    "tags": []
   },
   "outputs": [
    {
     "name": "stdout",
     "output_type": "stream",
     "text": [
      "MAE from Approach 2 (Ordinal Encoding):\n",
      "17217.052374429226\n"
     ]
    }
   ],
   "source": [
    "print(\"MAE from Approach 2 (Ordinal Encoding):\") \n",
    "print(score_dataset(label_X_train, label_X_valid, y_train, y_valid))"
   ]
  },
  {
   "cell_type": "markdown",
   "id": "0d57e337",
   "metadata": {
    "papermill": {
     "duration": 0.009556,
     "end_time": "2025-03-14T20:12:31.990987",
     "exception": false,
     "start_time": "2025-03-14T20:12:31.981431",
     "status": "completed"
    },
    "tags": []
   },
   "source": [
    "So far, you've tried two different approaches to dealing with categorical variables.  And, you've seen that encoding categorical data yields better results than removing columns from the dataset.\n",
    "\n",
    "Soon, you'll try one-hot encoding.  Before then, there's one additional topic we need to cover.  Begin by running the next code cell without changes.  "
   ]
  },
  {
   "cell_type": "code",
   "execution_count": 15,
   "id": "cc31ad1c",
   "metadata": {
    "execution": {
     "iopub.execute_input": "2025-03-14T20:12:32.014289Z",
     "iopub.status.busy": "2025-03-14T20:12:32.013780Z",
     "iopub.status.idle": "2025-03-14T20:12:32.030941Z",
     "shell.execute_reply": "2025-03-14T20:12:32.029750Z"
    },
    "papermill": {
     "duration": 0.031051,
     "end_time": "2025-03-14T20:12:32.032897",
     "exception": false,
     "start_time": "2025-03-14T20:12:32.001846",
     "status": "completed"
    },
    "tags": []
   },
   "outputs": [
    {
     "data": {
      "text/plain": [
       "[('Street', 2),\n",
       " ('Utilities', 2),\n",
       " ('CentralAir', 2),\n",
       " ('LandSlope', 3),\n",
       " ('PavedDrive', 3),\n",
       " ('LotShape', 4),\n",
       " ('LandContour', 4),\n",
       " ('ExterQual', 4),\n",
       " ('KitchenQual', 4),\n",
       " ('MSZoning', 5),\n",
       " ('LotConfig', 5),\n",
       " ('BldgType', 5),\n",
       " ('ExterCond', 5),\n",
       " ('HeatingQC', 5),\n",
       " ('Condition2', 6),\n",
       " ('RoofStyle', 6),\n",
       " ('Foundation', 6),\n",
       " ('Heating', 6),\n",
       " ('Functional', 6),\n",
       " ('SaleCondition', 6),\n",
       " ('RoofMatl', 7),\n",
       " ('HouseStyle', 8),\n",
       " ('Condition1', 9),\n",
       " ('SaleType', 9),\n",
       " ('Exterior1st', 15),\n",
       " ('Exterior2nd', 16),\n",
       " ('Neighborhood', 25)]"
      ]
     },
     "execution_count": 15,
     "metadata": {},
     "output_type": "execute_result"
    }
   ],
   "source": [
    "# Get number of unique entries in each column with categorical data\n",
    "object_nunique = list(map(lambda col: X_train[col].nunique(), object_cols))\n",
    "d = dict(zip(object_cols, object_nunique))\n",
    "\n",
    "# Print number of unique entries by column, in ascending order\n",
    "sorted(d.items(), key=lambda x: x[1])"
   ]
  },
  {
   "cell_type": "markdown",
   "id": "37cf8822",
   "metadata": {
    "papermill": {
     "duration": 0.010962,
     "end_time": "2025-03-14T20:12:32.054552",
     "exception": false,
     "start_time": "2025-03-14T20:12:32.043590",
     "status": "completed"
    },
    "tags": []
   },
   "source": [
    "# Step 3: Investigating cardinality\n",
    "\n",
    "### Part A\n",
    "\n",
    "The output above shows, for each column with categorical data, the number of unique values in the column.  For instance, the `'Street'` column in the training data has two unique values: `'Grvl'` and `'Pave'`, corresponding to a gravel road and a paved road, respectively.\n",
    "\n",
    "We refer to the number of unique entries of a categorical variable as the **cardinality** of that categorical variable.  For instance, the `'Street'` variable has cardinality 2.\n",
    "\n",
    "Use the output above to answer the questions below."
   ]
  },
  {
   "cell_type": "code",
   "execution_count": 16,
   "id": "983f5157",
   "metadata": {
    "execution": {
     "iopub.execute_input": "2025-03-14T20:12:32.085458Z",
     "iopub.status.busy": "2025-03-14T20:12:32.084955Z",
     "iopub.status.idle": "2025-03-14T20:12:32.094799Z",
     "shell.execute_reply": "2025-03-14T20:12:32.093765Z"
    },
    "papermill": {
     "duration": 0.031456,
     "end_time": "2025-03-14T20:12:32.096542",
     "exception": false,
     "start_time": "2025-03-14T20:12:32.065086",
     "status": "completed"
    },
    "tags": []
   },
   "outputs": [
    {
     "data": {
      "application/javascript": [
       "parent.postMessage({\"jupyterEvent\": \"custom.exercise_interaction\", \"data\": {\"outcomeType\": 1, \"valueTowardsCompletion\": 0.5, \"interactionType\": 1, \"questionType\": 1, \"questionId\": \"3.1_CardinalityA\", \"learnToolsVersion\": \"0.3.4\", \"failureMessage\": \"\", \"exceptionClass\": \"\", \"trace\": \"\"}}, \"*\")"
      ],
      "text/plain": [
       "<IPython.core.display.Javascript object>"
      ]
     },
     "metadata": {},
     "output_type": "display_data"
    },
    {
     "data": {
      "text/markdown": [
       "<span style=\"color:#33cc33\">Correct</span>"
      ],
      "text/plain": [
       "Correct"
      ]
     },
     "metadata": {},
     "output_type": "display_data"
    }
   ],
   "source": [
    "# Fill in the line below: How many categorical variables in the training data\n",
    "# have cardinality greater than 10?\n",
    "high_cardinality_numcols = len({k:v for k,v in d.items() if v > 10})\n",
    "\n",
    "# Fill in the line below: How many columns are needed to one-hot encode the \n",
    "# 'Neighborhood' variable in the training data?\n",
    "num_cols_neighborhood = 25\n",
    "\n",
    "# Check your answers\n",
    "step_3.a.check()"
   ]
  },
  {
   "cell_type": "code",
   "execution_count": 17,
   "id": "9c3d2335",
   "metadata": {
    "execution": {
     "iopub.execute_input": "2025-03-14T20:12:32.121782Z",
     "iopub.status.busy": "2025-03-14T20:12:32.121444Z",
     "iopub.status.idle": "2025-03-14T20:12:32.125557Z",
     "shell.execute_reply": "2025-03-14T20:12:32.124368Z"
    },
    "papermill": {
     "duration": 0.018306,
     "end_time": "2025-03-14T20:12:32.127395",
     "exception": false,
     "start_time": "2025-03-14T20:12:32.109089",
     "status": "completed"
    },
    "tags": []
   },
   "outputs": [],
   "source": [
    "# Lines below will give you a hint or solution code\n",
    "#step_3.a.hint()\n",
    "#step_3.a.solution()"
   ]
  },
  {
   "cell_type": "markdown",
   "id": "e6235d8b",
   "metadata": {
    "papermill": {
     "duration": 0.010159,
     "end_time": "2025-03-14T20:12:32.147923",
     "exception": false,
     "start_time": "2025-03-14T20:12:32.137764",
     "status": "completed"
    },
    "tags": []
   },
   "source": [
    "### Part B\n",
    "\n",
    "For large datasets with many rows, one-hot encoding can greatly expand the size of the dataset.  For this reason, we typically will only one-hot encode columns with relatively low cardinality.  Then, high cardinality columns can either be dropped from the dataset, or we can use ordinal encoding.\n",
    "\n",
    "As an example, consider a dataset with 10,000 rows, and containing one categorical column with 100 unique entries.  \n",
    "- If this column is replaced with the corresponding one-hot encoding, how many entries are added to the dataset?  \n",
    "- If we instead replace the column with the ordinal encoding, how many entries are added?  \n",
    "\n",
    "Use your answers to fill in the lines below."
   ]
  },
  {
   "cell_type": "code",
   "execution_count": 18,
   "id": "d682c080",
   "metadata": {
    "execution": {
     "iopub.execute_input": "2025-03-14T20:12:32.169784Z",
     "iopub.status.busy": "2025-03-14T20:12:32.169447Z",
     "iopub.status.idle": "2025-03-14T20:12:32.177689Z",
     "shell.execute_reply": "2025-03-14T20:12:32.176493Z"
    },
    "papermill": {
     "duration": 0.021092,
     "end_time": "2025-03-14T20:12:32.179527",
     "exception": false,
     "start_time": "2025-03-14T20:12:32.158435",
     "status": "completed"
    },
    "tags": []
   },
   "outputs": [
    {
     "data": {
      "application/javascript": [
       "parent.postMessage({\"jupyterEvent\": \"custom.exercise_interaction\", \"data\": {\"outcomeType\": 1, \"valueTowardsCompletion\": 0.5, \"interactionType\": 1, \"questionType\": 1, \"questionId\": \"3.2_CardinalityB\", \"learnToolsVersion\": \"0.3.4\", \"failureMessage\": \"\", \"exceptionClass\": \"\", \"trace\": \"\"}}, \"*\")"
      ],
      "text/plain": [
       "<IPython.core.display.Javascript object>"
      ]
     },
     "metadata": {},
     "output_type": "display_data"
    },
    {
     "data": {
      "text/markdown": [
       "<span style=\"color:#33cc33\">Correct</span>"
      ],
      "text/plain": [
       "Correct"
      ]
     },
     "metadata": {},
     "output_type": "display_data"
    }
   ],
   "source": [
    "# Fill in the line below: How many entries are added to the dataset by \n",
    "# replacing the column with a one-hot encoding?\n",
    "OH_entries_added = 10000 * 100 - 10000\n",
    "\n",
    "# Fill in the line below: How many entries are added to the dataset by\n",
    "# replacing the column with an ordinal encoding?\n",
    "label_entries_added = 0\n",
    "\n",
    "# Check your answers\n",
    "step_3.b.check()"
   ]
  },
  {
   "cell_type": "code",
   "execution_count": 19,
   "id": "0539887d",
   "metadata": {
    "execution": {
     "iopub.execute_input": "2025-03-14T20:12:32.201850Z",
     "iopub.status.busy": "2025-03-14T20:12:32.201391Z",
     "iopub.status.idle": "2025-03-14T20:12:32.213902Z",
     "shell.execute_reply": "2025-03-14T20:12:32.212836Z"
    },
    "papermill": {
     "duration": 0.025399,
     "end_time": "2025-03-14T20:12:32.215535",
     "exception": false,
     "start_time": "2025-03-14T20:12:32.190136",
     "status": "completed"
    },
    "tags": []
   },
   "outputs": [
    {
     "data": {
      "application/javascript": [
       "parent.postMessage({\"jupyterEvent\": \"custom.exercise_interaction\", \"data\": {\"interactionType\": 2, \"questionType\": 1, \"questionId\": \"3.2_CardinalityB\", \"learnToolsVersion\": \"0.3.4\", \"valueTowardsCompletion\": 0.0, \"failureMessage\": \"\", \"exceptionClass\": \"\", \"trace\": \"\", \"outcomeType\": 4}}, \"*\")"
      ],
      "text/plain": [
       "<IPython.core.display.Javascript object>"
      ]
     },
     "metadata": {},
     "output_type": "display_data"
    },
    {
     "data": {
      "text/markdown": [
       "<span style=\"color:#3366cc\">Hint:</span> To calculate how many entries are added to the dataset through the one-hot encoding, begin by calculating how many entries are needed to encode the categorical variable (by multiplying the number of rows by the number of columns in the one-hot encoding). Then, to obtain how many entries are **added** to the dataset, subtract the number of entries in the original column."
      ],
      "text/plain": [
       "Hint: To calculate how many entries are added to the dataset through the one-hot encoding, begin by calculating how many entries are needed to encode the categorical variable (by multiplying the number of rows by the number of columns in the one-hot encoding). Then, to obtain how many entries are **added** to the dataset, subtract the number of entries in the original column."
      ]
     },
     "metadata": {},
     "output_type": "display_data"
    },
    {
     "data": {
      "application/javascript": [
       "parent.postMessage({\"jupyterEvent\": \"custom.exercise_interaction\", \"data\": {\"interactionType\": 3, \"questionType\": 1, \"questionId\": \"3.2_CardinalityB\", \"learnToolsVersion\": \"0.3.4\", \"valueTowardsCompletion\": 0.0, \"failureMessage\": \"\", \"exceptionClass\": \"\", \"trace\": \"\", \"outcomeType\": 4}}, \"*\")"
      ],
      "text/plain": [
       "<IPython.core.display.Javascript object>"
      ]
     },
     "metadata": {},
     "output_type": "display_data"
    },
    {
     "data": {
      "text/markdown": [
       "<span style=\"color:#33cc99\">Solution:</span> \n",
       "```python\n",
       "# How many entries are added to the dataset by\n",
       "# replacing the column with a one-hot encoding?\n",
       "OH_entries_added = 1e4*100 - 1e4\n",
       "\n",
       "# How many entries are added to the dataset by\n",
       "# replacing the column with an ordinal encoding?\n",
       "label_entries_added = 0\n",
       "\n",
       "```"
      ],
      "text/plain": [
       "Solution: \n",
       "```python\n",
       "# How many entries are added to the dataset by\n",
       "# replacing the column with a one-hot encoding?\n",
       "OH_entries_added = 1e4*100 - 1e4\n",
       "\n",
       "# How many entries are added to the dataset by\n",
       "# replacing the column with an ordinal encoding?\n",
       "label_entries_added = 0\n",
       "\n",
       "```"
      ]
     },
     "metadata": {},
     "output_type": "display_data"
    }
   ],
   "source": [
    "# Lines below will give you a hint or solution code\n",
    "step_3.b.hint()\n",
    "step_3.b.solution()"
   ]
  },
  {
   "cell_type": "markdown",
   "id": "56d815e4",
   "metadata": {
    "papermill": {
     "duration": 0.010431,
     "end_time": "2025-03-14T20:12:32.237799",
     "exception": false,
     "start_time": "2025-03-14T20:12:32.227368",
     "status": "completed"
    },
    "tags": []
   },
   "source": [
    "Next, you'll experiment with one-hot encoding.  But, instead of encoding all of the categorical variables in the dataset, you'll only create a one-hot encoding for columns with cardinality less than 10.\n",
    "\n",
    "Run the code cell below without changes to set `low_cardinality_cols` to a Python list containing the columns that will be one-hot encoded.  Likewise, `high_cardinality_cols` contains a list of categorical columns that will be dropped from the dataset."
   ]
  },
  {
   "cell_type": "code",
   "execution_count": 20,
   "id": "104e88b5",
   "metadata": {
    "execution": {
     "iopub.execute_input": "2025-03-14T20:12:32.264978Z",
     "iopub.status.busy": "2025-03-14T20:12:32.264651Z",
     "iopub.status.idle": "2025-03-14T20:12:32.278147Z",
     "shell.execute_reply": "2025-03-14T20:12:32.274197Z"
    },
    "papermill": {
     "duration": 0.030467,
     "end_time": "2025-03-14T20:12:32.282594",
     "exception": false,
     "start_time": "2025-03-14T20:12:32.252127",
     "status": "completed"
    },
    "tags": []
   },
   "outputs": [
    {
     "name": "stdout",
     "output_type": "stream",
     "text": [
      "Categorical columns that will be one-hot encoded: ['MSZoning', 'Street', 'LotShape', 'LandContour', 'Utilities', 'LotConfig', 'LandSlope', 'Condition1', 'Condition2', 'BldgType', 'HouseStyle', 'RoofStyle', 'RoofMatl', 'ExterQual', 'ExterCond', 'Foundation', 'Heating', 'HeatingQC', 'CentralAir', 'KitchenQual', 'Functional', 'PavedDrive', 'SaleType', 'SaleCondition']\n",
      "\n",
      "Categorical columns that will be dropped from the dataset: ['Exterior1st', 'Neighborhood', 'Exterior2nd']\n"
     ]
    }
   ],
   "source": [
    "# Columns that will be one-hot encoded\n",
    "low_cardinality_cols = [col for col in object_cols if X_train[col].nunique() < 10]\n",
    "\n",
    "# Columns that will be dropped from the dataset\n",
    "high_cardinality_cols = list(set(object_cols)-set(low_cardinality_cols))\n",
    "\n",
    "print('Categorical columns that will be one-hot encoded:', low_cardinality_cols)\n",
    "print('\\nCategorical columns that will be dropped from the dataset:', high_cardinality_cols)"
   ]
  },
  {
   "cell_type": "markdown",
   "id": "29edf65d",
   "metadata": {
    "papermill": {
     "duration": 0.01101,
     "end_time": "2025-03-14T20:12:32.308654",
     "exception": false,
     "start_time": "2025-03-14T20:12:32.297644",
     "status": "completed"
    },
    "tags": []
   },
   "source": [
    "# Step 4: One-hot encoding\n",
    "\n",
    "Use the next code cell to one-hot encode the data in `X_train` and `X_valid`.  Set the preprocessed DataFrames to `OH_X_train` and `OH_X_valid`, respectively.  \n",
    "- The full list of categorical columns in the dataset can be found in the Python list `object_cols`.\n",
    "- You should only one-hot encode the categorical columns in `low_cardinality_cols`.  All other categorical columns should be dropped from the dataset. "
   ]
  },
  {
   "cell_type": "code",
   "execution_count": 21,
   "id": "e4f6baf8",
   "metadata": {
    "execution": {
     "iopub.execute_input": "2025-03-14T20:12:32.332345Z",
     "iopub.status.busy": "2025-03-14T20:12:32.331845Z",
     "iopub.status.idle": "2025-03-14T20:12:32.336589Z",
     "shell.execute_reply": "2025-03-14T20:12:32.335229Z"
    },
    "papermill": {
     "duration": 0.019021,
     "end_time": "2025-03-14T20:12:32.338578",
     "exception": false,
     "start_time": "2025-03-14T20:12:32.319557",
     "status": "completed"
    },
    "tags": []
   },
   "outputs": [],
   "source": [
    "#set(X_train.columns) - set(object_cols)"
   ]
  },
  {
   "cell_type": "code",
   "execution_count": 22,
   "id": "2fd18c90",
   "metadata": {
    "execution": {
     "iopub.execute_input": "2025-03-14T20:12:32.372408Z",
     "iopub.status.busy": "2025-03-14T20:12:32.371968Z",
     "iopub.status.idle": "2025-03-14T20:12:32.424516Z",
     "shell.execute_reply": "2025-03-14T20:12:32.423522Z"
    },
    "papermill": {
     "duration": 0.07142,
     "end_time": "2025-03-14T20:12:32.426434",
     "exception": false,
     "start_time": "2025-03-14T20:12:32.355014",
     "status": "completed"
    },
    "tags": []
   },
   "outputs": [
    {
     "name": "stderr",
     "output_type": "stream",
     "text": [
      "/usr/local/lib/python3.10/dist-packages/sklearn/preprocessing/_encoders.py:868: FutureWarning: `sparse` was renamed to `sparse_output` in version 1.2 and will be removed in 1.4. `sparse_output` is ignored unless you leave `sparse` to its default value.\n",
      "  warnings.warn(\n"
     ]
    },
    {
     "data": {
      "application/javascript": [
       "parent.postMessage({\"jupyterEvent\": \"custom.exercise_interaction\", \"data\": {\"outcomeType\": 1, \"valueTowardsCompletion\": 0.5, \"interactionType\": 1, \"questionType\": 2, \"questionId\": \"4_OneHot\", \"learnToolsVersion\": \"0.3.4\", \"failureMessage\": \"\", \"exceptionClass\": \"\", \"trace\": \"\"}}, \"*\")"
      ],
      "text/plain": [
       "<IPython.core.display.Javascript object>"
      ]
     },
     "metadata": {},
     "output_type": "display_data"
    },
    {
     "data": {
      "text/markdown": [
       "<span style=\"color:#33cc33\">Correct</span>"
      ],
      "text/plain": [
       "Correct"
      ]
     },
     "metadata": {},
     "output_type": "display_data"
    }
   ],
   "source": [
    "from sklearn.preprocessing import OneHotEncoder\n",
    "\n",
    "# Apply one-hot encoder to each column with categorical data\n",
    "onehot_encode = OneHotEncoder(handle_unknown='ignore',sparse= False)\n",
    "\n",
    "OH_train_data = pd.DataFrame(onehot_encode.fit_transform(X_train[low_cardinality_cols]))\n",
    "OH_valid_data = pd.DataFrame(onehot_encode.transform(X_valid[low_cardinality_cols]))\n",
    "\n",
    "# One-hot encoding removed index; put it back\n",
    "OH_train_data.index = X_train.index\n",
    "OH_valid_data.index = X_valid.index\n",
    "\n",
    "# Remove categorical columns (will replace with one-hot encoding)\n",
    "num_X_train = X_train.drop(object_cols, axis=1)\n",
    "num_X_valid = X_valid.drop(object_cols, axis=1)\n",
    "\n",
    "OH_X_train = pd.concat([num_X_train,OH_train_data], axis=1)\n",
    "OH_X_valid = pd.concat([num_X_valid,OH_valid_data], axis=1)\n",
    "step_4.check()"
   ]
  },
  {
   "cell_type": "code",
   "execution_count": 23,
   "id": "e7272425",
   "metadata": {
    "execution": {
     "iopub.execute_input": "2025-03-14T20:12:32.450304Z",
     "iopub.status.busy": "2025-03-14T20:12:32.449782Z",
     "iopub.status.idle": "2025-03-14T20:12:32.454829Z",
     "shell.execute_reply": "2025-03-14T20:12:32.453755Z"
    },
    "papermill": {
     "duration": 0.019154,
     "end_time": "2025-03-14T20:12:32.456657",
     "exception": false,
     "start_time": "2025-03-14T20:12:32.437503",
     "status": "completed"
    },
    "tags": []
   },
   "outputs": [],
   "source": [
    "#from sklearn.preprocessing import OneHotEncoder\n",
    "\n",
    "# Apply one-hot encoder to each column with categorical data\n",
    "#onehot_encode = OneHotEncoder(handle_unknown='ignore',sparse= False)\n",
    "\n",
    "#onehot_encode.fit(X_train[low_cardinality_cols])\n",
    "#trn_ohe = onehot_encode.transform(X_train[low_cardinality_cols])\n",
    "#vld_ohe = onehot_encode.transform(X_valid[low_cardinality_cols])\n",
    "\n",
    "#OH_X_train = pd.concat([pd.DataFrame(trn_ohe), X_train[set(X_train.columns) - set(object_cols)]],axis=1)\n",
    "#OH_X_valid = pd.concat([pd.DataFrame(vld_ohe), X_valid[set(X_train.columns) - set(object_cols)]],axis=1)\n",
    "                            \n",
    "# Remove categorical columns (will replace with one-hot encoding)\n",
    "#num_X_train = X_train.drop(object_cols, axis=1)\n",
    "#num_X_valid = X_valid.drop(object_cols, axis=1)\n",
    "\n",
    "#Similarily we can take below code to get numerical data to concatenate with encoded categorical data\n",
    "#set(X_train.columns) - set(object_cols)\n",
    "\n",
    "#we'll get error as NaN values found coz we didnt replaced the index and dropped categorical columns"
   ]
  },
  {
   "cell_type": "code",
   "execution_count": 24,
   "id": "49c7f5bb",
   "metadata": {
    "execution": {
     "iopub.execute_input": "2025-03-14T20:12:32.481270Z",
     "iopub.status.busy": "2025-03-14T20:12:32.480772Z",
     "iopub.status.idle": "2025-03-14T20:12:32.486268Z",
     "shell.execute_reply": "2025-03-14T20:12:32.485248Z"
    },
    "papermill": {
     "duration": 0.020623,
     "end_time": "2025-03-14T20:12:32.488462",
     "exception": false,
     "start_time": "2025-03-14T20:12:32.467839",
     "status": "completed"
    },
    "tags": []
   },
   "outputs": [
    {
     "name": "stdout",
     "output_type": "stream",
     "text": [
      "MAE from Approach 3 (One-Hot Encoding):\n"
     ]
    }
   ],
   "source": [
    "print(\"MAE from Approach 3 (One-Hot Encoding):\") \n",
    "#print(score_dataset(OH_X_train, OH_X_valid, y_train, y_valid))"
   ]
  },
  {
   "cell_type": "code",
   "execution_count": 25,
   "id": "1ba4b925",
   "metadata": {
    "execution": {
     "iopub.execute_input": "2025-03-14T20:12:32.520211Z",
     "iopub.status.busy": "2025-03-14T20:12:32.519813Z",
     "iopub.status.idle": "2025-03-14T20:12:32.523823Z",
     "shell.execute_reply": "2025-03-14T20:12:32.522784Z"
    },
    "papermill": {
     "duration": 0.019296,
     "end_time": "2025-03-14T20:12:32.525744",
     "exception": false,
     "start_time": "2025-03-14T20:12:32.506448",
     "status": "completed"
    },
    "tags": []
   },
   "outputs": [],
   "source": [
    "# Lines below will give you a hint or solution code\n",
    "#step_4.hint()\n",
    "#step_4.solution()"
   ]
  },
  {
   "cell_type": "markdown",
   "id": "9a9007d8",
   "metadata": {
    "papermill": {
     "duration": 0.012364,
     "end_time": "2025-03-14T20:12:32.550501",
     "exception": false,
     "start_time": "2025-03-14T20:12:32.538137",
     "status": "completed"
    },
    "tags": []
   },
   "source": [
    "Run the next code cell to get the MAE for this approach."
   ]
  },
  {
   "cell_type": "markdown",
   "id": "6c9ce096",
   "metadata": {
    "papermill": {
     "duration": 0.011022,
     "end_time": "2025-03-14T20:12:32.572861",
     "exception": false,
     "start_time": "2025-03-14T20:12:32.561839",
     "status": "completed"
    },
    "tags": []
   },
   "source": [
    "# Generate test predictions and submit your results\n",
    "\n",
    "After you complete Step 4, if you'd like to use what you've learned to submit your results to the leaderboard, you'll need to preprocess the test data before generating predictions.\n",
    "\n",
    "**This step is completely optional, and you do not need to submit results to the leaderboard to successfully complete the exercise.**\n",
    "\n",
    "Check out the previous exercise if you need help with remembering how to [join the competition](https://www.kaggle.com/c/home-data-for-ml-course) or save your results to CSV.  Once you have generated a file with your results, follow the instructions below:\n",
    "1. Begin by clicking on the **Save Version** button in the top right corner of the window.  This will generate a pop-up window.  \n",
    "2. Ensure that the **Save and Run All** option is selected, and then click on the **Save** button.\n",
    "3. This generates a window in the bottom left corner of the notebook.  After it has finished running, click on the number to the right of the **Save Version** button.  This pulls up a list of versions on the right of the screen.  Click on the ellipsis **(...)** to the right of the most recent version, and select **Open in Viewer**.  This brings you into view mode of the same page. You will need to scroll down to get back to these instructions.\n",
    "4. Click on the **Output** tab on the right of the screen.  Then, click on the file you would like to submit, and click on the **Submit** button to submit your results to the leaderboard.\n",
    "\n",
    "You have now successfully submitted to the competition!\n",
    "\n",
    "If you want to keep working to improve your performance, select the **Edit** button in the top right of the screen. Then you can change your code and repeat the process. There's a lot of room to improve, and you will climb up the leaderboard as you work.\n"
   ]
  },
  {
   "cell_type": "code",
   "execution_count": 26,
   "id": "85a0472a",
   "metadata": {
    "execution": {
     "iopub.execute_input": "2025-03-14T20:12:32.596603Z",
     "iopub.status.busy": "2025-03-14T20:12:32.596264Z",
     "iopub.status.idle": "2025-03-14T20:12:32.641126Z",
     "shell.execute_reply": "2025-03-14T20:12:32.639924Z"
    },
    "papermill": {
     "duration": 0.059121,
     "end_time": "2025-03-14T20:12:32.643254",
     "exception": false,
     "start_time": "2025-03-14T20:12:32.584133",
     "status": "completed"
    },
    "tags": []
   },
   "outputs": [],
   "source": [
    "from sklearn.impute import SimpleImputer\n",
    "imputer = SimpleImputer(strategy='most_frequent')\n",
    "imputed_X_test = pd.DataFrame(imputer.fit_transform(X_test))\n",
    "imputed_X_test.columns = X_test.columns"
   ]
  },
  {
   "cell_type": "code",
   "execution_count": 27,
   "id": "c696a914",
   "metadata": {
    "execution": {
     "iopub.execute_input": "2025-03-14T20:12:32.668440Z",
     "iopub.status.busy": "2025-03-14T20:12:32.668030Z",
     "iopub.status.idle": "2025-03-14T20:12:32.699892Z",
     "shell.execute_reply": "2025-03-14T20:12:32.698654Z"
    },
    "papermill": {
     "duration": 0.04673,
     "end_time": "2025-03-14T20:12:32.701870",
     "exception": false,
     "start_time": "2025-03-14T20:12:32.655140",
     "status": "completed"
    },
    "tags": []
   },
   "outputs": [],
   "source": [
    "final_XT = pd.DataFrame(onehot_encode.transform(imputed_X_test[low_cardinality_cols]))\n",
    "final_XT.index = imputed_X_test.index\n",
    "num_X_test = imputed_X_test.drop(object_cols, axis=1)\n",
    "final_X_test = pd.concat([num_X_test,final_XT], axis=1)"
   ]
  },
  {
   "cell_type": "code",
   "execution_count": 28,
   "id": "060e3be5",
   "metadata": {
    "execution": {
     "iopub.execute_input": "2025-03-14T20:12:32.729225Z",
     "iopub.status.busy": "2025-03-14T20:12:32.728722Z",
     "iopub.status.idle": "2025-03-14T20:12:32.734627Z",
     "shell.execute_reply": "2025-03-14T20:12:32.733178Z"
    },
    "papermill": {
     "duration": 0.022739,
     "end_time": "2025-03-14T20:12:32.736530",
     "exception": false,
     "start_time": "2025-03-14T20:12:32.713791",
     "status": "completed"
    },
    "tags": []
   },
   "outputs": [],
   "source": [
    "model = RandomForestRegressor(n_estimators=100, random_state=0)\n",
    "#model.fit(OH_X_train, y_train)\n",
    "#preds_test = model.predict(final_X_test)"
   ]
  },
  {
   "cell_type": "code",
   "execution_count": 29,
   "id": "13c74738",
   "metadata": {
    "execution": {
     "iopub.execute_input": "2025-03-14T20:12:32.769624Z",
     "iopub.status.busy": "2025-03-14T20:12:32.769160Z",
     "iopub.status.idle": "2025-03-14T20:12:32.773695Z",
     "shell.execute_reply": "2025-03-14T20:12:32.772511Z"
    },
    "papermill": {
     "duration": 0.019098,
     "end_time": "2025-03-14T20:12:32.776307",
     "exception": false,
     "start_time": "2025-03-14T20:12:32.757209",
     "status": "completed"
    },
    "tags": []
   },
   "outputs": [],
   "source": [
    "# Save test predictions to file\n",
    "#output = pd.DataFrame({'Id': X_test.index,\n",
    "                       #'SalePrice': preds_test})\n",
    "#output.to_csv('submission.csv', index=False)"
   ]
  }
 ],
 "metadata": {
  "kaggle": {
   "accelerator": "none",
   "dataSources": [
    {
     "databundleVersionId": 111096,
     "sourceId": 10211,
     "sourceType": "competition"
    }
   ],
   "isGpuEnabled": false,
   "isInternetEnabled": false,
   "language": "python",
   "sourceType": "notebook"
  },
  "kernelspec": {
   "display_name": "Python 3",
   "language": "python",
   "name": "python3"
  },
  "language_info": {
   "codemirror_mode": {
    "name": "ipython",
    "version": 3
   },
   "file_extension": ".py",
   "mimetype": "text/x-python",
   "name": "python",
   "nbconvert_exporter": "python",
   "pygments_lexer": "ipython3",
   "version": "3.10.12"
  },
  "papermill": {
   "default_parameters": {},
   "duration": 11.714185,
   "end_time": "2025-03-14T20:12:33.614141",
   "environment_variables": {},
   "exception": null,
   "input_path": "__notebook__.ipynb",
   "output_path": "__notebook__.ipynb",
   "parameters": {},
   "start_time": "2025-03-14T20:12:21.899956",
   "version": "2.6.0"
  }
 },
 "nbformat": 4,
 "nbformat_minor": 5
}
