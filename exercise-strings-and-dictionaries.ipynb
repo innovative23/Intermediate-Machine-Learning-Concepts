{
 "cells": [
  {
   "cell_type": "markdown",
   "id": "0011289d",
   "metadata": {
    "papermill": {
     "duration": 0.005562,
     "end_time": "2025-03-14T20:24:29.327217",
     "exception": false,
     "start_time": "2025-03-14T20:24:29.321655",
     "status": "completed"
    },
    "tags": []
   },
   "source": [
    "**This notebook is an exercise in the [Python](https://www.kaggle.com/learn/python) course.  You can reference the tutorial at [this link](https://www.kaggle.com/colinmorris/strings-and-dictionaries).**\n",
    "\n",
    "---\n"
   ]
  },
  {
   "cell_type": "markdown",
   "id": "827bbb4a",
   "metadata": {
    "papermill": {
     "duration": 0.004371,
     "end_time": "2025-03-14T20:24:29.336561",
     "exception": false,
     "start_time": "2025-03-14T20:24:29.332190",
     "status": "completed"
    },
    "tags": []
   },
   "source": [
    "You are almost done with the course. Nice job!\n",
    "\n",
    "We have a couple more interesting problems for you before you go. \n",
    "\n",
    "As always, run the setup code below before working on the questions."
   ]
  },
  {
   "cell_type": "code",
   "execution_count": 1,
   "id": "e4fda2d5",
   "metadata": {
    "execution": {
     "iopub.execute_input": "2025-03-14T20:24:29.347321Z",
     "iopub.status.busy": "2025-03-14T20:24:29.346829Z",
     "iopub.status.idle": "2025-03-14T20:24:30.529367Z",
     "shell.execute_reply": "2025-03-14T20:24:30.527923Z"
    },
    "papermill": {
     "duration": 1.189973,
     "end_time": "2025-03-14T20:24:30.531169",
     "exception": false,
     "start_time": "2025-03-14T20:24:29.341196",
     "status": "completed"
    },
    "tags": []
   },
   "outputs": [
    {
     "name": "stdout",
     "output_type": "stream",
     "text": [
      "Setup complete.\n"
     ]
    }
   ],
   "source": [
    "from learntools.core import binder; binder.bind(globals())\n",
    "from learntools.python.ex6 import *\n",
    "print('Setup complete.')"
   ]
  },
  {
   "cell_type": "markdown",
   "id": "a23ada99",
   "metadata": {
    "papermill": {
     "duration": 0.004498,
     "end_time": "2025-03-14T20:24:30.540730",
     "exception": false,
     "start_time": "2025-03-14T20:24:30.536232",
     "status": "completed"
    },
    "tags": []
   },
   "source": [
    "Let's start with a string lightning round to warm up. What are the lengths of the strings below?\n",
    "\n",
    "For each of the five strings below, predict what `len()` would return when passed that string. Use the variable `length` to record your answer, then run the cell to check whether you were right.  \n",
    "\n",
    "# 0a."
   ]
  },
  {
   "cell_type": "code",
   "execution_count": 2,
   "id": "37e514a9",
   "metadata": {
    "execution": {
     "iopub.execute_input": "2025-03-14T20:24:30.552335Z",
     "iopub.status.busy": "2025-03-14T20:24:30.551749Z",
     "iopub.status.idle": "2025-03-14T20:24:30.560729Z",
     "shell.execute_reply": "2025-03-14T20:24:30.559591Z"
    },
    "papermill": {
     "duration": 0.017392,
     "end_time": "2025-03-14T20:24:30.562872",
     "exception": false,
     "start_time": "2025-03-14T20:24:30.545480",
     "status": "completed"
    },
    "tags": []
   },
   "outputs": [
    {
     "data": {
      "application/javascript": [
       "parent.postMessage({\"jupyterEvent\": \"custom.exercise_interaction\", \"data\": {\"outcomeType\": 1, \"valueTowardsCompletion\": 0.3333333333333333, \"interactionType\": 1, \"questionType\": 1, \"questionId\": \"0.1_ZA\", \"learnToolsVersion\": \"0.3.4\", \"failureMessage\": \"\", \"exceptionClass\": \"\", \"trace\": \"\"}}, \"*\")"
      ],
      "text/plain": [
       "<IPython.core.display.Javascript object>"
      ]
     },
     "metadata": {},
     "output_type": "display_data"
    },
    {
     "data": {
      "text/markdown": [
       "<span style=\"color:#33cc33\">Correct:</span> \n",
       "\n",
       "The empty string has length zero. Note that the empty string is also the only string that Python considers as False when converting to boolean."
      ],
      "text/plain": [
       "Correct: \n",
       "\n",
       "The empty string has length zero. Note that the empty string is also the only string that Python considers as False when converting to boolean."
      ]
     },
     "metadata": {},
     "output_type": "display_data"
    }
   ],
   "source": [
    "a = \"\"\n",
    "length = len(a)\n",
    "q0.a.check()"
   ]
  },
  {
   "cell_type": "markdown",
   "id": "920a792b",
   "metadata": {
    "papermill": {
     "duration": 0.005159,
     "end_time": "2025-03-14T20:24:30.573447",
     "exception": false,
     "start_time": "2025-03-14T20:24:30.568288",
     "status": "completed"
    },
    "tags": []
   },
   "source": [
    "# 0b."
   ]
  },
  {
   "cell_type": "code",
   "execution_count": 3,
   "id": "a127fedc",
   "metadata": {
    "execution": {
     "iopub.execute_input": "2025-03-14T20:24:30.584887Z",
     "iopub.status.busy": "2025-03-14T20:24:30.584539Z",
     "iopub.status.idle": "2025-03-14T20:24:30.593807Z",
     "shell.execute_reply": "2025-03-14T20:24:30.592664Z"
    },
    "papermill": {
     "duration": 0.017286,
     "end_time": "2025-03-14T20:24:30.595805",
     "exception": false,
     "start_time": "2025-03-14T20:24:30.578519",
     "status": "completed"
    },
    "tags": []
   },
   "outputs": [
    {
     "name": "stdout",
     "output_type": "stream",
     "text": [
      "7\n"
     ]
    },
    {
     "data": {
      "application/javascript": [
       "parent.postMessage({\"jupyterEvent\": \"custom.exercise_interaction\", \"data\": {\"outcomeType\": 1, \"valueTowardsCompletion\": 0.3333333333333333, \"interactionType\": 1, \"questionType\": 1, \"questionId\": \"0.2_ZB\", \"learnToolsVersion\": \"0.3.4\", \"failureMessage\": \"\", \"exceptionClass\": \"\", \"trace\": \"\"}}, \"*\")"
      ],
      "text/plain": [
       "<IPython.core.display.Javascript object>"
      ]
     },
     "metadata": {},
     "output_type": "display_data"
    },
    {
     "data": {
      "text/markdown": [
       "<span style=\"color:#33cc33\">Correct:</span> \n",
       "\n",
       "Keep in mind Python includes spaces (and punctuation) when counting string length."
      ],
      "text/plain": [
       "Correct: \n",
       "\n",
       "Keep in mind Python includes spaces (and punctuation) when counting string length."
      ]
     },
     "metadata": {},
     "output_type": "display_data"
    }
   ],
   "source": [
    "b = \"it's ok\"\n",
    "length = len(b)\n",
    "print(length)\n",
    "q0.b.check()"
   ]
  },
  {
   "cell_type": "markdown",
   "id": "8d797229",
   "metadata": {
    "papermill": {
     "duration": 0.004972,
     "end_time": "2025-03-14T20:24:30.606572",
     "exception": false,
     "start_time": "2025-03-14T20:24:30.601600",
     "status": "completed"
    },
    "tags": []
   },
   "source": [
    "# 0c."
   ]
  },
  {
   "cell_type": "code",
   "execution_count": 4,
   "id": "9c2418a8",
   "metadata": {
    "execution": {
     "iopub.execute_input": "2025-03-14T20:24:30.618709Z",
     "iopub.status.busy": "2025-03-14T20:24:30.618384Z",
     "iopub.status.idle": "2025-03-14T20:24:30.627347Z",
     "shell.execute_reply": "2025-03-14T20:24:30.626183Z"
    },
    "papermill": {
     "duration": 0.017248,
     "end_time": "2025-03-14T20:24:30.629465",
     "exception": false,
     "start_time": "2025-03-14T20:24:30.612217",
     "status": "completed"
    },
    "tags": []
   },
   "outputs": [
    {
     "name": "stdout",
     "output_type": "stream",
     "text": [
      "7\n"
     ]
    },
    {
     "data": {
      "application/javascript": [
       "parent.postMessage({\"jupyterEvent\": \"custom.exercise_interaction\", \"data\": {\"outcomeType\": 1, \"valueTowardsCompletion\": 0.3333333333333333, \"interactionType\": 1, \"questionType\": 1, \"questionId\": \"0.3_ZC\", \"learnToolsVersion\": \"0.3.4\", \"failureMessage\": \"\", \"exceptionClass\": \"\", \"trace\": \"\"}}, \"*\")"
      ],
      "text/plain": [
       "<IPython.core.display.Javascript object>"
      ]
     },
     "metadata": {},
     "output_type": "display_data"
    },
    {
     "data": {
      "text/markdown": [
       "<span style=\"color:#33cc33\">Correct:</span> \n",
       "\n",
       "Even though we use different syntax to create it, the string `c` is identical to `b`. In particular, note that the backslash is not part of the string, so it doesn't contribute to its length."
      ],
      "text/plain": [
       "Correct: \n",
       "\n",
       "Even though we use different syntax to create it, the string `c` is identical to `b`. In particular, note that the backslash is not part of the string, so it doesn't contribute to its length."
      ]
     },
     "metadata": {},
     "output_type": "display_data"
    }
   ],
   "source": [
    "c = 'it\\'s ok'\n",
    "length = len(c)\n",
    "print(length)\n",
    "q0.c.check()"
   ]
  },
  {
   "cell_type": "markdown",
   "id": "23e96be7",
   "metadata": {
    "papermill": {
     "duration": 0.005443,
     "end_time": "2025-03-14T20:24:30.640566",
     "exception": false,
     "start_time": "2025-03-14T20:24:30.635123",
     "status": "completed"
    },
    "tags": []
   },
   "source": [
    "# 0d."
   ]
  },
  {
   "cell_type": "code",
   "execution_count": 5,
   "id": "4fdc5847",
   "metadata": {
    "execution": {
     "iopub.execute_input": "2025-03-14T20:24:30.653421Z",
     "iopub.status.busy": "2025-03-14T20:24:30.653061Z",
     "iopub.status.idle": "2025-03-14T20:24:30.662424Z",
     "shell.execute_reply": "2025-03-14T20:24:30.661364Z"
    },
    "papermill": {
     "duration": 0.017403,
     "end_time": "2025-03-14T20:24:30.663918",
     "exception": false,
     "start_time": "2025-03-14T20:24:30.646515",
     "status": "completed"
    },
    "tags": []
   },
   "outputs": [
    {
     "name": "stdout",
     "output_type": "stream",
     "text": [
      "3\n"
     ]
    },
    {
     "data": {
      "application/javascript": [
       "parent.postMessage({\"jupyterEvent\": \"custom.exercise_interaction\", \"data\": {\"outcomeType\": 1, \"valueTowardsCompletion\": 0.3333333333333333, \"interactionType\": 1, \"questionType\": 1, \"questionId\": \"0.4_ZD\", \"learnToolsVersion\": \"0.3.4\", \"failureMessage\": \"\", \"exceptionClass\": \"\", \"trace\": \"\"}}, \"*\")"
      ],
      "text/plain": [
       "<IPython.core.display.Javascript object>"
      ]
     },
     "metadata": {},
     "output_type": "display_data"
    },
    {
     "data": {
      "text/markdown": [
       "<span style=\"color:#33cc33\">Correct:</span> \n",
       "\n",
       "The fact that this string was created using triple-quote syntax doesn't make any difference in terms of its content or length. This string is exactly the same as `'hey'`."
      ],
      "text/plain": [
       "Correct: \n",
       "\n",
       "The fact that this string was created using triple-quote syntax doesn't make any difference in terms of its content or length. This string is exactly the same as `'hey'`."
      ]
     },
     "metadata": {},
     "output_type": "display_data"
    }
   ],
   "source": [
    "d = \"\"\"hey\"\"\"\n",
    "length = len(d)\n",
    "print(length)\n",
    "q0.d.check()"
   ]
  },
  {
   "cell_type": "markdown",
   "id": "c5900c4a",
   "metadata": {
    "papermill": {
     "duration": 0.00551,
     "end_time": "2025-03-14T20:24:30.675267",
     "exception": false,
     "start_time": "2025-03-14T20:24:30.669757",
     "status": "completed"
    },
    "tags": []
   },
   "source": [
    "# 0e."
   ]
  },
  {
   "cell_type": "code",
   "execution_count": 6,
   "id": "4ed8ad46",
   "metadata": {
    "execution": {
     "iopub.execute_input": "2025-03-14T20:24:30.688522Z",
     "iopub.status.busy": "2025-03-14T20:24:30.688151Z",
     "iopub.status.idle": "2025-03-14T20:24:30.697378Z",
     "shell.execute_reply": "2025-03-14T20:24:30.696280Z"
    },
    "papermill": {
     "duration": 0.017753,
     "end_time": "2025-03-14T20:24:30.699204",
     "exception": false,
     "start_time": "2025-03-14T20:24:30.681451",
     "status": "completed"
    },
    "tags": []
   },
   "outputs": [
    {
     "name": "stdout",
     "output_type": "stream",
     "text": [
      "1\n"
     ]
    },
    {
     "data": {
      "application/javascript": [
       "parent.postMessage({\"jupyterEvent\": \"custom.exercise_interaction\", \"data\": {\"outcomeType\": 1, \"valueTowardsCompletion\": 0.3333333333333333, \"interactionType\": 1, \"questionType\": 1, \"questionId\": \"0.5_ZE\", \"learnToolsVersion\": \"0.3.4\", \"failureMessage\": \"\", \"exceptionClass\": \"\", \"trace\": \"\"}}, \"*\")"
      ],
      "text/plain": [
       "<IPython.core.display.Javascript object>"
      ]
     },
     "metadata": {},
     "output_type": "display_data"
    },
    {
     "data": {
      "text/markdown": [
       "<span style=\"color:#33cc33\">Correct:</span> \n",
       "\n",
       "The newline character is just a single character! (Even though we represent it to Python using a combination of two characters.)"
      ],
      "text/plain": [
       "Correct: \n",
       "\n",
       "The newline character is just a single character! (Even though we represent it to Python using a combination of two characters.)"
      ]
     },
     "metadata": {},
     "output_type": "display_data"
    }
   ],
   "source": [
    "e = '\\n'\n",
    "length = len(e)\n",
    "print(length)\n",
    "q0.e.check()"
   ]
  },
  {
   "cell_type": "markdown",
   "id": "dd4c6659",
   "metadata": {
    "papermill": {
     "duration": 0.006059,
     "end_time": "2025-03-14T20:24:30.711608",
     "exception": false,
     "start_time": "2025-03-14T20:24:30.705549",
     "status": "completed"
    },
    "tags": []
   },
   "source": [
    "# 1.\n",
    "\n",
    "There is a saying that \"Data scientists spend 80% of their time cleaning data, and 20% of their time complaining about cleaning data.\" Let's see if you can write a function to help clean US zip code data. Given a string, it should return whether or not that string represents a valid zip code. For our purposes, a valid zip code is any string consisting of exactly 5 digits.\n",
    "\n",
    "HINT: `str` has a method that will be useful here. Use `help(str)` to review a list of string methods."
   ]
  },
  {
   "cell_type": "code",
   "execution_count": 7,
   "id": "547c3507",
   "metadata": {
    "execution": {
     "iopub.execute_input": "2025-03-14T20:24:30.725466Z",
     "iopub.status.busy": "2025-03-14T20:24:30.725097Z",
     "iopub.status.idle": "2025-03-14T20:24:30.733068Z",
     "shell.execute_reply": "2025-03-14T20:24:30.732045Z"
    },
    "papermill": {
     "duration": 0.016656,
     "end_time": "2025-03-14T20:24:30.734813",
     "exception": false,
     "start_time": "2025-03-14T20:24:30.718157",
     "status": "completed"
    },
    "tags": []
   },
   "outputs": [
    {
     "data": {
      "application/javascript": [
       "parent.postMessage({\"jupyterEvent\": \"custom.exercise_interaction\", \"data\": {\"outcomeType\": 1, \"valueTowardsCompletion\": 0.3333333333333333, \"interactionType\": 1, \"questionType\": 2, \"questionId\": \"1_ZipValidator\", \"learnToolsVersion\": \"0.3.4\", \"failureMessage\": \"\", \"exceptionClass\": \"\", \"trace\": \"\"}}, \"*\")"
      ],
      "text/plain": [
       "<IPython.core.display.Javascript object>"
      ]
     },
     "metadata": {},
     "output_type": "display_data"
    },
    {
     "data": {
      "text/markdown": [
       "<span style=\"color:#33cc33\">Correct</span>"
      ],
      "text/plain": [
       "Correct"
      ]
     },
     "metadata": {},
     "output_type": "display_data"
    }
   ],
   "source": [
    "def is_valid_zip(zip_code):\n",
    "    \"\"\"Returns whether the input string is a valid (5 digit) zip code\n",
    "    \"\"\"\n",
    "    if len(zip_code) == 5 and zip_code.isdigit():\n",
    "        return True\n",
    "    return False\n",
    "\n",
    "# Check your answer\n",
    "q1.check()"
   ]
  },
  {
   "cell_type": "code",
   "execution_count": 8,
   "id": "098ad6fc",
   "metadata": {
    "execution": {
     "iopub.execute_input": "2025-03-14T20:24:30.749519Z",
     "iopub.status.busy": "2025-03-14T20:24:30.749194Z",
     "iopub.status.idle": "2025-03-14T20:24:30.753086Z",
     "shell.execute_reply": "2025-03-14T20:24:30.752052Z"
    },
    "papermill": {
     "duration": 0.012749,
     "end_time": "2025-03-14T20:24:30.754755",
     "exception": false,
     "start_time": "2025-03-14T20:24:30.742006",
     "status": "completed"
    },
    "tags": []
   },
   "outputs": [],
   "source": [
    "#q1.hint()\n",
    "#q1.solution()"
   ]
  },
  {
   "cell_type": "markdown",
   "id": "0c14db2d",
   "metadata": {
    "papermill": {
     "duration": 0.005948,
     "end_time": "2025-03-14T20:24:30.767043",
     "exception": false,
     "start_time": "2025-03-14T20:24:30.761095",
     "status": "completed"
    },
    "tags": []
   },
   "source": [
    "# 2.\n",
    "\n",
    "A researcher has gathered thousands of news articles. But she wants to focus her attention on articles including a specific word. Complete the function below to help her filter her list of articles.\n",
    "\n",
    "Your function should meet the following criteria:\n",
    "\n",
    "- Do not include documents where the keyword string shows up only as a part of a larger word. For example, if she were looking for the keyword “closed”, you would not include the string “enclosed.” \n",
    "- She does not want you to distinguish upper case from lower case letters. So the phrase “Closed the case.” would be included when the keyword is “closed”\n",
    "- Do not let periods or commas affect what is matched. “It is closed.” would be included when the keyword is “closed”. But you can assume there are no other types of punctuation."
   ]
  },
  {
   "cell_type": "code",
   "execution_count": 9,
   "id": "1cc3ed7f",
   "metadata": {
    "execution": {
     "iopub.execute_input": "2025-03-14T20:24:30.781032Z",
     "iopub.status.busy": "2025-03-14T20:24:30.780474Z",
     "iopub.status.idle": "2025-03-14T20:24:30.790083Z",
     "shell.execute_reply": "2025-03-14T20:24:30.788998Z"
    },
    "papermill": {
     "duration": 0.018519,
     "end_time": "2025-03-14T20:24:30.791737",
     "exception": false,
     "start_time": "2025-03-14T20:24:30.773218",
     "status": "completed"
    },
    "tags": []
   },
   "outputs": [
    {
     "data": {
      "application/javascript": [
       "parent.postMessage({\"jupyterEvent\": \"custom.exercise_interaction\", \"data\": {\"outcomeType\": 1, \"valueTowardsCompletion\": 0.3333333333333333, \"interactionType\": 1, \"questionType\": 2, \"questionId\": \"2_WordSearch\", \"learnToolsVersion\": \"0.3.4\", \"failureMessage\": \"\", \"exceptionClass\": \"\", \"trace\": \"\"}}, \"*\")"
      ],
      "text/plain": [
       "<IPython.core.display.Javascript object>"
      ]
     },
     "metadata": {},
     "output_type": "display_data"
    },
    {
     "data": {
      "text/markdown": [
       "<span style=\"color:#33cc33\">Correct</span>"
      ],
      "text/plain": [
       "Correct"
      ]
     },
     "metadata": {},
     "output_type": "display_data"
    }
   ],
   "source": [
    "def word_search(doc_list, keyword):\n",
    "    \"\"\"\n",
    "    Takes a list of documents (each document is a string) and a keyword. \n",
    "    Returns list of the index values into the original list for all documents \n",
    "    containing the keyword.\n",
    "\n",
    "    Example:\n",
    "    doc_list = [\"The Learn Python Challenge Casino.\", \"They bought a car\", \"Casinoville\"]\n",
    "    >>> word_search(doc_list, 'casino')\n",
    "    >>> [0]\n",
    "    \"\"\"\n",
    "    indicies = []\n",
    "    keyword = keyword.lower()\n",
    "    for counter,doc in enumerate(doc_list):\n",
    "        doc = doc.lower()\n",
    "        doc = doc.replace(\".\", \"\")\n",
    "        doc = doc.replace(\",\",\"\")\n",
    "        doc_words = doc.split()\n",
    "        if keyword in doc_words:\n",
    "            indicies.append(counter)\n",
    "    return indicies\n",
    "\n",
    "# Check your answer\n",
    "q2.check()"
   ]
  },
  {
   "cell_type": "code",
   "execution_count": 10,
   "id": "5f053565",
   "metadata": {
    "execution": {
     "iopub.execute_input": "2025-03-14T20:24:30.805762Z",
     "iopub.status.busy": "2025-03-14T20:24:30.805417Z",
     "iopub.status.idle": "2025-03-14T20:24:30.809662Z",
     "shell.execute_reply": "2025-03-14T20:24:30.808462Z"
    },
    "papermill": {
     "duration": 0.013372,
     "end_time": "2025-03-14T20:24:30.811583",
     "exception": false,
     "start_time": "2025-03-14T20:24:30.798211",
     "status": "completed"
    },
    "tags": []
   },
   "outputs": [],
   "source": [
    "#q2.hint()\n",
    "#q2.solution()"
   ]
  },
  {
   "cell_type": "markdown",
   "id": "6d2ae843",
   "metadata": {
    "papermill": {
     "duration": 0.006303,
     "end_time": "2025-03-14T20:24:30.824485",
     "exception": false,
     "start_time": "2025-03-14T20:24:30.818182",
     "status": "completed"
    },
    "tags": []
   },
   "source": [
    "# 3.\n",
    "\n",
    "Now the researcher wants to supply multiple keywords to search for. Complete the function below to help her.\n",
    "\n",
    "(You're encouraged to use the `word_search` function you just wrote when implementing this function. Reusing code in this way makes your programs more robust and readable - and it saves typing!)"
   ]
  },
  {
   "cell_type": "code",
   "execution_count": 11,
   "id": "41d6c048",
   "metadata": {
    "execution": {
     "iopub.execute_input": "2025-03-14T20:24:30.838800Z",
     "iopub.status.busy": "2025-03-14T20:24:30.838447Z",
     "iopub.status.idle": "2025-03-14T20:24:30.847161Z",
     "shell.execute_reply": "2025-03-14T20:24:30.846236Z"
    },
    "papermill": {
     "duration": 0.018163,
     "end_time": "2025-03-14T20:24:30.848970",
     "exception": false,
     "start_time": "2025-03-14T20:24:30.830807",
     "status": "completed"
    },
    "tags": []
   },
   "outputs": [
    {
     "data": {
      "application/javascript": [
       "parent.postMessage({\"jupyterEvent\": \"custom.exercise_interaction\", \"data\": {\"outcomeType\": 1, \"valueTowardsCompletion\": 0.3333333333333333, \"interactionType\": 1, \"questionType\": 2, \"questionId\": \"3_MultiWordSearch\", \"learnToolsVersion\": \"0.3.4\", \"failureMessage\": \"\", \"exceptionClass\": \"\", \"trace\": \"\"}}, \"*\")"
      ],
      "text/plain": [
       "<IPython.core.display.Javascript object>"
      ]
     },
     "metadata": {},
     "output_type": "display_data"
    },
    {
     "data": {
      "text/markdown": [
       "<span style=\"color:#33cc33\">Correct</span>"
      ],
      "text/plain": [
       "Correct"
      ]
     },
     "metadata": {},
     "output_type": "display_data"
    }
   ],
   "source": [
    "def multi_word_search(doc_list, keywords):\n",
    "    \"\"\"\n",
    "    Takes list of documents (each document is a string) and a list of keywords.  \n",
    "    Returns a dictionary where each key is a keyword, and the value is a list of indices\n",
    "    (from doc_list) of the documents containing that keyword\n",
    "\n",
    "    >>> doc_list = [\"The Learn Python Challenge Casino.\", \"They bought a car and a casino\", \"Casinoville\"]\n",
    "    >>> keywords = ['casino', 'they']\n",
    "    >>> multi_word_search(doc_list, keywords)\n",
    "    {'casino': [0, 1], 'they': [1]}\n",
    "    \"\"\"\n",
    "    keyword_locations = dict()\n",
    "    for keyword in keywords:\n",
    "        indicies = word_search(doc_list,keyword)\n",
    "        keyword_locations[keyword] = indicies\n",
    "    return keyword_locations\n",
    "        \n",
    "# Check your answer\n",
    "q3.check()"
   ]
  },
  {
   "cell_type": "code",
   "execution_count": 12,
   "id": "912ec128",
   "metadata": {
    "execution": {
     "iopub.execute_input": "2025-03-14T20:24:30.863989Z",
     "iopub.status.busy": "2025-03-14T20:24:30.863605Z",
     "iopub.status.idle": "2025-03-14T20:24:30.867975Z",
     "shell.execute_reply": "2025-03-14T20:24:30.866856Z"
    },
    "papermill": {
     "duration": 0.013958,
     "end_time": "2025-03-14T20:24:30.869707",
     "exception": false,
     "start_time": "2025-03-14T20:24:30.855749",
     "status": "completed"
    },
    "tags": []
   },
   "outputs": [],
   "source": [
    "#q3.solution()"
   ]
  },
  {
   "cell_type": "markdown",
   "id": "d1c39d17",
   "metadata": {
    "papermill": {
     "duration": 0.006328,
     "end_time": "2025-03-14T20:24:30.882829",
     "exception": false,
     "start_time": "2025-03-14T20:24:30.876501",
     "status": "completed"
    },
    "tags": []
   },
   "source": [
    "# Keep Going\n",
    "\n",
    "You've learned a lot. But even the best programmers rely heavily on \"libraries\" of code from other programmers. You'll learn about that in **[the last lesson](https://www.kaggle.com/colinmorris/working-with-external-libraries)**.\n"
   ]
  },
  {
   "cell_type": "markdown",
   "id": "92c2a98e",
   "metadata": {
    "papermill": {
     "duration": 0.006508,
     "end_time": "2025-03-14T20:24:30.896246",
     "exception": false,
     "start_time": "2025-03-14T20:24:30.889738",
     "status": "completed"
    },
    "tags": []
   },
   "source": [
    "---\n",
    "\n",
    "\n",
    "\n",
    "\n",
    "*Have questions or comments? Visit the [course discussion forum](https://www.kaggle.com/learn/python/discussion) to chat with other learners.*"
   ]
  }
 ],
 "metadata": {
  "kaggle": {
   "accelerator": "none",
   "dataSources": [],
   "isGpuEnabled": false,
   "isInternetEnabled": false,
   "language": "python",
   "sourceType": "notebook"
  },
  "kernelspec": {
   "display_name": "Python 3",
   "language": "python",
   "name": "python3"
  },
  "language_info": {
   "codemirror_mode": {
    "name": "ipython",
    "version": 3
   },
   "file_extension": ".py",
   "mimetype": "text/x-python",
   "name": "python",
   "nbconvert_exporter": "python",
   "pygments_lexer": "ipython3",
   "version": "3.10.12"
  },
  "papermill": {
   "default_parameters": {},
   "duration": 5.10924,
   "end_time": "2025-03-14T20:24:31.523527",
   "environment_variables": {},
   "exception": null,
   "input_path": "__notebook__.ipynb",
   "output_path": "__notebook__.ipynb",
   "parameters": {},
   "start_time": "2025-03-14T20:24:26.414287",
   "version": "2.6.0"
  }
 },
 "nbformat": 4,
 "nbformat_minor": 5
}
