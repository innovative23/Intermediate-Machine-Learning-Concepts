{
 "cells": [
  {
   "cell_type": "markdown",
   "id": "d1fdb69f",
   "metadata": {
    "papermill": {
     "duration": 0.005751,
     "end_time": "2025-03-14T20:24:07.889301",
     "exception": false,
     "start_time": "2025-03-14T20:24:07.883550",
     "status": "completed"
    },
    "tags": []
   },
   "source": [
    "**This notebook is an exercise in the [Python](https://www.kaggle.com/learn/python) course.  You can reference the tutorial at [this link](https://www.kaggle.com/colinmorris/loops-and-list-comprehensions).**\n",
    "\n",
    "---\n"
   ]
  },
  {
   "cell_type": "markdown",
   "id": "9c7920ad",
   "metadata": {
    "papermill": {
     "duration": 0.004731,
     "end_time": "2025-03-14T20:24:07.899246",
     "exception": false,
     "start_time": "2025-03-14T20:24:07.894515",
     "status": "completed"
    },
    "tags": []
   },
   "source": [
    "With all you've learned, you can start writing much more interesting programs. See if you can solve the problems below.\n",
    "\n",
    "As always, run the setup code below before working on the questions."
   ]
  },
  {
   "cell_type": "code",
   "execution_count": 1,
   "id": "b5dc5516",
   "metadata": {
    "execution": {
     "iopub.execute_input": "2025-03-14T20:24:07.910605Z",
     "iopub.status.busy": "2025-03-14T20:24:07.910126Z",
     "iopub.status.idle": "2025-03-14T20:24:08.945599Z",
     "shell.execute_reply": "2025-03-14T20:24:08.944379Z"
    },
    "papermill": {
     "duration": 1.043616,
     "end_time": "2025-03-14T20:24:08.947790",
     "exception": false,
     "start_time": "2025-03-14T20:24:07.904174",
     "status": "completed"
    },
    "tags": []
   },
   "outputs": [
    {
     "name": "stdout",
     "output_type": "stream",
     "text": [
      "Setup complete.\n"
     ]
    }
   ],
   "source": [
    "from learntools.core import binder; binder.bind(globals())\n",
    "from learntools.python.ex5 import *\n",
    "print('Setup complete.')"
   ]
  },
  {
   "cell_type": "markdown",
   "id": "8f509d22",
   "metadata": {
    "papermill": {
     "duration": 0.005046,
     "end_time": "2025-03-14T20:24:08.958548",
     "exception": false,
     "start_time": "2025-03-14T20:24:08.953502",
     "status": "completed"
    },
    "tags": []
   },
   "source": [
    "# 1.\n",
    "\n",
    "Have you ever felt debugging involved a bit of luck? The following program has a bug. Try to identify the bug and fix it."
   ]
  },
  {
   "cell_type": "code",
   "execution_count": 2,
   "id": "bbb14c62",
   "metadata": {
    "execution": {
     "iopub.execute_input": "2025-03-14T20:24:08.970679Z",
     "iopub.status.busy": "2025-03-14T20:24:08.970205Z",
     "iopub.status.idle": "2025-03-14T20:24:08.975436Z",
     "shell.execute_reply": "2025-03-14T20:24:08.974259Z"
    },
    "papermill": {
     "duration": 0.013159,
     "end_time": "2025-03-14T20:24:08.977123",
     "exception": false,
     "start_time": "2025-03-14T20:24:08.963964",
     "status": "completed"
    },
    "tags": []
   },
   "outputs": [],
   "source": [
    "def has_lucky_number(nums):\n",
    "    \"\"\"Return whether the given list of numbers is lucky. A lucky list contains\n",
    "    at least one number divisible by 7.\n",
    "    \"\"\"\n",
    "    for num in nums:\n",
    "        if num % 7 == 0:\n",
    "            return True\n",
    "        else:\n",
    "            return False"
   ]
  },
  {
   "cell_type": "markdown",
   "id": "6d3b8367",
   "metadata": {
    "papermill": {
     "duration": 0.00477,
     "end_time": "2025-03-14T20:24:08.987216",
     "exception": false,
     "start_time": "2025-03-14T20:24:08.982446",
     "status": "completed"
    },
    "tags": []
   },
   "source": [
    "Try to identify the bug and fix it in the cell below:"
   ]
  },
  {
   "cell_type": "code",
   "execution_count": 3,
   "id": "c0787699",
   "metadata": {
    "execution": {
     "iopub.execute_input": "2025-03-14T20:24:08.998595Z",
     "iopub.status.busy": "2025-03-14T20:24:08.998218Z",
     "iopub.status.idle": "2025-03-14T20:24:09.007326Z",
     "shell.execute_reply": "2025-03-14T20:24:09.006248Z"
    },
    "papermill": {
     "duration": 0.016712,
     "end_time": "2025-03-14T20:24:09.009029",
     "exception": false,
     "start_time": "2025-03-14T20:24:08.992317",
     "status": "completed"
    },
    "tags": []
   },
   "outputs": [
    {
     "data": {
      "application/javascript": [
       "parent.postMessage({\"jupyterEvent\": \"custom.exercise_interaction\", \"data\": {\"outcomeType\": 1, \"valueTowardsCompletion\": 0.25, \"interactionType\": 1, \"questionType\": 2, \"questionId\": \"1_EarlyExitDebugging\", \"learnToolsVersion\": \"0.3.4\", \"failureMessage\": \"\", \"exceptionClass\": \"\", \"trace\": \"\"}}, \"*\")"
      ],
      "text/plain": [
       "<IPython.core.display.Javascript object>"
      ]
     },
     "metadata": {},
     "output_type": "display_data"
    },
    {
     "data": {
      "text/markdown": [
       "<span style=\"color:#33cc33\">Correct:</span> \n",
       "\n",
       "Remember that `return` causes a function to exit immediately. So our original implementation always ran for just one iteration. We can only return `False` if we've looked at every element of the list (and confirmed that none of them are lucky). Though we can return early if the answer is `True`:\n",
       "\n",
       "```python\n",
       "def has_lucky_number(nums):\n",
       "    for num in nums:\n",
       "        if num % 7 == 0:\n",
       "            return True\n",
       "    # We've exhausted the list without finding a lucky number\n",
       "    return False\n",
       "```\n",
       "\n",
       "Here's a one-line version using a list comprehension with Python's `any` function (you can read about what it does by calling `help(any)`):\n",
       "\n",
       "```python\n",
       "def has_lucky_number(nums):\n",
       "    return any([num % 7 == 0 for num in nums])\n",
       "```\n"
      ],
      "text/plain": [
       "Correct: \n",
       "\n",
       "Remember that `return` causes a function to exit immediately. So our original implementation always ran for just one iteration. We can only return `False` if we've looked at every element of the list (and confirmed that none of them are lucky). Though we can return early if the answer is `True`:\n",
       "\n",
       "```python\n",
       "def has_lucky_number(nums):\n",
       "    for num in nums:\n",
       "        if num % 7 == 0:\n",
       "            return True\n",
       "    # We've exhausted the list without finding a lucky number\n",
       "    return False\n",
       "```\n",
       "\n",
       "Here's a one-line version using a list comprehension with Python's `any` function (you can read about what it does by calling `help(any)`):\n",
       "\n",
       "```python\n",
       "def has_lucky_number(nums):\n",
       "    return any([num % 7 == 0 for num in nums])\n",
       "```"
      ]
     },
     "metadata": {},
     "output_type": "display_data"
    }
   ],
   "source": [
    "def has_lucky_number(nums):\n",
    "    \"\"\"Return whether the given list of numbers is lucky. A lucky list contains\n",
    "    at least one number divisible by 7.\n",
    "    \"\"\"\n",
    "    for num in nums:\n",
    "        if num % 7 == 0:\n",
    "            return True\n",
    "    return False\n",
    "\n",
    "# Check your answer\n",
    "q1.check()"
   ]
  },
  {
   "cell_type": "code",
   "execution_count": 4,
   "id": "af03a120",
   "metadata": {
    "execution": {
     "iopub.execute_input": "2025-03-14T20:24:09.021382Z",
     "iopub.status.busy": "2025-03-14T20:24:09.020986Z",
     "iopub.status.idle": "2025-03-14T20:24:09.025320Z",
     "shell.execute_reply": "2025-03-14T20:24:09.024329Z"
    },
    "papermill": {
     "duration": 0.012285,
     "end_time": "2025-03-14T20:24:09.026900",
     "exception": false,
     "start_time": "2025-03-14T20:24:09.014615",
     "status": "completed"
    },
    "tags": []
   },
   "outputs": [],
   "source": [
    "def has_lucky_number(nums):\n",
    "    return any([num % 7 == 0 for num in nums])"
   ]
  },
  {
   "cell_type": "code",
   "execution_count": 5,
   "id": "56deb851",
   "metadata": {
    "execution": {
     "iopub.execute_input": "2025-03-14T20:24:09.040833Z",
     "iopub.status.busy": "2025-03-14T20:24:09.040470Z",
     "iopub.status.idle": "2025-03-14T20:24:09.047321Z",
     "shell.execute_reply": "2025-03-14T20:24:09.046377Z"
    },
    "papermill": {
     "duration": 0.01493,
     "end_time": "2025-03-14T20:24:09.048935",
     "exception": false,
     "start_time": "2025-03-14T20:24:09.034005",
     "status": "completed"
    },
    "tags": []
   },
   "outputs": [
    {
     "data": {
      "application/javascript": [
       "parent.postMessage({\"jupyterEvent\": \"custom.exercise_interaction\", \"data\": {\"interactionType\": 3, \"questionType\": 2, \"questionId\": \"1_EarlyExitDebugging\", \"learnToolsVersion\": \"0.3.4\", \"valueTowardsCompletion\": 0.0, \"failureMessage\": \"\", \"exceptionClass\": \"\", \"trace\": \"\", \"outcomeType\": 4}}, \"*\")"
      ],
      "text/plain": [
       "<IPython.core.display.Javascript object>"
      ]
     },
     "metadata": {},
     "output_type": "display_data"
    },
    {
     "data": {
      "text/markdown": [
       "<span style=\"color:#33cc99\">Solution:</span> Remember that `return` causes a function to exit immediately. So our original implementation always ran for just one iteration. We can only return `False` if we've looked at every element of the list (and confirmed that none of them are lucky). Though we can return early if the answer is `True`:\n",
       "\n",
       "```python\n",
       "def has_lucky_number(nums):\n",
       "    for num in nums:\n",
       "        if num % 7 == 0:\n",
       "            return True\n",
       "    # We've exhausted the list without finding a lucky number\n",
       "    return False\n",
       "```\n",
       "\n",
       "Here's a one-line version using a list comprehension with Python's `any` function (you can read about what it does by calling `help(any)`):\n",
       "\n",
       "```python\n",
       "def has_lucky_number(nums):\n",
       "    return any([num % 7 == 0 for num in nums])\n",
       "```\n"
      ],
      "text/plain": [
       "Solution: Remember that `return` causes a function to exit immediately. So our original implementation always ran for just one iteration. We can only return `False` if we've looked at every element of the list (and confirmed that none of them are lucky). Though we can return early if the answer is `True`:\n",
       "\n",
       "```python\n",
       "def has_lucky_number(nums):\n",
       "    for num in nums:\n",
       "        if num % 7 == 0:\n",
       "            return True\n",
       "    # We've exhausted the list without finding a lucky number\n",
       "    return False\n",
       "```\n",
       "\n",
       "Here's a one-line version using a list comprehension with Python's `any` function (you can read about what it does by calling `help(any)`):\n",
       "\n",
       "```python\n",
       "def has_lucky_number(nums):\n",
       "    return any([num % 7 == 0 for num in nums])\n",
       "```"
      ]
     },
     "metadata": {},
     "output_type": "display_data"
    }
   ],
   "source": [
    "#q1.hint()\n",
    "q1.solution()"
   ]
  },
  {
   "cell_type": "markdown",
   "id": "76df7c48",
   "metadata": {
    "papermill": {
     "duration": 0.005303,
     "end_time": "2025-03-14T20:24:09.060078",
     "exception": false,
     "start_time": "2025-03-14T20:24:09.054775",
     "status": "completed"
    },
    "tags": []
   },
   "source": [
    "# 2.\n",
    "Look at the Python expression below. What do you think we'll get when we run it? When you've made your prediction, uncomment the code and run the cell to see if you were right."
   ]
  },
  {
   "cell_type": "code",
   "execution_count": 6,
   "id": "3dbb3add",
   "metadata": {
    "execution": {
     "iopub.execute_input": "2025-03-14T20:24:09.072279Z",
     "iopub.status.busy": "2025-03-14T20:24:09.071926Z",
     "iopub.status.idle": "2025-03-14T20:24:09.075958Z",
     "shell.execute_reply": "2025-03-14T20:24:09.074913Z"
    },
    "papermill": {
     "duration": 0.01214,
     "end_time": "2025-03-14T20:24:09.077710",
     "exception": false,
     "start_time": "2025-03-14T20:24:09.065570",
     "status": "completed"
    },
    "tags": []
   },
   "outputs": [],
   "source": [
    "#[1, 2, 3, 4] > 2"
   ]
  },
  {
   "cell_type": "markdown",
   "id": "04516506",
   "metadata": {
    "papermill": {
     "duration": 0.00536,
     "end_time": "2025-03-14T20:24:09.089015",
     "exception": false,
     "start_time": "2025-03-14T20:24:09.083655",
     "status": "completed"
    },
    "tags": []
   },
   "source": [
    "R and Python have some libraries (like numpy and pandas) compare each element of the list to 2 (i.e. do an 'element-wise' comparison) and give us a list of booleans like `[False, False, True, True]`. \n",
    "\n",
    "Implement a function that reproduces this behaviour, returning a list of booleans corresponding to whether the corresponding element is greater than n."
   ]
  },
  {
   "cell_type": "code",
   "execution_count": 7,
   "id": "36c90494",
   "metadata": {
    "execution": {
     "iopub.execute_input": "2025-03-14T20:24:09.101314Z",
     "iopub.status.busy": "2025-03-14T20:24:09.100959Z",
     "iopub.status.idle": "2025-03-14T20:24:09.108924Z",
     "shell.execute_reply": "2025-03-14T20:24:09.108040Z"
    },
    "papermill": {
     "duration": 0.016022,
     "end_time": "2025-03-14T20:24:09.110561",
     "exception": false,
     "start_time": "2025-03-14T20:24:09.094539",
     "status": "completed"
    },
    "tags": []
   },
   "outputs": [
    {
     "data": {
      "application/javascript": [
       "parent.postMessage({\"jupyterEvent\": \"custom.exercise_interaction\", \"data\": {\"outcomeType\": 1, \"valueTowardsCompletion\": 0.25, \"interactionType\": 1, \"questionType\": 2, \"questionId\": \"2_ElementWiseComparison\", \"learnToolsVersion\": \"0.3.4\", \"failureMessage\": \"\", \"exceptionClass\": \"\", \"trace\": \"\"}}, \"*\")"
      ],
      "text/plain": [
       "<IPython.core.display.Javascript object>"
      ]
     },
     "metadata": {},
     "output_type": "display_data"
    },
    {
     "data": {
      "text/markdown": [
       "<span style=\"color:#33cc33\">Correct:</span> \n",
       "\n",
       "Here's one solution:\n",
       "```python\n",
       "def elementwise_greater_than(L, thresh):\n",
       "    res = []\n",
       "    for ele in L:\n",
       "        res.append(ele > thresh)\n",
       "    return res\n",
       "```\n",
       "\n",
       "And here's the list comprehension version:\n",
       "```python\n",
       "def elementwise_greater_than(L, thresh):\n",
       "    return [ele > thresh for ele in L]\n",
       "```\n"
      ],
      "text/plain": [
       "Correct: \n",
       "\n",
       "Here's one solution:\n",
       "```python\n",
       "def elementwise_greater_than(L, thresh):\n",
       "    res = []\n",
       "    for ele in L:\n",
       "        res.append(ele > thresh)\n",
       "    return res\n",
       "```\n",
       "\n",
       "And here's the list comprehension version:\n",
       "```python\n",
       "def elementwise_greater_than(L, thresh):\n",
       "    return [ele > thresh for ele in L]\n",
       "```"
      ]
     },
     "metadata": {},
     "output_type": "display_data"
    }
   ],
   "source": [
    "def elementwise_greater_than(L, thresh):\n",
    "    \"\"\"Return a list with the same length as L, where the value at index i is \n",
    "    True if L[i] is greater than thresh, and False otherwise.\n",
    "    \n",
    "    >>> elementwise_greater_than([1, 2, 3, 4], 2)\n",
    "    [False, False, True, True]\n",
    "    \"\"\"\n",
    "    return [True if l > thresh else False for l in L]\n",
    "\n",
    "# Check your answer\n",
    "q2.check()"
   ]
  },
  {
   "cell_type": "code",
   "execution_count": 8,
   "id": "3ea3d255",
   "metadata": {
    "execution": {
     "iopub.execute_input": "2025-03-14T20:24:09.123763Z",
     "iopub.status.busy": "2025-03-14T20:24:09.123408Z",
     "iopub.status.idle": "2025-03-14T20:24:09.127461Z",
     "shell.execute_reply": "2025-03-14T20:24:09.126254Z"
    },
    "papermill": {
     "duration": 0.012863,
     "end_time": "2025-03-14T20:24:09.129397",
     "exception": false,
     "start_time": "2025-03-14T20:24:09.116534",
     "status": "completed"
    },
    "tags": []
   },
   "outputs": [],
   "source": [
    "#q2.solution()"
   ]
  },
  {
   "cell_type": "markdown",
   "id": "43cc3e12",
   "metadata": {
    "papermill": {
     "duration": 0.005658,
     "end_time": "2025-03-14T20:24:09.141137",
     "exception": false,
     "start_time": "2025-03-14T20:24:09.135479",
     "status": "completed"
    },
    "tags": []
   },
   "source": [
    "# 3.\n",
    "\n",
    "Complete the body of the function below according to its docstring."
   ]
  },
  {
   "cell_type": "code",
   "execution_count": 9,
   "id": "0c8ce59b",
   "metadata": {
    "execution": {
     "iopub.execute_input": "2025-03-14T20:24:09.154707Z",
     "iopub.status.busy": "2025-03-14T20:24:09.153992Z",
     "iopub.status.idle": "2025-03-14T20:24:09.162449Z",
     "shell.execute_reply": "2025-03-14T20:24:09.161615Z"
    },
    "papermill": {
     "duration": 0.016899,
     "end_time": "2025-03-14T20:24:09.164111",
     "exception": false,
     "start_time": "2025-03-14T20:24:09.147212",
     "status": "completed"
    },
    "tags": []
   },
   "outputs": [
    {
     "data": {
      "application/javascript": [
       "parent.postMessage({\"jupyterEvent\": \"custom.exercise_interaction\", \"data\": {\"outcomeType\": 1, \"valueTowardsCompletion\": 0.25, \"interactionType\": 1, \"questionType\": 2, \"questionId\": \"3_BoringMenu\", \"learnToolsVersion\": \"0.3.4\", \"failureMessage\": \"\", \"exceptionClass\": \"\", \"trace\": \"\"}}, \"*\")"
      ],
      "text/plain": [
       "<IPython.core.display.Javascript object>"
      ]
     },
     "metadata": {},
     "output_type": "display_data"
    },
    {
     "data": {
      "text/markdown": [
       "<span style=\"color:#33cc33\">Correct:</span> \n",
       "\n",
       "\n",
       "\n",
       "```python\n",
       "def menu_is_boring(meals):\n",
       "    # Iterate over all indices of the list, except the last one\n",
       "    for i in range(len(meals)-1):\n",
       "        if meals[i] == meals[i+1]:\n",
       "            return True\n",
       "    return False\n",
       "```\n",
       "\n",
       "The key to our solution is the call to `range`. `range(len(meals))` would give us all the indices of `meals`. If we had used that range, the last iteration of the loop would be comparing the last element to the element after it, which is... `IndexError`! `range(len(meals)-1)` gives us all the indices except the index of the last element.\n",
       "\n",
       "But don't we need to check if `meals` is empty? Turns out that `range(0) == range(-1)` - they're both empty. So if `meals` has length 0 or 1, we just won't do any iterations of our for loop.\n"
      ],
      "text/plain": [
       "Correct: \n",
       "\n",
       "\n",
       "\n",
       "```python\n",
       "def menu_is_boring(meals):\n",
       "    # Iterate over all indices of the list, except the last one\n",
       "    for i in range(len(meals)-1):\n",
       "        if meals[i] == meals[i+1]:\n",
       "            return True\n",
       "    return False\n",
       "```\n",
       "\n",
       "The key to our solution is the call to `range`. `range(len(meals))` would give us all the indices of `meals`. If we had used that range, the last iteration of the loop would be comparing the last element to the element after it, which is... `IndexError`! `range(len(meals)-1)` gives us all the indices except the index of the last element.\n",
       "\n",
       "But don't we need to check if `meals` is empty? Turns out that `range(0) == range(-1)` - they're both empty. So if `meals` has length 0 or 1, we just won't do any iterations of our for loop."
      ]
     },
     "metadata": {},
     "output_type": "display_data"
    }
   ],
   "source": [
    "def menu_is_boring(meals):\n",
    "    \"\"\"Given a list of meals served over some period of time, return True if the\n",
    "    same meal has ever been served two days in a row, and False otherwise.\n",
    "    \"\"\"\n",
    "    prev_meal = None\n",
    "    for meal in meals:\n",
    "        if meal == prev_meal:\n",
    "            return True\n",
    "        prev_meal = meal\n",
    "    return False\n",
    "\n",
    "# Check your answer\n",
    "q3.check()"
   ]
  },
  {
   "cell_type": "code",
   "execution_count": 10,
   "id": "6667f4a9",
   "metadata": {
    "execution": {
     "iopub.execute_input": "2025-03-14T20:24:09.177623Z",
     "iopub.status.busy": "2025-03-14T20:24:09.177295Z",
     "iopub.status.idle": "2025-03-14T20:24:09.181067Z",
     "shell.execute_reply": "2025-03-14T20:24:09.180145Z"
    },
    "papermill": {
     "duration": 0.01239,
     "end_time": "2025-03-14T20:24:09.182755",
     "exception": false,
     "start_time": "2025-03-14T20:24:09.170365",
     "status": "completed"
    },
    "tags": []
   },
   "outputs": [],
   "source": [
    "#q3.hint()\n",
    "#q3.solution()"
   ]
  },
  {
   "cell_type": "markdown",
   "id": "624a3e09",
   "metadata": {
    "papermill": {
     "duration": 0.006246,
     "end_time": "2025-03-14T20:24:09.195415",
     "exception": false,
     "start_time": "2025-03-14T20:24:09.189169",
     "status": "completed"
    },
    "tags": []
   },
   "source": [
    "# 4. <span title=\"A bit spicy\" style=\"color: darkgreen \">🌶️</span>\n",
    "\n",
    "Next to the Blackjack table, the Python Challenge Casino has a slot machine. You can get a result from the slot machine by calling `play_slot_machine()`. The number it returns is your winnings in dollars. Usually it returns 0.  But sometimes you'll get lucky and get a big payday. Try running it below:"
   ]
  },
  {
   "cell_type": "code",
   "execution_count": 11,
   "id": "9c8b02c4",
   "metadata": {
    "execution": {
     "iopub.execute_input": "2025-03-14T20:24:09.208996Z",
     "iopub.status.busy": "2025-03-14T20:24:09.208618Z",
     "iopub.status.idle": "2025-03-14T20:24:09.214443Z",
     "shell.execute_reply": "2025-03-14T20:24:09.213377Z"
    },
    "papermill": {
     "duration": 0.014726,
     "end_time": "2025-03-14T20:24:09.216296",
     "exception": false,
     "start_time": "2025-03-14T20:24:09.201570",
     "status": "completed"
    },
    "tags": []
   },
   "outputs": [
    {
     "data": {
      "text/plain": [
       "0"
      ]
     },
     "execution_count": 11,
     "metadata": {},
     "output_type": "execute_result"
    }
   ],
   "source": [
    "play_slot_machine()"
   ]
  },
  {
   "cell_type": "markdown",
   "id": "1196c51a",
   "metadata": {
    "papermill": {
     "duration": 0.005892,
     "end_time": "2025-03-14T20:24:09.228665",
     "exception": false,
     "start_time": "2025-03-14T20:24:09.222773",
     "status": "completed"
    },
    "tags": []
   },
   "source": [
    "By the way, did we mention that each play costs $1? Don't worry, we'll send you the bill later.\n",
    "\n",
    "On average, how much money can you expect to gain (or lose) every time you play the machine?  The casino keeps it a secret, but you can estimate the average value of each pull using a technique called the **Monte Carlo method**. To estimate the average outcome, we simulate the scenario many times, and return the average result.\n",
    "\n",
    "Complete the following function to calculate the average value per play of the slot machine."
   ]
  },
  {
   "cell_type": "code",
   "execution_count": 12,
   "id": "0e585dda",
   "metadata": {
    "execution": {
     "iopub.execute_input": "2025-03-14T20:24:09.242329Z",
     "iopub.status.busy": "2025-03-14T20:24:09.241975Z",
     "iopub.status.idle": "2025-03-14T20:24:09.246691Z",
     "shell.execute_reply": "2025-03-14T20:24:09.245699Z"
    },
    "papermill": {
     "duration": 0.013644,
     "end_time": "2025-03-14T20:24:09.248465",
     "exception": false,
     "start_time": "2025-03-14T20:24:09.234821",
     "status": "completed"
    },
    "tags": []
   },
   "outputs": [],
   "source": [
    "def estimate_average_slot_payout(n_runs):\n",
    "    \"\"\"Run the slot machine n_runs times and return the average net profit per run.\n",
    "    Example calls (note that return value is nondeterministic!):\n",
    "    >>> estimate_average_slot_payout(1)\n",
    "    -1\n",
    "    >>> estimate_average_slot_payout(1)\n",
    "    0.5\n",
    "    \"\"\"\n",
    "    winnings =0\n",
    "    for run  in range(n_runs):\n",
    "        winnings += play_slot_machine()\n",
    "    winnings -= n_runs\n",
    "    return winnings / n_runs"
   ]
  },
  {
   "cell_type": "code",
   "execution_count": 13,
   "id": "208afba7",
   "metadata": {
    "execution": {
     "iopub.execute_input": "2025-03-14T20:24:09.262389Z",
     "iopub.status.busy": "2025-03-14T20:24:09.262025Z",
     "iopub.status.idle": "2025-03-14T20:24:09.266514Z",
     "shell.execute_reply": "2025-03-14T20:24:09.265403Z"
    },
    "papermill": {
     "duration": 0.013319,
     "end_time": "2025-03-14T20:24:09.268232",
     "exception": false,
     "start_time": "2025-03-14T20:24:09.254913",
     "status": "completed"
    },
    "tags": []
   },
   "outputs": [],
   "source": [
    "def estimate_average_slot_payout(n_runs):\n",
    "    return (sum(play_slot_machine() for _ in range(n_runs)) - n_runs)/n_runs"
   ]
  },
  {
   "cell_type": "code",
   "execution_count": 14,
   "id": "62be2893",
   "metadata": {
    "execution": {
     "iopub.execute_input": "2025-03-14T20:24:09.281929Z",
     "iopub.status.busy": "2025-03-14T20:24:09.281492Z",
     "iopub.status.idle": "2025-03-14T20:24:09.316107Z",
     "shell.execute_reply": "2025-03-14T20:24:09.315136Z"
    },
    "papermill": {
     "duration": 0.043154,
     "end_time": "2025-03-14T20:24:09.317668",
     "exception": false,
     "start_time": "2025-03-14T20:24:09.274514",
     "status": "completed"
    },
    "tags": []
   },
   "outputs": [
    {
     "data": {
      "text/plain": [
       "0.032495"
      ]
     },
     "execution_count": 14,
     "metadata": {},
     "output_type": "execute_result"
    }
   ],
   "source": [
    "estimate_average_slot_payout(100000)"
   ]
  },
  {
   "cell_type": "markdown",
   "id": "40e7c4b3",
   "metadata": {
    "papermill": {
     "duration": 0.005946,
     "end_time": "2025-03-14T20:24:09.330322",
     "exception": false,
     "start_time": "2025-03-14T20:24:09.324376",
     "status": "completed"
    },
    "tags": []
   },
   "source": [
    "When you think you know the expected value per spin, run the code cell below to view the solution and get credit for answering the question."
   ]
  },
  {
   "cell_type": "code",
   "execution_count": 15,
   "id": "1afbf717",
   "metadata": {
    "execution": {
     "iopub.execute_input": "2025-03-14T20:24:09.344137Z",
     "iopub.status.busy": "2025-03-14T20:24:09.343701Z",
     "iopub.status.idle": "2025-03-14T20:24:09.352193Z",
     "shell.execute_reply": "2025-03-14T20:24:09.350949Z"
    },
    "papermill": {
     "duration": 0.017463,
     "end_time": "2025-03-14T20:24:09.353963",
     "exception": false,
     "start_time": "2025-03-14T20:24:09.336500",
     "status": "completed"
    },
    "tags": []
   },
   "outputs": [
    {
     "data": {
      "application/javascript": [
       "parent.postMessage({\"jupyterEvent\": \"custom.exercise_interaction\", \"data\": {\"interactionType\": 3, \"questionType\": 4, \"questionId\": \"4_ExpectedSlotsPayout\", \"learnToolsVersion\": \"0.3.4\", \"valueTowardsCompletion\": 0.0, \"failureMessage\": \"\", \"exceptionClass\": \"\", \"trace\": \"\", \"outcomeType\": 4}}, \"*\")"
      ],
      "text/plain": [
       "<IPython.core.display.Javascript object>"
      ]
     },
     "metadata": {},
     "output_type": "display_data"
    },
    {
     "data": {
      "text/markdown": [
       "<span style=\"color:#33cc99\">Solution:</span> \n",
       "    \n",
       "The exact expected value of one pull of the slot machine is 0.025 - i.e. a little more than 2 cents.  See?  Not every game in the Python Challenge Casino is rigged against the player!\n",
       "\n",
       "In order to get this answer, you'll need to implement the `estimate_average_slot_payout(n_runs)` function to simulate pulling the slot machine `n_runs` times.  It should return the payout averaged over those `n_runs`.\n",
       "\n",
       "Then, once the function is defined, in order to estimate the average slot payout, we need only call the function.\n",
       "\n",
       "Because of the high variance of the outcome (there are some very rare high payout results that significantly affect the average) you might need to run your function with a very high value of `n_runs` to get a stable answer close to the true expectation.  For instance, you might use a value for `n_runs` of 1000000.\n",
       "\n",
       "Here's an example for how the function could look:\n",
       "```python\n",
       "def estimate_average_slot_payout(n_runs):\n",
       "    # Play slot machine n_runs times, calculate payout of each\n",
       "    payouts = [play_slot_machine()-1 for i in range(n_runs)]\n",
       "    # Calculate the average value\n",
       "    avg_payout = sum(payouts) / n_runs\n",
       "    return avg_payout\n",
       "    \n",
       "estimate_average_slot_payout(10000000)\n",
       "\n",
       "```\n",
       "\n",
       "This should return an answer close to 0.025!\n",
       "            \n"
      ],
      "text/plain": [
       "Solution: \n",
       "    \n",
       "The exact expected value of one pull of the slot machine is 0.025 - i.e. a little more than 2 cents.  See?  Not every game in the Python Challenge Casino is rigged against the player!\n",
       "\n",
       "In order to get this answer, you'll need to implement the `estimate_average_slot_payout(n_runs)` function to simulate pulling the slot machine `n_runs` times.  It should return the payout averaged over those `n_runs`.\n",
       "\n",
       "Then, once the function is defined, in order to estimate the average slot payout, we need only call the function.\n",
       "\n",
       "Because of the high variance of the outcome (there are some very rare high payout results that significantly affect the average) you might need to run your function with a very high value of `n_runs` to get a stable answer close to the true expectation.  For instance, you might use a value for `n_runs` of 1000000.\n",
       "\n",
       "Here's an example for how the function could look:\n",
       "```python\n",
       "def estimate_average_slot_payout(n_runs):\n",
       "    # Play slot machine n_runs times, calculate payout of each\n",
       "    payouts = [play_slot_machine()-1 for i in range(n_runs)]\n",
       "    # Calculate the average value\n",
       "    avg_payout = sum(payouts) / n_runs\n",
       "    return avg_payout\n",
       "    \n",
       "estimate_average_slot_payout(10000000)\n",
       "\n",
       "```\n",
       "\n",
       "This should return an answer close to 0.025!\n",
       "            "
      ]
     },
     "metadata": {},
     "output_type": "display_data"
    }
   ],
   "source": [
    "# Check your answer (Run this code cell to receive credit!)\n",
    "q4.solution()"
   ]
  },
  {
   "cell_type": "markdown",
   "id": "1daef798",
   "metadata": {
    "papermill": {
     "duration": 0.007081,
     "end_time": "2025-03-14T20:24:09.368026",
     "exception": false,
     "start_time": "2025-03-14T20:24:09.360945",
     "status": "completed"
    },
    "tags": []
   },
   "source": [
    "# Keep Going\n",
    "\n",
    "Many programmers report that dictionaries are their favorite data structure. You'll get to **[learn about them](https://www.kaggle.com/colinmorris/strings-and-dictionaries)** (as well as strings) in the next lesson."
   ]
  },
  {
   "cell_type": "markdown",
   "id": "19493297",
   "metadata": {
    "papermill": {
     "duration": 0.006231,
     "end_time": "2025-03-14T20:24:09.380761",
     "exception": false,
     "start_time": "2025-03-14T20:24:09.374530",
     "status": "completed"
    },
    "tags": []
   },
   "source": [
    "---\n",
    "\n",
    "\n",
    "\n",
    "\n",
    "*Have questions or comments? Visit the [course discussion forum](https://www.kaggle.com/learn/python/discussion) to chat with other learners.*"
   ]
  }
 ],
 "metadata": {
  "kaggle": {
   "accelerator": "none",
   "dataSources": [],
   "isGpuEnabled": false,
   "isInternetEnabled": false,
   "language": "python",
   "sourceType": "notebook"
  },
  "kernelspec": {
   "display_name": "Python 3",
   "language": "python",
   "name": "python3"
  },
  "language_info": {
   "codemirror_mode": {
    "name": "ipython",
    "version": 3
   },
   "file_extension": ".py",
   "mimetype": "text/x-python",
   "name": "python",
   "nbconvert_exporter": "python",
   "pygments_lexer": "ipython3",
   "version": "3.10.12"
  },
  "papermill": {
   "default_parameters": {},
   "duration": 5.033879,
   "end_time": "2025-03-14T20:24:10.007625",
   "environment_variables": {},
   "exception": null,
   "input_path": "__notebook__.ipynb",
   "output_path": "__notebook__.ipynb",
   "parameters": {},
   "start_time": "2025-03-14T20:24:04.973746",
   "version": "2.6.0"
  }
 },
 "nbformat": 4,
 "nbformat_minor": 5
}
