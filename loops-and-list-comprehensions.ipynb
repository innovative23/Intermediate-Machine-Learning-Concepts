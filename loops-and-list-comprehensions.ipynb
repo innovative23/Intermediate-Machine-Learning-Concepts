{
 "cells": [
  {
   "cell_type": "markdown",
   "id": "1d503fb8",
   "metadata": {
    "papermill": {
     "duration": 0.006689,
     "end_time": "2025-03-14T20:26:43.848639",
     "exception": false,
     "start_time": "2025-03-14T20:26:43.841950",
     "status": "completed"
    },
    "tags": []
   },
   "source": [
    "# Loops\n",
    "\n",
    "Loops are a way to repeatedly execute some code. Here's an example:"
   ]
  },
  {
   "cell_type": "code",
   "execution_count": 1,
   "id": "8104fbbe",
   "metadata": {
    "execution": {
     "iopub.execute_input": "2025-03-14T20:26:43.861558Z",
     "iopub.status.busy": "2025-03-14T20:26:43.861116Z",
     "iopub.status.idle": "2025-03-14T20:26:43.869923Z",
     "shell.execute_reply": "2025-03-14T20:26:43.868849Z"
    },
    "papermill": {
     "duration": 0.017212,
     "end_time": "2025-03-14T20:26:43.871648",
     "exception": false,
     "start_time": "2025-03-14T20:26:43.854436",
     "status": "completed"
    },
    "tags": []
   },
   "outputs": [
    {
     "name": "stdout",
     "output_type": "stream",
     "text": [
      "Mercury Venus Earth Mars Jupiter Saturn Uranus Neptune "
     ]
    }
   ],
   "source": [
    "planets = ['Mercury', 'Venus', 'Earth', 'Mars', 'Jupiter', 'Saturn', 'Uranus', 'Neptune']\n",
    "for planet in planets:\n",
    "    print(planet, end=' ') # print all on same line"
   ]
  },
  {
   "cell_type": "markdown",
   "id": "006dc683",
   "metadata": {
    "papermill": {
     "duration": 0.005283,
     "end_time": "2025-03-14T20:26:43.882707",
     "exception": false,
     "start_time": "2025-03-14T20:26:43.877424",
     "status": "completed"
    },
    "tags": []
   },
   "source": [
    "The ``for`` loop specifies \n",
    "- the variable name to use (in this case, `planet`)\n",
    "- the set of values to loop over (in this case, `planets`)\n",
    "\n",
    "You use the word \"``in``\" to link them together.\n",
    "\n",
    "The object to the right of the \"``in``\" can be any object that supports iteration. Basically, if it can be thought of as a group of things, you can probably loop over it. In addition to lists, we can iterate over the elements of a tuple:"
   ]
  },
  {
   "cell_type": "code",
   "execution_count": 2,
   "id": "82f44983",
   "metadata": {
    "execution": {
     "iopub.execute_input": "2025-03-14T20:26:43.895121Z",
     "iopub.status.busy": "2025-03-14T20:26:43.894753Z",
     "iopub.status.idle": "2025-03-14T20:26:43.902004Z",
     "shell.execute_reply": "2025-03-14T20:26:43.900968Z"
    },
    "papermill": {
     "duration": 0.015302,
     "end_time": "2025-03-14T20:26:43.903646",
     "exception": false,
     "start_time": "2025-03-14T20:26:43.888344",
     "status": "completed"
    },
    "tags": []
   },
   "outputs": [
    {
     "data": {
      "text/plain": [
       "360"
      ]
     },
     "execution_count": 2,
     "metadata": {},
     "output_type": "execute_result"
    }
   ],
   "source": [
    "multiplicands = (2, 2, 2, 3, 3, 5)\n",
    "product = 1\n",
    "for mult in multiplicands:\n",
    "    product = product * mult\n",
    "product"
   ]
  },
  {
   "cell_type": "markdown",
   "id": "78c037a6",
   "metadata": {
    "papermill": {
     "duration": 0.005409,
     "end_time": "2025-03-14T20:26:43.914975",
     "exception": false,
     "start_time": "2025-03-14T20:26:43.909566",
     "status": "completed"
    },
    "tags": []
   },
   "source": [
    "You can even loop through each character in a string:"
   ]
  },
  {
   "cell_type": "code",
   "execution_count": 3,
   "id": "68076d6f",
   "metadata": {
    "execution": {
     "iopub.execute_input": "2025-03-14T20:26:43.927727Z",
     "iopub.status.busy": "2025-03-14T20:26:43.927346Z",
     "iopub.status.idle": "2025-03-14T20:26:43.933377Z",
     "shell.execute_reply": "2025-03-14T20:26:43.932389Z"
    },
    "papermill": {
     "duration": 0.014447,
     "end_time": "2025-03-14T20:26:43.935098",
     "exception": false,
     "start_time": "2025-03-14T20:26:43.920651",
     "status": "completed"
    },
    "tags": []
   },
   "outputs": [
    {
     "name": "stdout",
     "output_type": "stream",
     "text": [
      "HELLO"
     ]
    }
   ],
   "source": [
    "s = 'steganograpHy is the practicE of conceaLing a file, message, image, or video within another fiLe, message, image, Or video.'\n",
    "msg = ''\n",
    "# print all the uppercase letters in s, one at a time\n",
    "for char in s:\n",
    "    if char.isupper():\n",
    "        print(char, end='')        "
   ]
  },
  {
   "cell_type": "markdown",
   "id": "ac6f80d0",
   "metadata": {
    "papermill": {
     "duration": 0.00555,
     "end_time": "2025-03-14T20:26:43.946590",
     "exception": false,
     "start_time": "2025-03-14T20:26:43.941040",
     "status": "completed"
    },
    "tags": []
   },
   "source": [
    "### range()\n",
    "\n",
    "`range()` is a function that returns a sequence of numbers. It turns out to be very useful for writing loops.\n",
    "\n",
    "For example, if we want to repeat some action 5 times:"
   ]
  },
  {
   "cell_type": "code",
   "execution_count": 4,
   "id": "598cde18",
   "metadata": {
    "execution": {
     "iopub.execute_input": "2025-03-14T20:26:43.959904Z",
     "iopub.status.busy": "2025-03-14T20:26:43.959489Z",
     "iopub.status.idle": "2025-03-14T20:26:43.967704Z",
     "shell.execute_reply": "2025-03-14T20:26:43.966353Z"
    },
    "papermill": {
     "duration": 0.017198,
     "end_time": "2025-03-14T20:26:43.969619",
     "exception": false,
     "start_time": "2025-03-14T20:26:43.952421",
     "status": "completed"
    },
    "tags": []
   },
   "outputs": [
    {
     "name": "stdout",
     "output_type": "stream",
     "text": [
      "Doing important work. i = 0\n",
      "Doing important work. i = 1\n",
      "Doing important work. i = 2\n",
      "Doing important work. i = 3\n",
      "Doing important work. i = 4\n"
     ]
    }
   ],
   "source": [
    "for i in range(5):\n",
    "    print(\"Doing important work. i =\", i)"
   ]
  },
  {
   "cell_type": "markdown",
   "id": "5a27a516",
   "metadata": {
    "papermill": {
     "duration": 0.005425,
     "end_time": "2025-03-14T20:26:43.981041",
     "exception": false,
     "start_time": "2025-03-14T20:26:43.975616",
     "status": "completed"
    },
    "tags": []
   },
   "source": [
    "## ``while`` loops\n",
    "The other type of loop in Python is a ``while`` loop, which iterates until some condition is met:"
   ]
  },
  {
   "cell_type": "code",
   "execution_count": 5,
   "id": "d3350aa2",
   "metadata": {
    "execution": {
     "iopub.execute_input": "2025-03-14T20:26:43.993738Z",
     "iopub.status.busy": "2025-03-14T20:26:43.993368Z",
     "iopub.status.idle": "2025-03-14T20:26:43.999746Z",
     "shell.execute_reply": "2025-03-14T20:26:43.998764Z"
    },
    "papermill": {
     "duration": 0.014756,
     "end_time": "2025-03-14T20:26:44.001533",
     "exception": false,
     "start_time": "2025-03-14T20:26:43.986777",
     "status": "completed"
    },
    "tags": []
   },
   "outputs": [
    {
     "name": "stdout",
     "output_type": "stream",
     "text": [
      "0 1 2 3 4 5 6 7 8 9 "
     ]
    }
   ],
   "source": [
    "i = 0\n",
    "while i < 10:\n",
    "    print(i, end=' ')\n",
    "    i += 1 # increase the value of i by 1"
   ]
  },
  {
   "cell_type": "markdown",
   "id": "518c5e46",
   "metadata": {
    "papermill": {
     "duration": 0.00545,
     "end_time": "2025-03-14T20:26:44.013000",
     "exception": false,
     "start_time": "2025-03-14T20:26:44.007550",
     "status": "completed"
    },
    "tags": []
   },
   "source": [
    "The argument of the ``while`` loop is evaluated as a boolean statement, and the loop is executed until the statement evaluates to False."
   ]
  },
  {
   "cell_type": "markdown",
   "id": "95b43953",
   "metadata": {
    "papermill": {
     "duration": 0.005466,
     "end_time": "2025-03-14T20:26:44.024596",
     "exception": false,
     "start_time": "2025-03-14T20:26:44.019130",
     "status": "completed"
    },
    "tags": []
   },
   "source": [
    "# List comprehensions\n",
    "\n",
    "List comprehensions are one of Python's most beloved and unique features. The easiest way to understand them is probably to just look at a few examples:"
   ]
  },
  {
   "cell_type": "code",
   "execution_count": 6,
   "id": "d0fcb267",
   "metadata": {
    "execution": {
     "iopub.execute_input": "2025-03-14T20:26:44.037485Z",
     "iopub.status.busy": "2025-03-14T20:26:44.037099Z",
     "iopub.status.idle": "2025-03-14T20:26:44.043479Z",
     "shell.execute_reply": "2025-03-14T20:26:44.042490Z"
    },
    "papermill": {
     "duration": 0.014809,
     "end_time": "2025-03-14T20:26:44.045244",
     "exception": false,
     "start_time": "2025-03-14T20:26:44.030435",
     "status": "completed"
    },
    "tags": []
   },
   "outputs": [
    {
     "data": {
      "text/plain": [
       "[0, 1, 4, 9, 16, 25, 36, 49, 64, 81]"
      ]
     },
     "execution_count": 6,
     "metadata": {},
     "output_type": "execute_result"
    }
   ],
   "source": [
    "squares = [n**2 for n in range(10)]\n",
    "squares"
   ]
  },
  {
   "cell_type": "markdown",
   "id": "71475319",
   "metadata": {
    "papermill": {
     "duration": 0.006126,
     "end_time": "2025-03-14T20:26:44.057825",
     "exception": false,
     "start_time": "2025-03-14T20:26:44.051699",
     "status": "completed"
    },
    "tags": []
   },
   "source": [
    "Here's how we would do the same thing without a list comprehension:"
   ]
  },
  {
   "cell_type": "code",
   "execution_count": 7,
   "id": "06a12feb",
   "metadata": {
    "execution": {
     "iopub.execute_input": "2025-03-14T20:26:44.071390Z",
     "iopub.status.busy": "2025-03-14T20:26:44.070901Z",
     "iopub.status.idle": "2025-03-14T20:26:44.077504Z",
     "shell.execute_reply": "2025-03-14T20:26:44.076412Z"
    },
    "papermill": {
     "duration": 0.015697,
     "end_time": "2025-03-14T20:26:44.079494",
     "exception": false,
     "start_time": "2025-03-14T20:26:44.063797",
     "status": "completed"
    },
    "tags": []
   },
   "outputs": [
    {
     "data": {
      "text/plain": [
       "[0, 1, 4, 9, 16, 25, 36, 49, 64, 81]"
      ]
     },
     "execution_count": 7,
     "metadata": {},
     "output_type": "execute_result"
    }
   ],
   "source": [
    "squares = []\n",
    "for n in range(10):\n",
    "    squares.append(n**2)\n",
    "squares"
   ]
  },
  {
   "cell_type": "markdown",
   "id": "4043f7fa",
   "metadata": {
    "papermill": {
     "duration": 0.005886,
     "end_time": "2025-03-14T20:26:44.091535",
     "exception": false,
     "start_time": "2025-03-14T20:26:44.085649",
     "status": "completed"
    },
    "tags": []
   },
   "source": [
    "We can also add an `if` condition:"
   ]
  },
  {
   "cell_type": "code",
   "execution_count": 8,
   "id": "61dbaa6f",
   "metadata": {
    "execution": {
     "iopub.execute_input": "2025-03-14T20:26:44.104923Z",
     "iopub.status.busy": "2025-03-14T20:26:44.104564Z",
     "iopub.status.idle": "2025-03-14T20:26:44.110353Z",
     "shell.execute_reply": "2025-03-14T20:26:44.109321Z"
    },
    "papermill": {
     "duration": 0.014331,
     "end_time": "2025-03-14T20:26:44.111958",
     "exception": false,
     "start_time": "2025-03-14T20:26:44.097627",
     "status": "completed"
    },
    "tags": []
   },
   "outputs": [
    {
     "data": {
      "text/plain": [
       "['Venus', 'Earth', 'Mars']"
      ]
     },
     "execution_count": 8,
     "metadata": {},
     "output_type": "execute_result"
    }
   ],
   "source": [
    "short_planets = [planet for planet in planets if len(planet) < 6]\n",
    "short_planets"
   ]
  },
  {
   "cell_type": "markdown",
   "id": "36949051",
   "metadata": {
    "papermill": {
     "duration": 0.005977,
     "end_time": "2025-03-14T20:26:44.124069",
     "exception": false,
     "start_time": "2025-03-14T20:26:44.118092",
     "status": "completed"
    },
    "tags": []
   },
   "source": [
    "(If you're familiar with SQL, you might think of this as being like a \"WHERE\" clause)\n",
    "\n",
    "Here's an example of filtering with an `if` condition *and* applying some transformation to the loop variable:"
   ]
  },
  {
   "cell_type": "code",
   "execution_count": 9,
   "id": "9fc114f3",
   "metadata": {
    "execution": {
     "iopub.execute_input": "2025-03-14T20:26:44.137566Z",
     "iopub.status.busy": "2025-03-14T20:26:44.137117Z",
     "iopub.status.idle": "2025-03-14T20:26:44.143324Z",
     "shell.execute_reply": "2025-03-14T20:26:44.142275Z"
    },
    "papermill": {
     "duration": 0.014812,
     "end_time": "2025-03-14T20:26:44.144993",
     "exception": false,
     "start_time": "2025-03-14T20:26:44.130181",
     "status": "completed"
    },
    "tags": []
   },
   "outputs": [
    {
     "data": {
      "text/plain": [
       "['VENUS!', 'EARTH!', 'MARS!']"
      ]
     },
     "execution_count": 9,
     "metadata": {},
     "output_type": "execute_result"
    }
   ],
   "source": [
    "# str.upper() returns an all-caps version of a string\n",
    "loud_short_planets = [planet.upper() + '!' for planet in planets if len(planet) < 6]\n",
    "loud_short_planets"
   ]
  },
  {
   "cell_type": "markdown",
   "id": "a8f1978e",
   "metadata": {
    "papermill": {
     "duration": 0.005817,
     "end_time": "2025-03-14T20:26:44.157320",
     "exception": false,
     "start_time": "2025-03-14T20:26:44.151503",
     "status": "completed"
    },
    "tags": []
   },
   "source": [
    "People usually write these on a single line, but you might find the structure clearer when it's split up over 3 lines:"
   ]
  },
  {
   "cell_type": "code",
   "execution_count": 10,
   "id": "d5433a68",
   "metadata": {
    "execution": {
     "iopub.execute_input": "2025-03-14T20:26:44.170881Z",
     "iopub.status.busy": "2025-03-14T20:26:44.170557Z",
     "iopub.status.idle": "2025-03-14T20:26:44.176885Z",
     "shell.execute_reply": "2025-03-14T20:26:44.175711Z"
    },
    "papermill": {
     "duration": 0.015331,
     "end_time": "2025-03-14T20:26:44.178718",
     "exception": false,
     "start_time": "2025-03-14T20:26:44.163387",
     "status": "completed"
    },
    "tags": []
   },
   "outputs": [
    {
     "data": {
      "text/plain": [
       "['VENUS!', 'EARTH!', 'MARS!']"
      ]
     },
     "execution_count": 10,
     "metadata": {},
     "output_type": "execute_result"
    }
   ],
   "source": [
    "[\n",
    "    planet.upper() + '!' \n",
    "    for planet in planets \n",
    "    if len(planet) < 6\n",
    "]"
   ]
  },
  {
   "cell_type": "markdown",
   "id": "31664633",
   "metadata": {
    "papermill": {
     "duration": 0.006137,
     "end_time": "2025-03-14T20:26:44.191647",
     "exception": false,
     "start_time": "2025-03-14T20:26:44.185510",
     "status": "completed"
    },
    "tags": []
   },
   "source": [
    "(Continuing the SQL analogy, you could think of these three lines as SELECT, FROM, and WHERE)\n",
    "\n",
    "The expression on the left doesn't technically have to involve the loop variable (though it'd be pretty unusual for it not to). What do you think the expression below will evaluate to? Press the 'output' button to check. "
   ]
  },
  {
   "cell_type": "code",
   "execution_count": 11,
   "id": "ffbdf38d",
   "metadata": {
    "_kg_hide-output": true,
    "execution": {
     "iopub.execute_input": "2025-03-14T20:26:44.205626Z",
     "iopub.status.busy": "2025-03-14T20:26:44.205260Z",
     "iopub.status.idle": "2025-03-14T20:26:44.211083Z",
     "shell.execute_reply": "2025-03-14T20:26:44.210090Z"
    },
    "papermill": {
     "duration": 0.014825,
     "end_time": "2025-03-14T20:26:44.212918",
     "exception": false,
     "start_time": "2025-03-14T20:26:44.198093",
     "status": "completed"
    },
    "tags": []
   },
   "outputs": [
    {
     "data": {
      "text/plain": [
       "[32, 32, 32, 32, 32, 32, 32, 32]"
      ]
     },
     "execution_count": 11,
     "metadata": {},
     "output_type": "execute_result"
    }
   ],
   "source": [
    "[32 for planet in planets]"
   ]
  },
  {
   "cell_type": "markdown",
   "id": "93b94e54",
   "metadata": {
    "papermill": {
     "duration": 0.006158,
     "end_time": "2025-03-14T20:26:44.225699",
     "exception": false,
     "start_time": "2025-03-14T20:26:44.219541",
     "status": "completed"
    },
    "tags": []
   },
   "source": [
    "List comprehensions combined with functions like `min`, `max`, and `sum` can lead to impressive one-line solutions for problems that would otherwise require several lines of code. \n",
    "\n",
    "For example, compare the following two cells of code that do the same thing.\n"
   ]
  },
  {
   "cell_type": "code",
   "execution_count": 12,
   "id": "b6c3e690",
   "metadata": {
    "execution": {
     "iopub.execute_input": "2025-03-14T20:26:44.239884Z",
     "iopub.status.busy": "2025-03-14T20:26:44.239555Z",
     "iopub.status.idle": "2025-03-14T20:26:44.244537Z",
     "shell.execute_reply": "2025-03-14T20:26:44.243487Z"
    },
    "papermill": {
     "duration": 0.014328,
     "end_time": "2025-03-14T20:26:44.246471",
     "exception": false,
     "start_time": "2025-03-14T20:26:44.232143",
     "status": "completed"
    },
    "tags": []
   },
   "outputs": [],
   "source": [
    "def count_negatives(nums):\n",
    "    \"\"\"Return the number of negative numbers in the given list.\n",
    "    \n",
    "    >>> count_negatives([5, -1, -2, 0, 3])\n",
    "    2\n",
    "    \"\"\"\n",
    "    n_negative = 0\n",
    "    for num in nums:\n",
    "        if num < 0:\n",
    "            n_negative = n_negative + 1\n",
    "    return n_negative"
   ]
  },
  {
   "cell_type": "markdown",
   "id": "cce5fac0",
   "metadata": {
    "papermill": {
     "duration": 0.007205,
     "end_time": "2025-03-14T20:26:44.260265",
     "exception": false,
     "start_time": "2025-03-14T20:26:44.253060",
     "status": "completed"
    },
    "tags": []
   },
   "source": [
    "Here's a solution using a list comprehension:"
   ]
  },
  {
   "cell_type": "code",
   "execution_count": 13,
   "id": "5392b1df",
   "metadata": {
    "execution": {
     "iopub.execute_input": "2025-03-14T20:26:44.274567Z",
     "iopub.status.busy": "2025-03-14T20:26:44.274155Z",
     "iopub.status.idle": "2025-03-14T20:26:44.278491Z",
     "shell.execute_reply": "2025-03-14T20:26:44.277528Z"
    },
    "papermill": {
     "duration": 0.013335,
     "end_time": "2025-03-14T20:26:44.280192",
     "exception": false,
     "start_time": "2025-03-14T20:26:44.266857",
     "status": "completed"
    },
    "tags": []
   },
   "outputs": [],
   "source": [
    "def count_negatives(nums):\n",
    "    return len([num for num in nums if num < 0])"
   ]
  },
  {
   "cell_type": "markdown",
   "id": "3f725829",
   "metadata": {
    "papermill": {
     "duration": 0.007557,
     "end_time": "2025-03-14T20:26:44.294370",
     "exception": false,
     "start_time": "2025-03-14T20:26:44.286813",
     "status": "completed"
    },
    "tags": []
   },
   "source": [
    "Much better, right?\n",
    "\n",
    "Well if all we care about is minimizing the length of our code, this third solution is better still!"
   ]
  },
  {
   "cell_type": "code",
   "execution_count": 14,
   "id": "a8654079",
   "metadata": {
    "execution": {
     "iopub.execute_input": "2025-03-14T20:26:44.309082Z",
     "iopub.status.busy": "2025-03-14T20:26:44.308669Z",
     "iopub.status.idle": "2025-03-14T20:26:44.313416Z",
     "shell.execute_reply": "2025-03-14T20:26:44.312315Z"
    },
    "papermill": {
     "duration": 0.01417,
     "end_time": "2025-03-14T20:26:44.315267",
     "exception": false,
     "start_time": "2025-03-14T20:26:44.301097",
     "status": "completed"
    },
    "tags": []
   },
   "outputs": [],
   "source": [
    "def count_negatives(nums):\n",
    "    # Reminder: in the \"booleans and conditionals\" exercises, we learned about a quirk of \n",
    "    # Python where it calculates something like True + True + False + True to be equal to 3.\n",
    "    return sum([num < 0 for num in nums])"
   ]
  },
  {
   "cell_type": "markdown",
   "id": "f6e3b751",
   "metadata": {
    "papermill": {
     "duration": 0.006163,
     "end_time": "2025-03-14T20:26:44.328029",
     "exception": false,
     "start_time": "2025-03-14T20:26:44.321866",
     "status": "completed"
    },
    "tags": []
   },
   "source": [
    "Which of these solutions is the \"best\" is entirely subjective. Solving a problem with less code is always nice, but it's worth keeping in mind the following lines from [The Zen of Python](https://en.wikipedia.org/wiki/Zen_of_Python):\n",
    "\n",
    "> Readability counts.  \n",
    "> Explicit is better than implicit.\n",
    "\n",
    "So, use these tools to make compact readable programs. But when you have to choose, favor code that is easy for others to understand."
   ]
  },
  {
   "cell_type": "markdown",
   "id": "72d1f493",
   "metadata": {
    "papermill": {
     "duration": 0.006089,
     "end_time": "2025-03-14T20:26:44.340509",
     "exception": false,
     "start_time": "2025-03-14T20:26:44.334420",
     "status": "completed"
    },
    "tags": []
   },
   "source": [
    "# Your Turn\n",
    "\n",
    "You know what's next -- we have some **[fun coding challenges](https://www.kaggle.com/kernels/fork/1275177)** for you! This next set of coding problems is shorter, so try it now."
   ]
  },
  {
   "cell_type": "markdown",
   "id": "f7676e7b",
   "metadata": {
    "papermill": {
     "duration": 0.006063,
     "end_time": "2025-03-14T20:26:44.353002",
     "exception": false,
     "start_time": "2025-03-14T20:26:44.346939",
     "status": "completed"
    },
    "tags": []
   },
   "source": [
    "---\n",
    "\n",
    "\n",
    "\n",
    "\n",
    "*Have questions or comments? Visit the [course discussion forum](https://www.kaggle.com/learn/python/discussion) to chat with other learners.*"
   ]
  }
 ],
 "metadata": {
  "kaggle": {
   "accelerator": "none",
   "dataSources": [],
   "isGpuEnabled": false,
   "isInternetEnabled": false,
   "language": "python",
   "sourceType": "notebook"
  },
  "kernelspec": {
   "display_name": "Python 3",
   "language": "python",
   "name": "python3"
  },
  "language_info": {
   "codemirror_mode": {
    "name": "ipython",
    "version": 3
   },
   "file_extension": ".py",
   "mimetype": "text/x-python",
   "name": "python",
   "nbconvert_exporter": "python",
   "pygments_lexer": "ipython3",
   "version": "3.10.12"
  },
  "papermill": {
   "default_parameters": {},
   "duration": 3.897144,
   "end_time": "2025-03-14T20:26:44.880681",
   "environment_variables": {},
   "exception": null,
   "input_path": "__notebook__.ipynb",
   "output_path": "__notebook__.ipynb",
   "parameters": {},
   "start_time": "2025-03-14T20:26:40.983537",
   "version": "2.6.0"
  }
 },
 "nbformat": 4,
 "nbformat_minor": 5
}
