{
 "cells": [
  {
   "cell_type": "markdown",
   "id": "5027bac8",
   "metadata": {
    "papermill": {
     "duration": 0.008851,
     "end_time": "2025-03-14T20:23:03.285583",
     "exception": false,
     "start_time": "2025-03-14T20:23:03.276732",
     "status": "completed"
    },
    "tags": []
   },
   "source": [
    "**This notebook is an exercise in the [Python](https://www.kaggle.com/learn/python) course.  You can reference the tutorial at [this link](https://www.kaggle.com/colinmorris/booleans-and-conditionals).**\n",
    "\n",
    "---\n"
   ]
  },
  {
   "cell_type": "markdown",
   "id": "61a4509a",
   "metadata": {
    "papermill": {
     "duration": 0.007555,
     "end_time": "2025-03-14T20:23:03.301841",
     "exception": false,
     "start_time": "2025-03-14T20:23:03.294286",
     "status": "completed"
    },
    "tags": []
   },
   "source": [
    "In this exercise, you'll put to work what you have learned about booleans and conditionals.\n",
    "\n",
    "To get started, **run the setup code below** before writing your own code (and if you leave this notebook and come back later, don't forget to run the setup code again)."
   ]
  },
  {
   "cell_type": "code",
   "execution_count": 1,
   "id": "31d6c710",
   "metadata": {
    "execution": {
     "iopub.execute_input": "2025-03-14T20:23:03.319642Z",
     "iopub.status.busy": "2025-03-14T20:23:03.319162Z",
     "iopub.status.idle": "2025-03-14T20:23:04.536484Z",
     "shell.execute_reply": "2025-03-14T20:23:04.534568Z"
    },
    "papermill": {
     "duration": 1.229022,
     "end_time": "2025-03-14T20:23:04.538916",
     "exception": false,
     "start_time": "2025-03-14T20:23:03.309894",
     "status": "completed"
    },
    "tags": []
   },
   "outputs": [
    {
     "name": "stdout",
     "output_type": "stream",
     "text": [
      "Setup complete.\n"
     ]
    }
   ],
   "source": [
    "from learntools.core import binder; binder.bind(globals())\n",
    "from learntools.python.ex3 import *\n",
    "print('Setup complete.')"
   ]
  },
  {
   "cell_type": "markdown",
   "id": "85d4cf71",
   "metadata": {
    "papermill": {
     "duration": 0.007505,
     "end_time": "2025-03-14T20:23:04.554870",
     "exception": false,
     "start_time": "2025-03-14T20:23:04.547365",
     "status": "completed"
    },
    "tags": []
   },
   "source": [
    "# 1.\n",
    "\n",
    "Many programming languages have [`sign`](https://en.wikipedia.org/wiki/Sign_function) available as a built-in function. Python doesn't, but we can define our own!\n",
    "\n",
    "In the cell below, define a function called `sign` which takes a numerical argument and returns -1 if it's negative, 1 if it's positive, and 0 if it's 0."
   ]
  },
  {
   "cell_type": "code",
   "execution_count": 2,
   "id": "aa4efb40",
   "metadata": {
    "execution": {
     "iopub.execute_input": "2025-03-14T20:23:04.572308Z",
     "iopub.status.busy": "2025-03-14T20:23:04.571657Z",
     "iopub.status.idle": "2025-03-14T20:23:04.581916Z",
     "shell.execute_reply": "2025-03-14T20:23:04.580851Z"
    },
    "papermill": {
     "duration": 0.021508,
     "end_time": "2025-03-14T20:23:04.584233",
     "exception": false,
     "start_time": "2025-03-14T20:23:04.562725",
     "status": "completed"
    },
    "tags": []
   },
   "outputs": [
    {
     "data": {
      "application/javascript": [
       "parent.postMessage({\"jupyterEvent\": \"custom.exercise_interaction\", \"data\": {\"outcomeType\": 1, \"valueTowardsCompletion\": 0.2, \"interactionType\": 1, \"questionType\": 2, \"questionId\": \"1_SignFunctionProblem\", \"learnToolsVersion\": \"0.3.4\", \"failureMessage\": \"\", \"exceptionClass\": \"\", \"trace\": \"\"}}, \"*\")"
      ],
      "text/plain": [
       "<IPython.core.display.Javascript object>"
      ]
     },
     "metadata": {},
     "output_type": "display_data"
    },
    {
     "data": {
      "text/markdown": [
       "<span style=\"color:#33cc33\">Correct</span>"
      ],
      "text/plain": [
       "Correct"
      ]
     },
     "metadata": {},
     "output_type": "display_data"
    }
   ],
   "source": [
    "# Your code goes here. Define a function called 'sign'\n",
    "def sign(x):\n",
    "    if x == 0:\n",
    "        return 0\n",
    "    elif x < 0:\n",
    "        return -1\n",
    "    return 1\n",
    "# Check your answer\n",
    "q1.check()"
   ]
  },
  {
   "cell_type": "code",
   "execution_count": 3,
   "id": "63809361",
   "metadata": {
    "execution": {
     "iopub.execute_input": "2025-03-14T20:23:04.602209Z",
     "iopub.status.busy": "2025-03-14T20:23:04.601789Z",
     "iopub.status.idle": "2025-03-14T20:23:04.606370Z",
     "shell.execute_reply": "2025-03-14T20:23:04.605254Z"
    },
    "papermill": {
     "duration": 0.015827,
     "end_time": "2025-03-14T20:23:04.608470",
     "exception": false,
     "start_time": "2025-03-14T20:23:04.592643",
     "status": "completed"
    },
    "tags": []
   },
   "outputs": [],
   "source": [
    "#q1.solution()"
   ]
  },
  {
   "cell_type": "markdown",
   "id": "0099b8be",
   "metadata": {
    "papermill": {
     "duration": 0.008388,
     "end_time": "2025-03-14T20:23:04.625389",
     "exception": false,
     "start_time": "2025-03-14T20:23:04.617001",
     "status": "completed"
    },
    "tags": []
   },
   "source": [
    "# 2.\n",
    "\n",
    "We've decided to add \"logging\" to our `to_smash` function from the previous exercise."
   ]
  },
  {
   "cell_type": "code",
   "execution_count": 4,
   "id": "b6fec027",
   "metadata": {
    "execution": {
     "iopub.execute_input": "2025-03-14T20:23:04.643427Z",
     "iopub.status.busy": "2025-03-14T20:23:04.643081Z",
     "iopub.status.idle": "2025-03-14T20:23:04.651375Z",
     "shell.execute_reply": "2025-03-14T20:23:04.650156Z"
    },
    "papermill": {
     "duration": 0.019779,
     "end_time": "2025-03-14T20:23:04.653453",
     "exception": false,
     "start_time": "2025-03-14T20:23:04.633674",
     "status": "completed"
    },
    "tags": []
   },
   "outputs": [
    {
     "name": "stdout",
     "output_type": "stream",
     "text": [
      "Splitting 91 candies\n"
     ]
    },
    {
     "data": {
      "text/plain": [
       "1"
      ]
     },
     "execution_count": 4,
     "metadata": {},
     "output_type": "execute_result"
    }
   ],
   "source": [
    "def to_smash(total_candies):\n",
    "    \"\"\"Return the number of leftover candies that must be smashed after distributing\n",
    "    the given number of candies evenly between 3 friends.\n",
    "    \n",
    "    >>> to_smash(91)\n",
    "    1\n",
    "    \"\"\"\n",
    "    print(\"Splitting\", total_candies, \"candies\")\n",
    "    return total_candies % 3\n",
    "\n",
    "to_smash(91)"
   ]
  },
  {
   "cell_type": "markdown",
   "id": "80e4a2d9",
   "metadata": {
    "papermill": {
     "duration": 0.008297,
     "end_time": "2025-03-14T20:23:04.669915",
     "exception": false,
     "start_time": "2025-03-14T20:23:04.661618",
     "status": "completed"
    },
    "tags": []
   },
   "source": [
    "What happens if we call it with `total_candies = 1`?"
   ]
  },
  {
   "cell_type": "code",
   "execution_count": 5,
   "id": "03080750",
   "metadata": {
    "execution": {
     "iopub.execute_input": "2025-03-14T20:23:04.687329Z",
     "iopub.status.busy": "2025-03-14T20:23:04.686929Z",
     "iopub.status.idle": "2025-03-14T20:23:04.694657Z",
     "shell.execute_reply": "2025-03-14T20:23:04.693351Z"
    },
    "papermill": {
     "duration": 0.018684,
     "end_time": "2025-03-14T20:23:04.696471",
     "exception": false,
     "start_time": "2025-03-14T20:23:04.677787",
     "status": "completed"
    },
    "tags": []
   },
   "outputs": [
    {
     "name": "stdout",
     "output_type": "stream",
     "text": [
      "Splitting 1 candies\n"
     ]
    },
    {
     "data": {
      "text/plain": [
       "1"
      ]
     },
     "execution_count": 5,
     "metadata": {},
     "output_type": "execute_result"
    }
   ],
   "source": [
    "to_smash(1)"
   ]
  },
  {
   "cell_type": "markdown",
   "id": "ce301ad7",
   "metadata": {
    "papermill": {
     "duration": 0.008486,
     "end_time": "2025-03-14T20:23:04.714783",
     "exception": false,
     "start_time": "2025-03-14T20:23:04.706297",
     "status": "completed"
    },
    "tags": []
   },
   "source": [
    "That isn't great grammar!\n",
    "\n",
    "Modify the definition in the cell below to correct the grammar of our print statement. (If there's only one candy, we should use the singular \"candy\" instead of the plural \"candies\")"
   ]
  },
  {
   "cell_type": "code",
   "execution_count": 6,
   "id": "c3e8c1eb",
   "metadata": {
    "execution": {
     "iopub.execute_input": "2025-03-14T20:23:04.733519Z",
     "iopub.status.busy": "2025-03-14T20:23:04.733159Z",
     "iopub.status.idle": "2025-03-14T20:23:04.742882Z",
     "shell.execute_reply": "2025-03-14T20:23:04.741628Z"
    },
    "papermill": {
     "duration": 0.02205,
     "end_time": "2025-03-14T20:23:04.745407",
     "exception": false,
     "start_time": "2025-03-14T20:23:04.723357",
     "status": "completed"
    },
    "tags": []
   },
   "outputs": [
    {
     "name": "stdout",
     "output_type": "stream",
     "text": [
      "Splitting 91 candies\n",
      "Splitting 1 candy\n"
     ]
    },
    {
     "data": {
      "text/plain": [
       "1"
      ]
     },
     "execution_count": 6,
     "metadata": {},
     "output_type": "execute_result"
    }
   ],
   "source": [
    "def to_smash(total_candies):\n",
    "    \"\"\"Return the number of leftover candies that must be smashed after distributing\n",
    "    the given number of candies evenly between 3 friends.\n",
    "    \n",
    "    >>> to_smash(91)\n",
    "    1\n",
    "    \"\"\"\n",
    "    if total_candies > 1:\n",
    "        print(\"Splitting\", total_candies, \"candies\")\n",
    "    else:\n",
    "        print(\"Splitting\", total_candies, \"candy\")    \n",
    "    return total_candies % 3\n",
    "to_smash(91)\n",
    "to_smash(1)"
   ]
  },
  {
   "cell_type": "code",
   "execution_count": 7,
   "id": "de87601c",
   "metadata": {
    "execution": {
     "iopub.execute_input": "2025-03-14T20:23:04.764626Z",
     "iopub.status.busy": "2025-03-14T20:23:04.764249Z",
     "iopub.status.idle": "2025-03-14T20:23:04.774218Z",
     "shell.execute_reply": "2025-03-14T20:23:04.772596Z"
    },
    "papermill": {
     "duration": 0.022238,
     "end_time": "2025-03-14T20:23:04.776601",
     "exception": false,
     "start_time": "2025-03-14T20:23:04.754363",
     "status": "completed"
    },
    "tags": []
   },
   "outputs": [
    {
     "name": "stdout",
     "output_type": "stream",
     "text": [
      "Splitting 91 candies\n",
      "Splitting 1 candy\n"
     ]
    },
    {
     "data": {
      "text/plain": [
       "1"
      ]
     },
     "execution_count": 7,
     "metadata": {},
     "output_type": "execute_result"
    }
   ],
   "source": [
    "def to_smash(total_candies):\n",
    "    print(\"Splitting\", total_candies,\"candies\" if total_candies > 1 else \"candy\")\n",
    "    return total_candies % 3\n",
    "to_smash(91)\n",
    "to_smash(1)"
   ]
  },
  {
   "cell_type": "markdown",
   "id": "547b3835",
   "metadata": {
    "papermill": {
     "duration": 0.008635,
     "end_time": "2025-03-14T20:23:04.794565",
     "exception": false,
     "start_time": "2025-03-14T20:23:04.785930",
     "status": "completed"
    },
    "tags": []
   },
   "source": [
    "To get credit for completing this problem, and to see the official answer, run the code cell below."
   ]
  },
  {
   "cell_type": "code",
   "execution_count": 8,
   "id": "2acab87f",
   "metadata": {
    "execution": {
     "iopub.execute_input": "2025-03-14T20:23:04.814649Z",
     "iopub.status.busy": "2025-03-14T20:23:04.814243Z",
     "iopub.status.idle": "2025-03-14T20:23:04.823720Z",
     "shell.execute_reply": "2025-03-14T20:23:04.822318Z"
    },
    "papermill": {
     "duration": 0.022207,
     "end_time": "2025-03-14T20:23:04.825897",
     "exception": false,
     "start_time": "2025-03-14T20:23:04.803690",
     "status": "completed"
    },
    "tags": []
   },
   "outputs": [
    {
     "data": {
      "application/javascript": [
       "parent.postMessage({\"jupyterEvent\": \"custom.exercise_interaction\", \"data\": {\"interactionType\": 3, \"questionType\": 4, \"questionId\": \"2_PluralizationProblem\", \"learnToolsVersion\": \"0.3.4\", \"valueTowardsCompletion\": 0.0, \"failureMessage\": \"\", \"exceptionClass\": \"\", \"trace\": \"\", \"outcomeType\": 4}}, \"*\")"
      ],
      "text/plain": [
       "<IPython.core.display.Javascript object>"
      ]
     },
     "metadata": {},
     "output_type": "display_data"
    },
    {
     "data": {
      "text/markdown": [
       "<span style=\"color:#33cc99\">Solution:</span> A straightforward (and totally fine) solution is to replace the original `print` call with:\n",
       "\n",
       "```python\n",
       "if total_candies == 1:\n",
       "    print(\"Splitting 1 candy\")\n",
       "else:\n",
       "    print(\"Splitting\", total_candies, \"candies\")\n",
       "```\n",
       "\n",
       "Here's a slightly more succinct solution using a conditional expression:\n",
       "\n",
       "```python\n",
       "print(\"Splitting\", total_candies, \"candy\" if total_candies == 1 else \"candies\")\n",
       "```"
      ],
      "text/plain": [
       "Solution: A straightforward (and totally fine) solution is to replace the original `print` call with:\n",
       "\n",
       "```python\n",
       "if total_candies == 1:\n",
       "    print(\"Splitting 1 candy\")\n",
       "else:\n",
       "    print(\"Splitting\", total_candies, \"candies\")\n",
       "```\n",
       "\n",
       "Here's a slightly more succinct solution using a conditional expression:\n",
       "\n",
       "```python\n",
       "print(\"Splitting\", total_candies, \"candy\" if total_candies == 1 else \"candies\")\n",
       "```"
      ]
     },
     "metadata": {},
     "output_type": "display_data"
    }
   ],
   "source": [
    "# Check your answer (Run this code cell to receive credit!)\n",
    "q2.solution()"
   ]
  },
  {
   "cell_type": "markdown",
   "id": "ba5f08a8",
   "metadata": {
    "papermill": {
     "duration": 0.00845,
     "end_time": "2025-03-14T20:23:04.843351",
     "exception": false,
     "start_time": "2025-03-14T20:23:04.834901",
     "status": "completed"
    },
    "tags": []
   },
   "source": [
    "# 3. <span title=\"A bit spicy\" style=\"color: darkgreen \">🌶️</span>\n",
    "\n",
    "In the tutorial, we talked about deciding whether we're prepared for the weather. I said that I'm safe from today's weather if...\n",
    "- I have an umbrella...\n",
    "- or if the rain isn't too heavy and I have a hood...\n",
    "- otherwise, I'm still fine unless it's raining *and* it's a workday\n",
    "\n",
    "The function below uses our first attempt at turning this logic into a Python expression. I claimed that there was a bug in that code. Can you find it?\n",
    "\n",
    "To prove that `prepared_for_weather` is buggy, come up with a set of inputs where either:\n",
    "- the function returns `False` (but should have returned `True`), or\n",
    "- the function returned `True` (but should have returned `False`).\n",
    "\n",
    "To get credit for completing this question, your code should return a <font color='#33cc33'>Correct</font> result."
   ]
  },
  {
   "cell_type": "code",
   "execution_count": 9,
   "id": "f4058896",
   "metadata": {
    "execution": {
     "iopub.execute_input": "2025-03-14T20:23:04.864505Z",
     "iopub.status.busy": "2025-03-14T20:23:04.864026Z",
     "iopub.status.idle": "2025-03-14T20:23:04.875783Z",
     "shell.execute_reply": "2025-03-14T20:23:04.874587Z"
    },
    "papermill": {
     "duration": 0.025407,
     "end_time": "2025-03-14T20:23:04.878057",
     "exception": false,
     "start_time": "2025-03-14T20:23:04.852650",
     "status": "completed"
    },
    "tags": []
   },
   "outputs": [
    {
     "name": "stdout",
     "output_type": "stream",
     "text": [
      "False\n"
     ]
    },
    {
     "data": {
      "application/javascript": [
       "parent.postMessage({\"jupyterEvent\": \"custom.exercise_interaction\", \"data\": {\"outcomeType\": 1, \"valueTowardsCompletion\": 0.2, \"interactionType\": 1, \"questionType\": 1, \"questionId\": \"3_WeatherDebug\", \"learnToolsVersion\": \"0.3.4\", \"failureMessage\": \"\", \"exceptionClass\": \"\", \"trace\": \"\"}}, \"*\")"
      ],
      "text/plain": [
       "<IPython.core.display.Javascript object>"
      ]
     },
     "metadata": {},
     "output_type": "display_data"
    },
    {
     "data": {
      "text/markdown": [
       "<span style=\"color:#33cc33\">Correct:</span> \n",
       "\n",
       "One example of a failing test case is:\n",
       "\n",
       "```python\n",
       "have_umbrella = False\n",
       "rain_level = 0.0\n",
       "have_hood = False\n",
       "is_workday = False\n",
       "```\n",
       "\n",
       "Clearly we're prepared for the weather in this case. It's not raining. Not only that, it's not a workday, so we don't even need to leave the house! But our function will return False on these inputs.\n",
       "\n",
       "The key problem is that Python implictly parenthesizes the last part as:\n",
       "\n",
       "```python\n",
       "(not (rain_level > 0)) and is_workday\n",
       "```\n",
       "\n",
       "Whereas what we were trying to express would look more like:\n",
       "\n",
       "```python\n",
       "not (rain_level > 0 and is_workday)\n",
       "```\n"
      ],
      "text/plain": [
       "Correct: \n",
       "\n",
       "One example of a failing test case is:\n",
       "\n",
       "```python\n",
       "have_umbrella = False\n",
       "rain_level = 0.0\n",
       "have_hood = False\n",
       "is_workday = False\n",
       "```\n",
       "\n",
       "Clearly we're prepared for the weather in this case. It's not raining. Not only that, it's not a workday, so we don't even need to leave the house! But our function will return False on these inputs.\n",
       "\n",
       "The key problem is that Python implictly parenthesizes the last part as:\n",
       "\n",
       "```python\n",
       "(not (rain_level > 0)) and is_workday\n",
       "```\n",
       "\n",
       "Whereas what we were trying to express would look more like:\n",
       "\n",
       "```python\n",
       "not (rain_level > 0 and is_workday)\n",
       "```"
      ]
     },
     "metadata": {},
     "output_type": "display_data"
    }
   ],
   "source": [
    "def prepared_for_weather(have_umbrella, rain_level, have_hood, is_workday):\n",
    "    # Don't change this code. Our goal is just to find the bug, not fix it!\n",
    "    return have_umbrella or rain_level < 5 and have_hood or not rain_level > 0 and is_workday\n",
    "\n",
    "# Change the values of these inputs so they represent a case where prepared_for_weather\n",
    "# returns the wrong answer.\n",
    "have_umbrella = False\n",
    "rain_level = 6.0\n",
    "have_hood = True\n",
    "is_workday = False\n",
    "\n",
    "# Check what the function returns given the current values of the variables above\n",
    "actual = prepared_for_weather(have_umbrella, rain_level, have_hood, is_workday)\n",
    "print(actual)\n",
    "\n",
    "# Check your answer\n",
    "q3.check()"
   ]
  },
  {
   "cell_type": "code",
   "execution_count": 10,
   "id": "4821ea23",
   "metadata": {
    "execution": {
     "iopub.execute_input": "2025-03-14T20:23:04.899482Z",
     "iopub.status.busy": "2025-03-14T20:23:04.899071Z",
     "iopub.status.idle": "2025-03-14T20:23:04.903458Z",
     "shell.execute_reply": "2025-03-14T20:23:04.902228Z"
    },
    "papermill": {
     "duration": 0.017135,
     "end_time": "2025-03-14T20:23:04.905298",
     "exception": false,
     "start_time": "2025-03-14T20:23:04.888163",
     "status": "completed"
    },
    "tags": []
   },
   "outputs": [],
   "source": [
    "#q3.hint()\n",
    "#q3.solution()"
   ]
  },
  {
   "cell_type": "markdown",
   "id": "0f6efeec",
   "metadata": {
    "papermill": {
     "duration": 0.009785,
     "end_time": "2025-03-14T20:23:04.925207",
     "exception": false,
     "start_time": "2025-03-14T20:23:04.915422",
     "status": "completed"
    },
    "tags": []
   },
   "source": [
    "# 4.\n",
    "\n",
    "The function `is_negative` below is implemented correctly - it returns True if the given number is negative and False otherwise.\n",
    "\n",
    "However, it's more verbose than it needs to be. We can actually reduce the number of lines of code in this function by *75%* while keeping the same behaviour. \n",
    "\n",
    "See if you can come up with an equivalent body that uses just **one line** of code, and put it in the function `concise_is_negative`. (HINT: you don't even need Python's ternary syntax)"
   ]
  },
  {
   "cell_type": "code",
   "execution_count": 11,
   "id": "8a3d2314",
   "metadata": {
    "execution": {
     "iopub.execute_input": "2025-03-14T20:23:04.946405Z",
     "iopub.status.busy": "2025-03-14T20:23:04.945985Z",
     "iopub.status.idle": "2025-03-14T20:23:04.955635Z",
     "shell.execute_reply": "2025-03-14T20:23:04.954425Z"
    },
    "papermill": {
     "duration": 0.022716,
     "end_time": "2025-03-14T20:23:04.957439",
     "exception": false,
     "start_time": "2025-03-14T20:23:04.934723",
     "status": "completed"
    },
    "tags": []
   },
   "outputs": [
    {
     "data": {
      "application/javascript": [
       "parent.postMessage({\"jupyterEvent\": \"custom.exercise_interaction\", \"data\": {\"outcomeType\": 1, \"valueTowardsCompletion\": 0.2, \"interactionType\": 1, \"questionType\": 2, \"questionId\": \"4_ConciseIsNegative\", \"learnToolsVersion\": \"0.3.4\", \"failureMessage\": \"\", \"exceptionClass\": \"\", \"trace\": \"\"}}, \"*\")"
      ],
      "text/plain": [
       "<IPython.core.display.Javascript object>"
      ]
     },
     "metadata": {},
     "output_type": "display_data"
    },
    {
     "data": {
      "text/markdown": [
       "<span style=\"color:#33cc33\">Correct</span>"
      ],
      "text/plain": [
       "Correct"
      ]
     },
     "metadata": {},
     "output_type": "display_data"
    }
   ],
   "source": [
    "def is_negative(number):\n",
    "    if number < 0:\n",
    "        return True\n",
    "    else:\n",
    "        return False\n",
    "\n",
    "def concise_is_negative(number):\n",
    "    return number < 0\n",
    "    \n",
    "# Check your answer\n",
    "q4.check()"
   ]
  },
  {
   "cell_type": "code",
   "execution_count": 12,
   "id": "0c1a0b3b",
   "metadata": {
    "execution": {
     "iopub.execute_input": "2025-03-14T20:23:04.980128Z",
     "iopub.status.busy": "2025-03-14T20:23:04.979640Z",
     "iopub.status.idle": "2025-03-14T20:23:04.984162Z",
     "shell.execute_reply": "2025-03-14T20:23:04.982883Z"
    },
    "papermill": {
     "duration": 0.018114,
     "end_time": "2025-03-14T20:23:04.986242",
     "exception": false,
     "start_time": "2025-03-14T20:23:04.968128",
     "status": "completed"
    },
    "tags": []
   },
   "outputs": [],
   "source": [
    "#q4.hint()\n",
    "#q4.solution()"
   ]
  },
  {
   "cell_type": "markdown",
   "id": "3586df72",
   "metadata": {
    "papermill": {
     "duration": 0.009223,
     "end_time": "2025-03-14T20:23:05.005321",
     "exception": false,
     "start_time": "2025-03-14T20:23:04.996098",
     "status": "completed"
    },
    "tags": []
   },
   "source": [
    "# 5a.\n",
    "\n",
    "The boolean variables `ketchup`, `mustard` and `onion` represent whether a customer wants a particular topping on their hot dog. We want to implement a number of boolean functions that correspond to some yes-or-no questions about the customer's order. For example:"
   ]
  },
  {
   "cell_type": "code",
   "execution_count": 13,
   "id": "a1b54dc1",
   "metadata": {
    "execution": {
     "iopub.execute_input": "2025-03-14T20:23:05.026045Z",
     "iopub.status.busy": "2025-03-14T20:23:05.025542Z",
     "iopub.status.idle": "2025-03-14T20:23:05.030760Z",
     "shell.execute_reply": "2025-03-14T20:23:05.029522Z"
    },
    "papermill": {
     "duration": 0.018406,
     "end_time": "2025-03-14T20:23:05.033331",
     "exception": false,
     "start_time": "2025-03-14T20:23:05.014925",
     "status": "completed"
    },
    "tags": []
   },
   "outputs": [],
   "source": [
    "def onionless(ketchup, mustard, onion):\n",
    "    \"\"\"Return whether the customer doesn't want onions.\n",
    "    \"\"\"\n",
    "    return not onion"
   ]
  },
  {
   "cell_type": "code",
   "execution_count": 14,
   "id": "29152f98",
   "metadata": {
    "execution": {
     "iopub.execute_input": "2025-03-14T20:23:05.054798Z",
     "iopub.status.busy": "2025-03-14T20:23:05.054359Z",
     "iopub.status.idle": "2025-03-14T20:23:05.064223Z",
     "shell.execute_reply": "2025-03-14T20:23:05.062749Z"
    },
    "papermill": {
     "duration": 0.022787,
     "end_time": "2025-03-14T20:23:05.066196",
     "exception": false,
     "start_time": "2025-03-14T20:23:05.043409",
     "status": "completed"
    },
    "tags": []
   },
   "outputs": [
    {
     "data": {
      "application/javascript": [
       "parent.postMessage({\"jupyterEvent\": \"custom.exercise_interaction\", \"data\": {\"outcomeType\": 1, \"valueTowardsCompletion\": 0.2, \"interactionType\": 1, \"questionType\": 2, \"questionId\": \"5.1_AllToppings\", \"learnToolsVersion\": \"0.3.4\", \"failureMessage\": \"\", \"exceptionClass\": \"\", \"trace\": \"\"}}, \"*\")"
      ],
      "text/plain": [
       "<IPython.core.display.Javascript object>"
      ]
     },
     "metadata": {},
     "output_type": "display_data"
    },
    {
     "data": {
      "text/markdown": [
       "<span style=\"color:#33cc33\">Correct</span>"
      ],
      "text/plain": [
       "Correct"
      ]
     },
     "metadata": {},
     "output_type": "display_data"
    }
   ],
   "source": [
    "def wants_all_toppings(ketchup, mustard, onion):\n",
    "    \"\"\"Return whether the customer wants \"the works\" (all 3 toppings)\n",
    "    \"\"\"\n",
    "    return ketchup and mustard and onion\n",
    "\n",
    "# Check your answer\n",
    "q5.a.check()"
   ]
  },
  {
   "cell_type": "code",
   "execution_count": 15,
   "id": "ea3ac973",
   "metadata": {
    "execution": {
     "iopub.execute_input": "2025-03-14T20:23:05.088174Z",
     "iopub.status.busy": "2025-03-14T20:23:05.087699Z",
     "iopub.status.idle": "2025-03-14T20:23:05.092247Z",
     "shell.execute_reply": "2025-03-14T20:23:05.090965Z"
    },
    "papermill": {
     "duration": 0.017767,
     "end_time": "2025-03-14T20:23:05.094217",
     "exception": false,
     "start_time": "2025-03-14T20:23:05.076450",
     "status": "completed"
    },
    "tags": []
   },
   "outputs": [],
   "source": [
    "#q5.a.hint()\n",
    "#q5.a.solution()"
   ]
  },
  {
   "cell_type": "markdown",
   "id": "3739b7c4",
   "metadata": {
    "papermill": {
     "duration": 0.009479,
     "end_time": "2025-03-14T20:23:05.114258",
     "exception": false,
     "start_time": "2025-03-14T20:23:05.104779",
     "status": "completed"
    },
    "tags": []
   },
   "source": [
    "# 5b.\n",
    "\n",
    "For the next function, fill in the body to match the English description in the docstring. "
   ]
  },
  {
   "cell_type": "code",
   "execution_count": 16,
   "id": "8d4ae27c",
   "metadata": {
    "execution": {
     "iopub.execute_input": "2025-03-14T20:23:05.136084Z",
     "iopub.status.busy": "2025-03-14T20:23:05.135615Z",
     "iopub.status.idle": "2025-03-14T20:23:05.145922Z",
     "shell.execute_reply": "2025-03-14T20:23:05.144162Z"
    },
    "papermill": {
     "duration": 0.023755,
     "end_time": "2025-03-14T20:23:05.148095",
     "exception": false,
     "start_time": "2025-03-14T20:23:05.124340",
     "status": "completed"
    },
    "tags": []
   },
   "outputs": [
    {
     "data": {
      "application/javascript": [
       "parent.postMessage({\"jupyterEvent\": \"custom.exercise_interaction\", \"data\": {\"outcomeType\": 1, \"valueTowardsCompletion\": 0.2, \"interactionType\": 1, \"questionType\": 2, \"questionId\": \"5.2_PlainDog\", \"learnToolsVersion\": \"0.3.4\", \"failureMessage\": \"\", \"exceptionClass\": \"\", \"trace\": \"\"}}, \"*\")"
      ],
      "text/plain": [
       "<IPython.core.display.Javascript object>"
      ]
     },
     "metadata": {},
     "output_type": "display_data"
    },
    {
     "data": {
      "text/markdown": [
       "<span style=\"color:#33cc33\">Correct:</span> \n",
       "\n",
       "One solution looks like:\n",
       "```python\n",
       "return not ketchup and not mustard and not onion\n",
       "```\n",
       "\n",
       "We can also [\"factor out\" the nots](https://en.wikipedia.org/wiki/De_Morgan%27s_laws) to get:\n",
       "\n",
       "```python\n",
       "return not (ketchup or mustard or onion)\n",
       "```"
      ],
      "text/plain": [
       "Correct: \n",
       "\n",
       "One solution looks like:\n",
       "```python\n",
       "return not ketchup and not mustard and not onion\n",
       "```\n",
       "\n",
       "We can also [\"factor out\" the nots](https://en.wikipedia.org/wiki/De_Morgan%27s_laws) to get:\n",
       "\n",
       "```python\n",
       "return not (ketchup or mustard or onion)\n",
       "```"
      ]
     },
     "metadata": {},
     "output_type": "display_data"
    }
   ],
   "source": [
    "def wants_plain_hotdog(ketchup, mustard, onion):\n",
    "    \"\"\"Return whether the customer wants a plain hot dog with no toppings.\n",
    "    \"\"\"\n",
    "    return not (ketchup or mustard or onion)\n",
    "\n",
    "# Check your answer\n",
    "q5.b.check()"
   ]
  },
  {
   "cell_type": "code",
   "execution_count": 17,
   "id": "1ec11983",
   "metadata": {
    "execution": {
     "iopub.execute_input": "2025-03-14T20:23:05.172697Z",
     "iopub.status.busy": "2025-03-14T20:23:05.172139Z",
     "iopub.status.idle": "2025-03-14T20:23:05.177237Z",
     "shell.execute_reply": "2025-03-14T20:23:05.175852Z"
    },
    "papermill": {
     "duration": 0.019991,
     "end_time": "2025-03-14T20:23:05.179453",
     "exception": false,
     "start_time": "2025-03-14T20:23:05.159462",
     "status": "completed"
    },
    "tags": []
   },
   "outputs": [],
   "source": [
    "#q5.b.hint()\n",
    "#q5.b.solution()"
   ]
  },
  {
   "cell_type": "markdown",
   "id": "7501551b",
   "metadata": {
    "papermill": {
     "duration": 0.009706,
     "end_time": "2025-03-14T20:23:05.200498",
     "exception": false,
     "start_time": "2025-03-14T20:23:05.190792",
     "status": "completed"
    },
    "tags": []
   },
   "source": [
    "# 5c.\n",
    "\n",
    "You know what to do: for the next function, fill in the body to match the English description in the docstring."
   ]
  },
  {
   "cell_type": "code",
   "execution_count": 18,
   "id": "d44dbeed",
   "metadata": {
    "execution": {
     "iopub.execute_input": "2025-03-14T20:23:05.222418Z",
     "iopub.status.busy": "2025-03-14T20:23:05.221985Z",
     "iopub.status.idle": "2025-03-14T20:23:05.230927Z",
     "shell.execute_reply": "2025-03-14T20:23:05.229713Z"
    },
    "papermill": {
     "duration": 0.022261,
     "end_time": "2025-03-14T20:23:05.232940",
     "exception": false,
     "start_time": "2025-03-14T20:23:05.210679",
     "status": "completed"
    },
    "tags": []
   },
   "outputs": [
    {
     "data": {
      "application/javascript": [
       "parent.postMessage({\"jupyterEvent\": \"custom.exercise_interaction\", \"data\": {\"outcomeType\": 1, \"valueTowardsCompletion\": 0.2, \"interactionType\": 1, \"questionType\": 2, \"questionId\": \"5.3_OneSauce\", \"learnToolsVersion\": \"0.3.4\", \"failureMessage\": \"\", \"exceptionClass\": \"\", \"trace\": \"\"}}, \"*\")"
      ],
      "text/plain": [
       "<IPython.core.display.Javascript object>"
      ]
     },
     "metadata": {},
     "output_type": "display_data"
    },
    {
     "data": {
      "text/markdown": [
       "<span style=\"color:#33cc33\">Correct</span>"
      ],
      "text/plain": [
       "Correct"
      ]
     },
     "metadata": {},
     "output_type": "display_data"
    }
   ],
   "source": [
    "def exactly_one_sauce(ketchup, mustard, onion):\n",
    "    \"\"\"Return whether the customer wants either ketchup or mustard, but not both.\n",
    "    (You may be familiar with this operation under the name \"exclusive or\")\n",
    "    \"\"\"\n",
    "    return ketchup ^ mustard\n",
    "\n",
    "# Check your answer\n",
    "q5.c.check()"
   ]
  },
  {
   "cell_type": "code",
   "execution_count": 19,
   "id": "333c3258",
   "metadata": {
    "execution": {
     "iopub.execute_input": "2025-03-14T20:23:05.255725Z",
     "iopub.status.busy": "2025-03-14T20:23:05.255180Z",
     "iopub.status.idle": "2025-03-14T20:23:05.259602Z",
     "shell.execute_reply": "2025-03-14T20:23:05.258481Z"
    },
    "papermill": {
     "duration": 0.017831,
     "end_time": "2025-03-14T20:23:05.261440",
     "exception": false,
     "start_time": "2025-03-14T20:23:05.243609",
     "status": "completed"
    },
    "tags": []
   },
   "outputs": [],
   "source": [
    "#q5.c.hint()\n",
    "#q5.c.solution()"
   ]
  },
  {
   "cell_type": "markdown",
   "id": "5298e0ad",
   "metadata": {
    "papermill": {
     "duration": 0.010346,
     "end_time": "2025-03-14T20:23:05.282533",
     "exception": false,
     "start_time": "2025-03-14T20:23:05.272187",
     "status": "completed"
    },
    "tags": []
   },
   "source": [
    "# 6. <span title=\"A bit spicy\" style=\"color: darkgreen \">🌶️</span>\n",
    "\n",
    "We’ve seen that calling `bool()` on an integer returns `False` if it’s equal to 0 and `True` otherwise. What happens if we call `int()` on a bool? Try it out in the notebook cell below.\n",
    "\n",
    "Can you take advantage of this to write a succinct function that corresponds to the English sentence \"does the customer want exactly one topping?\"?"
   ]
  },
  {
   "cell_type": "code",
   "execution_count": 20,
   "id": "9f65d798",
   "metadata": {
    "execution": {
     "iopub.execute_input": "2025-03-14T20:23:05.305099Z",
     "iopub.status.busy": "2025-03-14T20:23:05.304645Z",
     "iopub.status.idle": "2025-03-14T20:23:05.313192Z",
     "shell.execute_reply": "2025-03-14T20:23:05.312136Z"
    },
    "papermill": {
     "duration": 0.021827,
     "end_time": "2025-03-14T20:23:05.315013",
     "exception": false,
     "start_time": "2025-03-14T20:23:05.293186",
     "status": "completed"
    },
    "tags": []
   },
   "outputs": [
    {
     "data": {
      "application/javascript": [
       "parent.postMessage({\"jupyterEvent\": \"custom.exercise_interaction\", \"data\": {\"outcomeType\": 1, \"valueTowardsCompletion\": 0.2, \"interactionType\": 1, \"questionType\": 2, \"questionId\": \"6_OneTopping\", \"learnToolsVersion\": \"0.3.4\", \"failureMessage\": \"\", \"exceptionClass\": \"\", \"trace\": \"\"}}, \"*\")"
      ],
      "text/plain": [
       "<IPython.core.display.Javascript object>"
      ]
     },
     "metadata": {},
     "output_type": "display_data"
    },
    {
     "data": {
      "text/markdown": [
       "<span style=\"color:#33cc33\">Correct:</span> \n",
       "\n",
       "This condition would be pretty complicated to express using just `and`, `or` and `not`, but using boolean-to-integer conversion gives us this short solution:\n",
       "```python\n",
       "return (int(ketchup) + int(mustard) + int(onion)) == 1\n",
       "```\n",
       "\n",
       "Fun fact: we don't technically need to call `int` on the arguments. Just by doing addition with booleans, Python implicitly does the integer conversion. So we could also write...\n",
       "\n",
       "```python\n",
       "return (ketchup + mustard + onion) == 1\n",
       "```"
      ],
      "text/plain": [
       "Correct: \n",
       "\n",
       "This condition would be pretty complicated to express using just `and`, `or` and `not`, but using boolean-to-integer conversion gives us this short solution:\n",
       "```python\n",
       "return (int(ketchup) + int(mustard) + int(onion)) == 1\n",
       "```\n",
       "\n",
       "Fun fact: we don't technically need to call `int` on the arguments. Just by doing addition with booleans, Python implicitly does the integer conversion. So we could also write...\n",
       "\n",
       "```python\n",
       "return (ketchup + mustard + onion) == 1\n",
       "```"
      ]
     },
     "metadata": {},
     "output_type": "display_data"
    }
   ],
   "source": [
    "def exactly_one_topping(ketchup, mustard, onion):\n",
    "    \"\"\"Return whether the customer wants exactly one of the three available toppings\n",
    "    on their hot dog.\n",
    "    \"\"\"\n",
    "    return (ketchup + mustard + onion) == 1\n",
    "\n",
    "# Check your answer\n",
    "q6.check()"
   ]
  },
  {
   "cell_type": "code",
   "execution_count": 21,
   "id": "77d5ae99",
   "metadata": {
    "execution": {
     "iopub.execute_input": "2025-03-14T20:23:05.337765Z",
     "iopub.status.busy": "2025-03-14T20:23:05.337339Z",
     "iopub.status.idle": "2025-03-14T20:23:05.341594Z",
     "shell.execute_reply": "2025-03-14T20:23:05.340498Z"
    },
    "papermill": {
     "duration": 0.017714,
     "end_time": "2025-03-14T20:23:05.343398",
     "exception": false,
     "start_time": "2025-03-14T20:23:05.325684",
     "status": "completed"
    },
    "tags": []
   },
   "outputs": [],
   "source": [
    "#q6.hint()\n",
    "#q6.solution()"
   ]
  },
  {
   "cell_type": "markdown",
   "id": "05dc50ac",
   "metadata": {
    "papermill": {
     "duration": 0.010345,
     "end_time": "2025-03-14T20:23:05.365265",
     "exception": false,
     "start_time": "2025-03-14T20:23:05.354920",
     "status": "completed"
    },
    "tags": []
   },
   "source": [
    "# 7. <span title=\"A bit spicy\" style=\"color: darkgreen \">🌶️</span> (Optional)\n",
    "\n",
    "In this problem we'll be working with a simplified version of [blackjack](https://en.wikipedia.org/wiki/Blackjack) (aka twenty-one). In this version there is one player (who you'll control) and a dealer. Play proceeds as follows:\n",
    "\n",
    "- The player is dealt two face-up cards. The dealer is dealt one face-up card.\n",
    "- The player may ask to be dealt another card ('hit') as many times as they wish. If the sum of their cards exceeds 21, they lose the round immediately.\n",
    "- The dealer then deals additional cards to himself until either:\n",
    "    - the sum of the dealer's cards exceeds 21, in which case the player wins the round\n",
    "    - the sum of the dealer's cards is greater than or equal to 17. If the player's total is greater than the dealer's, the player wins. Otherwise, the dealer wins (even in case of a tie).\n",
    "    \n",
    "When calculating the sum of cards, Jack, Queen, and King count for 10. Aces can count as 1 or 11 (when referring to a player's \"total\" above, we mean the largest total that can be made without exceeding 21. So e.g. A+8 = 19, A+8+8 = 17)\n",
    "\n",
    "For this problem, you'll write a function representing the player's decision-making strategy in this game. We've provided a very unintelligent implementation below:"
   ]
  },
  {
   "cell_type": "code",
   "execution_count": 22,
   "id": "aa427038",
   "metadata": {
    "execution": {
     "iopub.execute_input": "2025-03-14T20:23:05.389127Z",
     "iopub.status.busy": "2025-03-14T20:23:05.388648Z",
     "iopub.status.idle": "2025-03-14T20:23:05.393769Z",
     "shell.execute_reply": "2025-03-14T20:23:05.392422Z"
    },
    "papermill": {
     "duration": 0.019959,
     "end_time": "2025-03-14T20:23:05.395940",
     "exception": false,
     "start_time": "2025-03-14T20:23:05.375981",
     "status": "completed"
    },
    "tags": []
   },
   "outputs": [],
   "source": [
    "def should_hit(dealer_total, player_total, player_low_aces, player_high_aces):\n",
    "    \"\"\"Return True if the player should hit (request another card) given the current game\n",
    "    state, or False if the player should stay.\n",
    "    When calculating a hand's total value, we count aces as \"high\" (with value 11) if doing so\n",
    "    doesn't bring the total above 21, otherwise we count them as low (with value 1). \n",
    "    For example, if the player's hand is {A, A, A, 7}, we will count it as 11 + 1 + 1 + 7,\n",
    "    and therefore set player_total=20, player_low_aces=2, player_high_aces=1.\n",
    "    \"\"\"\n",
    "    return False"
   ]
  },
  {
   "cell_type": "markdown",
   "id": "834f2aab",
   "metadata": {
    "papermill": {
     "duration": 0.010446,
     "end_time": "2025-03-14T20:23:05.417212",
     "exception": false,
     "start_time": "2025-03-14T20:23:05.406766",
     "status": "completed"
    },
    "tags": []
   },
   "source": [
    "This very conservative agent *always* sticks with the hand of two cards that they're dealt.\n",
    "\n",
    "We'll be simulating games between your player agent and our own dealer agent by calling your function.\n",
    "\n",
    "Try running the function below to see an example of a simulated game:"
   ]
  },
  {
   "cell_type": "code",
   "execution_count": 23,
   "id": "5ed9dbc5",
   "metadata": {
    "execution": {
     "iopub.execute_input": "2025-03-14T20:23:05.441536Z",
     "iopub.status.busy": "2025-03-14T20:23:05.441047Z",
     "iopub.status.idle": "2025-03-14T20:23:05.448959Z",
     "shell.execute_reply": "2025-03-14T20:23:05.447926Z"
    },
    "papermill": {
     "duration": 0.021461,
     "end_time": "2025-03-14T20:23:05.450917",
     "exception": false,
     "start_time": "2025-03-14T20:23:05.429456",
     "status": "completed"
    },
    "tags": []
   },
   "outputs": [
    {
     "name": "stdout",
     "output_type": "stream",
     "text": [
      "Player starts with 10 and 2 (total = 12)\n",
      "Dealer starts with 5\n",
      "\n",
      "__Player's turn__\n",
      "Player stays\n",
      "\n",
      "__Dealer's turn__\n",
      "Dealer hits and receives 6. (total = 11)\n",
      "Dealer hits and receives 7. (total = 18)\n",
      "Dealer stands.\n",
      "Dealer wins. 18 >= 12\n"
     ]
    }
   ],
   "source": [
    "q7.simulate_one_game()"
   ]
  },
  {
   "cell_type": "markdown",
   "id": "381bcde9",
   "metadata": {
    "papermill": {
     "duration": 0.010104,
     "end_time": "2025-03-14T20:23:05.471746",
     "exception": false,
     "start_time": "2025-03-14T20:23:05.461642",
     "status": "completed"
    },
    "tags": []
   },
   "source": [
    "The real test of your agent's mettle is their average win rate over many games. Try calling the function below to simulate 50000 games of blackjack (it may take a couple seconds):"
   ]
  },
  {
   "cell_type": "code",
   "execution_count": 24,
   "id": "aaa2ec7b",
   "metadata": {
    "execution": {
     "iopub.execute_input": "2025-03-14T20:23:05.494502Z",
     "iopub.status.busy": "2025-03-14T20:23:05.494057Z",
     "iopub.status.idle": "2025-03-14T20:23:06.585953Z",
     "shell.execute_reply": "2025-03-14T20:23:06.584602Z"
    },
    "papermill": {
     "duration": 1.105741,
     "end_time": "2025-03-14T20:23:06.588170",
     "exception": false,
     "start_time": "2025-03-14T20:23:05.482429",
     "status": "completed"
    },
    "tags": []
   },
   "outputs": [
    {
     "name": "stdout",
     "output_type": "stream",
     "text": [
      "Player won 19004 out of 50000 games (win rate = 38.0%)\n"
     ]
    }
   ],
   "source": [
    "q7.simulate(n_games=50000)"
   ]
  },
  {
   "cell_type": "markdown",
   "id": "ffa6d75b",
   "metadata": {
    "papermill": {
     "duration": 0.010319,
     "end_time": "2025-03-14T20:23:06.609488",
     "exception": false,
     "start_time": "2025-03-14T20:23:06.599169",
     "status": "completed"
    },
    "tags": []
   },
   "source": [
    "Our dumb agent that completely ignores the game state still manages to win shockingly often!\n",
    "\n",
    "Try adding some more smarts to the `should_hit` function and see how it affects the results."
   ]
  },
  {
   "cell_type": "code",
   "execution_count": 25,
   "id": "f99fe64f",
   "metadata": {
    "execution": {
     "iopub.execute_input": "2025-03-14T20:23:06.636110Z",
     "iopub.status.busy": "2025-03-14T20:23:06.635509Z",
     "iopub.status.idle": "2025-03-14T20:23:07.836245Z",
     "shell.execute_reply": "2025-03-14T20:23:07.834955Z"
    },
    "papermill": {
     "duration": 1.215975,
     "end_time": "2025-03-14T20:23:07.838300",
     "exception": false,
     "start_time": "2025-03-14T20:23:06.622325",
     "status": "completed"
    },
    "tags": []
   },
   "outputs": [
    {
     "name": "stdout",
     "output_type": "stream",
     "text": [
      "Player won 19116 out of 50000 games (win rate = 38.2%)\n"
     ]
    }
   ],
   "source": [
    "def should_hit(dealer_total, player_total, player_low_aces, player_high_aces):\n",
    "    \"\"\"Return True if the player should hit (request another card) given the current game\n",
    "    state, or False if the player should stay.\n",
    "    When calculating a hand's total value, we count aces as \"high\" (with value 11) if doing so\n",
    "    doesn't bring the total above 21, otherwise we count them as low (with value 1). \n",
    "    For example, if the player's hand is {A, A, A, 7}, we will count it as 11 + 1 + 1 + 7,\n",
    "    and therefore set player_total=20, player_low_aces=2, player_high_aces=1.\n",
    "    \"\"\"\n",
    "    return False\n",
    "\n",
    "q7.simulate(n_games=50000)"
   ]
  },
  {
   "cell_type": "markdown",
   "id": "ff69482a",
   "metadata": {
    "papermill": {
     "duration": 0.010585,
     "end_time": "2025-03-14T20:23:07.859899",
     "exception": false,
     "start_time": "2025-03-14T20:23:07.849314",
     "status": "completed"
    },
    "tags": []
   },
   "source": [
    "# Keep Going\n",
    "\n",
    "Learn about **[lists and tuples](https://www.kaggle.com/colinmorris/lists)** to handle multiple items of data in a systematic way."
   ]
  },
  {
   "cell_type": "markdown",
   "id": "25772c6e",
   "metadata": {
    "papermill": {
     "duration": 0.01126,
     "end_time": "2025-03-14T20:23:07.882998",
     "exception": false,
     "start_time": "2025-03-14T20:23:07.871738",
     "status": "completed"
    },
    "tags": []
   },
   "source": [
    "---\n",
    "\n",
    "\n",
    "\n",
    "\n",
    "*Have questions or comments? Visit the [course discussion forum](https://www.kaggle.com/learn/python/discussion) to chat with other learners.*"
   ]
  }
 ],
 "metadata": {
  "kaggle": {
   "accelerator": "none",
   "dataSources": [],
   "isGpuEnabled": false,
   "isInternetEnabled": false,
   "language": "python",
   "sourceType": "notebook"
  },
  "kernelspec": {
   "display_name": "Python 3",
   "language": "python",
   "name": "python3"
  },
  "language_info": {
   "codemirror_mode": {
    "name": "ipython",
    "version": 3
   },
   "file_extension": ".py",
   "mimetype": "text/x-python",
   "name": "python",
   "nbconvert_exporter": "python",
   "pygments_lexer": "ipython3",
   "version": "3.10.12"
  },
  "papermill": {
   "default_parameters": {},
   "duration": 8.583266,
   "end_time": "2025-03-14T20:23:08.717028",
   "environment_variables": {},
   "exception": null,
   "input_path": "__notebook__.ipynb",
   "output_path": "__notebook__.ipynb",
   "parameters": {},
   "start_time": "2025-03-14T20:23:00.133762",
   "version": "2.6.0"
  }
 },
 "nbformat": 4,
 "nbformat_minor": 5
}
